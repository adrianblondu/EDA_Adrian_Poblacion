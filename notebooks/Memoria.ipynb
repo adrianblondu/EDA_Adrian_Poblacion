{
 "cells": [
  {
   "attachments": {},
   "cell_type": "markdown",
   "metadata": {},
   "source": [
    "# Esto es un analisis de datos intentando averiguar por que el descenso de población de algunas ciudades de España.\n",
    "### Paso 1: Recopilar datos de instituto nacional de estadistica (INE) y de junta de Andalucia.\n",
    "### Paso 2: Analizar y limpiar dicho datos en busca de posibles NaNs, outliers, etc.\n",
    "### Paso 3: Con los datos limpios, prepararlos para generar graficos y comparar resultados.\n",
    "### Paso 4: Hacer una presentación con todo lo que se ha hecho hasta ahora.\n",
    "### Paso 5: Revisar y finalizar proyecto.\n",
    "### Paso 6: Vete a dormir que es muy tarde!!!"
   ]
  }
 ],
 "metadata": {
  "kernelspec": {
   "display_name": "Python 3",
   "language": "python",
   "name": "python3"
  },
  "language_info": {
   "name": "python",
   "version": "3.10.7 (tags/v3.10.7:6cc6b13, Sep  5 2022, 14:08:36) [MSC v.1933 64 bit (AMD64)]"
  },
  "orig_nbformat": 4,
  "vscode": {
   "interpreter": {
    "hash": "8fbfba7cb8bdca769b43cbb833a817b4ca395e01b4b8dedb589dfb9294fd4e87"
   }
  }
 },
 "nbformat": 4,
 "nbformat_minor": 2
}
