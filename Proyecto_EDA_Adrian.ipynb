{
 "cells": [
  {
   "attachments": {},
   "cell_type": "markdown",
   "metadata": {},
   "source": [
    "# Población España"
   ]
  },
  {
   "attachments": {},
   "cell_type": "markdown",
   "metadata": {},
   "source": [
    "### Importamos librerias necesarias"
   ]
  },
  {
   "cell_type": "code",
   "execution_count": 257,
   "metadata": {},
   "outputs": [],
   "source": [
    "import pandas as pd\n",
    "import re\n",
    "import plotly.graph_objs as go\n",
    "from plotly.offline import iplot\n",
    "import statsmodels.api as sm\n",
    "import matplotlib.pyplot as plt\n",
    "import seaborn as sns\n",
    "from plotly import subplots\n",
    "import plotly.express as px\n",
    "import missingno as msno"
   ]
  },
  {
   "attachments": {},
   "cell_type": "markdown",
   "metadata": {},
   "source": [
    "### Importamos los archivos(fuente:[www.ine.es](https://www.ine.es/index.htm))"
   ]
  },
  {
   "cell_type": "code",
   "execution_count": 263,
   "metadata": {},
   "outputs": [],
   "source": [
    "Poblacion_españa = pd.read_csv(r\"C:\\Users\\adria\\Desktop\\Mi primer proyecto\\EDA\\EDA_Adrian_Poblacion\\data\\Poblacion_España.csv\",sep='\\t')"
   ]
  },
  {
   "cell_type": "code",
   "execution_count": 264,
   "metadata": {},
   "outputs": [
    {
     "data": {
      "text/html": [
       "<div>\n",
       "<style scoped>\n",
       "    .dataframe tbody tr th:only-of-type {\n",
       "        vertical-align: middle;\n",
       "    }\n",
       "\n",
       "    .dataframe tbody tr th {\n",
       "        vertical-align: top;\n",
       "    }\n",
       "\n",
       "    .dataframe thead th {\n",
       "        text-align: right;\n",
       "    }\n",
       "</style>\n",
       "<table border=\"1\" class=\"dataframe\">\n",
       "  <thead>\n",
       "    <tr style=\"text-align: right;\">\n",
       "      <th></th>\n",
       "      <th>Poblacion España</th>\n",
       "      <th>2022</th>\n",
       "    </tr>\n",
       "  </thead>\n",
       "  <tbody>\n",
       "    <tr>\n",
       "      <th>0</th>\n",
       "      <td>Población total</td>\n",
       "      <td>47615034</td>\n",
       "    </tr>\n",
       "    <tr>\n",
       "      <th>1</th>\n",
       "      <td>Hombres</td>\n",
       "      <td>23310627</td>\n",
       "    </tr>\n",
       "    <tr>\n",
       "      <th>2</th>\n",
       "      <td>Mujeres</td>\n",
       "      <td>24304407</td>\n",
       "    </tr>\n",
       "    <tr>\n",
       "      <th>3</th>\n",
       "      <td>Extranjeros</td>\n",
       "      <td>5579947</td>\n",
       "    </tr>\n",
       "  </tbody>\n",
       "</table>\n",
       "</div>"
      ],
      "text/plain": [
       "  Poblacion España      2022\n",
       "0  Población total  47615034\n",
       "1          Hombres  23310627\n",
       "2          Mujeres  24304407\n",
       "3      Extranjeros   5579947"
      ]
     },
     "execution_count": 264,
     "metadata": {},
     "output_type": "execute_result"
    }
   ],
   "source": [
    "Poblacion_españa"
   ]
  },
  {
   "cell_type": "code",
   "execution_count": 267,
   "metadata": {},
   "outputs": [
    {
     "data": {
      "application/vnd.plotly.v1+json": {
       "config": {
        "plotlyServerURL": "https://plot.ly"
       },
       "data": [
        {
         "alignmentgroup": "True",
         "hovertemplate": "2022=%{x}<br>Poblacion España=%{y}<extra></extra>",
         "legendgroup": "",
         "marker": {
          "color": "#636efa",
          "pattern": {
           "shape": ""
          }
         },
         "name": "",
         "offsetgroup": "",
         "orientation": "h",
         "showlegend": false,
         "textposition": "auto",
         "texttemplate": "%{x:.5s}",
         "type": "bar",
         "x": [
          47615034,
          23310627,
          24304407,
          5579947
         ],
         "xaxis": "x",
         "y": [
          "Población total",
          "Hombres",
          "Mujeres",
          "Extranjeros"
         ],
         "yaxis": "y"
        }
       ],
       "layout": {
        "barmode": "relative",
        "legend": {
         "tracegroupgap": 0
        },
        "margin": {
         "t": 60
        },
        "template": {
         "data": {
          "bar": [
           {
            "error_x": {
             "color": "#2a3f5f"
            },
            "error_y": {
             "color": "#2a3f5f"
            },
            "marker": {
             "line": {
              "color": "#E5ECF6",
              "width": 0.5
             },
             "pattern": {
              "fillmode": "overlay",
              "size": 10,
              "solidity": 0.2
             }
            },
            "type": "bar"
           }
          ],
          "barpolar": [
           {
            "marker": {
             "line": {
              "color": "#E5ECF6",
              "width": 0.5
             },
             "pattern": {
              "fillmode": "overlay",
              "size": 10,
              "solidity": 0.2
             }
            },
            "type": "barpolar"
           }
          ],
          "carpet": [
           {
            "aaxis": {
             "endlinecolor": "#2a3f5f",
             "gridcolor": "white",
             "linecolor": "white",
             "minorgridcolor": "white",
             "startlinecolor": "#2a3f5f"
            },
            "baxis": {
             "endlinecolor": "#2a3f5f",
             "gridcolor": "white",
             "linecolor": "white",
             "minorgridcolor": "white",
             "startlinecolor": "#2a3f5f"
            },
            "type": "carpet"
           }
          ],
          "choropleth": [
           {
            "colorbar": {
             "outlinewidth": 0,
             "ticks": ""
            },
            "type": "choropleth"
           }
          ],
          "contour": [
           {
            "colorbar": {
             "outlinewidth": 0,
             "ticks": ""
            },
            "colorscale": [
             [
              0,
              "#0d0887"
             ],
             [
              0.1111111111111111,
              "#46039f"
             ],
             [
              0.2222222222222222,
              "#7201a8"
             ],
             [
              0.3333333333333333,
              "#9c179e"
             ],
             [
              0.4444444444444444,
              "#bd3786"
             ],
             [
              0.5555555555555556,
              "#d8576b"
             ],
             [
              0.6666666666666666,
              "#ed7953"
             ],
             [
              0.7777777777777778,
              "#fb9f3a"
             ],
             [
              0.8888888888888888,
              "#fdca26"
             ],
             [
              1,
              "#f0f921"
             ]
            ],
            "type": "contour"
           }
          ],
          "contourcarpet": [
           {
            "colorbar": {
             "outlinewidth": 0,
             "ticks": ""
            },
            "type": "contourcarpet"
           }
          ],
          "heatmap": [
           {
            "colorbar": {
             "outlinewidth": 0,
             "ticks": ""
            },
            "colorscale": [
             [
              0,
              "#0d0887"
             ],
             [
              0.1111111111111111,
              "#46039f"
             ],
             [
              0.2222222222222222,
              "#7201a8"
             ],
             [
              0.3333333333333333,
              "#9c179e"
             ],
             [
              0.4444444444444444,
              "#bd3786"
             ],
             [
              0.5555555555555556,
              "#d8576b"
             ],
             [
              0.6666666666666666,
              "#ed7953"
             ],
             [
              0.7777777777777778,
              "#fb9f3a"
             ],
             [
              0.8888888888888888,
              "#fdca26"
             ],
             [
              1,
              "#f0f921"
             ]
            ],
            "type": "heatmap"
           }
          ],
          "heatmapgl": [
           {
            "colorbar": {
             "outlinewidth": 0,
             "ticks": ""
            },
            "colorscale": [
             [
              0,
              "#0d0887"
             ],
             [
              0.1111111111111111,
              "#46039f"
             ],
             [
              0.2222222222222222,
              "#7201a8"
             ],
             [
              0.3333333333333333,
              "#9c179e"
             ],
             [
              0.4444444444444444,
              "#bd3786"
             ],
             [
              0.5555555555555556,
              "#d8576b"
             ],
             [
              0.6666666666666666,
              "#ed7953"
             ],
             [
              0.7777777777777778,
              "#fb9f3a"
             ],
             [
              0.8888888888888888,
              "#fdca26"
             ],
             [
              1,
              "#f0f921"
             ]
            ],
            "type": "heatmapgl"
           }
          ],
          "histogram": [
           {
            "marker": {
             "pattern": {
              "fillmode": "overlay",
              "size": 10,
              "solidity": 0.2
             }
            },
            "type": "histogram"
           }
          ],
          "histogram2d": [
           {
            "colorbar": {
             "outlinewidth": 0,
             "ticks": ""
            },
            "colorscale": [
             [
              0,
              "#0d0887"
             ],
             [
              0.1111111111111111,
              "#46039f"
             ],
             [
              0.2222222222222222,
              "#7201a8"
             ],
             [
              0.3333333333333333,
              "#9c179e"
             ],
             [
              0.4444444444444444,
              "#bd3786"
             ],
             [
              0.5555555555555556,
              "#d8576b"
             ],
             [
              0.6666666666666666,
              "#ed7953"
             ],
             [
              0.7777777777777778,
              "#fb9f3a"
             ],
             [
              0.8888888888888888,
              "#fdca26"
             ],
             [
              1,
              "#f0f921"
             ]
            ],
            "type": "histogram2d"
           }
          ],
          "histogram2dcontour": [
           {
            "colorbar": {
             "outlinewidth": 0,
             "ticks": ""
            },
            "colorscale": [
             [
              0,
              "#0d0887"
             ],
             [
              0.1111111111111111,
              "#46039f"
             ],
             [
              0.2222222222222222,
              "#7201a8"
             ],
             [
              0.3333333333333333,
              "#9c179e"
             ],
             [
              0.4444444444444444,
              "#bd3786"
             ],
             [
              0.5555555555555556,
              "#d8576b"
             ],
             [
              0.6666666666666666,
              "#ed7953"
             ],
             [
              0.7777777777777778,
              "#fb9f3a"
             ],
             [
              0.8888888888888888,
              "#fdca26"
             ],
             [
              1,
              "#f0f921"
             ]
            ],
            "type": "histogram2dcontour"
           }
          ],
          "mesh3d": [
           {
            "colorbar": {
             "outlinewidth": 0,
             "ticks": ""
            },
            "type": "mesh3d"
           }
          ],
          "parcoords": [
           {
            "line": {
             "colorbar": {
              "outlinewidth": 0,
              "ticks": ""
             }
            },
            "type": "parcoords"
           }
          ],
          "pie": [
           {
            "automargin": true,
            "type": "pie"
           }
          ],
          "scatter": [
           {
            "fillpattern": {
             "fillmode": "overlay",
             "size": 10,
             "solidity": 0.2
            },
            "type": "scatter"
           }
          ],
          "scatter3d": [
           {
            "line": {
             "colorbar": {
              "outlinewidth": 0,
              "ticks": ""
             }
            },
            "marker": {
             "colorbar": {
              "outlinewidth": 0,
              "ticks": ""
             }
            },
            "type": "scatter3d"
           }
          ],
          "scattercarpet": [
           {
            "marker": {
             "colorbar": {
              "outlinewidth": 0,
              "ticks": ""
             }
            },
            "type": "scattercarpet"
           }
          ],
          "scattergeo": [
           {
            "marker": {
             "colorbar": {
              "outlinewidth": 0,
              "ticks": ""
             }
            },
            "type": "scattergeo"
           }
          ],
          "scattergl": [
           {
            "marker": {
             "colorbar": {
              "outlinewidth": 0,
              "ticks": ""
             }
            },
            "type": "scattergl"
           }
          ],
          "scattermapbox": [
           {
            "marker": {
             "colorbar": {
              "outlinewidth": 0,
              "ticks": ""
             }
            },
            "type": "scattermapbox"
           }
          ],
          "scatterpolar": [
           {
            "marker": {
             "colorbar": {
              "outlinewidth": 0,
              "ticks": ""
             }
            },
            "type": "scatterpolar"
           }
          ],
          "scatterpolargl": [
           {
            "marker": {
             "colorbar": {
              "outlinewidth": 0,
              "ticks": ""
             }
            },
            "type": "scatterpolargl"
           }
          ],
          "scatterternary": [
           {
            "marker": {
             "colorbar": {
              "outlinewidth": 0,
              "ticks": ""
             }
            },
            "type": "scatterternary"
           }
          ],
          "surface": [
           {
            "colorbar": {
             "outlinewidth": 0,
             "ticks": ""
            },
            "colorscale": [
             [
              0,
              "#0d0887"
             ],
             [
              0.1111111111111111,
              "#46039f"
             ],
             [
              0.2222222222222222,
              "#7201a8"
             ],
             [
              0.3333333333333333,
              "#9c179e"
             ],
             [
              0.4444444444444444,
              "#bd3786"
             ],
             [
              0.5555555555555556,
              "#d8576b"
             ],
             [
              0.6666666666666666,
              "#ed7953"
             ],
             [
              0.7777777777777778,
              "#fb9f3a"
             ],
             [
              0.8888888888888888,
              "#fdca26"
             ],
             [
              1,
              "#f0f921"
             ]
            ],
            "type": "surface"
           }
          ],
          "table": [
           {
            "cells": {
             "fill": {
              "color": "#EBF0F8"
             },
             "line": {
              "color": "white"
             }
            },
            "header": {
             "fill": {
              "color": "#C8D4E3"
             },
             "line": {
              "color": "white"
             }
            },
            "type": "table"
           }
          ]
         },
         "layout": {
          "annotationdefaults": {
           "arrowcolor": "#2a3f5f",
           "arrowhead": 0,
           "arrowwidth": 1
          },
          "autotypenumbers": "strict",
          "coloraxis": {
           "colorbar": {
            "outlinewidth": 0,
            "ticks": ""
           }
          },
          "colorscale": {
           "diverging": [
            [
             0,
             "#8e0152"
            ],
            [
             0.1,
             "#c51b7d"
            ],
            [
             0.2,
             "#de77ae"
            ],
            [
             0.3,
             "#f1b6da"
            ],
            [
             0.4,
             "#fde0ef"
            ],
            [
             0.5,
             "#f7f7f7"
            ],
            [
             0.6,
             "#e6f5d0"
            ],
            [
             0.7,
             "#b8e186"
            ],
            [
             0.8,
             "#7fbc41"
            ],
            [
             0.9,
             "#4d9221"
            ],
            [
             1,
             "#276419"
            ]
           ],
           "sequential": [
            [
             0,
             "#0d0887"
            ],
            [
             0.1111111111111111,
             "#46039f"
            ],
            [
             0.2222222222222222,
             "#7201a8"
            ],
            [
             0.3333333333333333,
             "#9c179e"
            ],
            [
             0.4444444444444444,
             "#bd3786"
            ],
            [
             0.5555555555555556,
             "#d8576b"
            ],
            [
             0.6666666666666666,
             "#ed7953"
            ],
            [
             0.7777777777777778,
             "#fb9f3a"
            ],
            [
             0.8888888888888888,
             "#fdca26"
            ],
            [
             1,
             "#f0f921"
            ]
           ],
           "sequentialminus": [
            [
             0,
             "#0d0887"
            ],
            [
             0.1111111111111111,
             "#46039f"
            ],
            [
             0.2222222222222222,
             "#7201a8"
            ],
            [
             0.3333333333333333,
             "#9c179e"
            ],
            [
             0.4444444444444444,
             "#bd3786"
            ],
            [
             0.5555555555555556,
             "#d8576b"
            ],
            [
             0.6666666666666666,
             "#ed7953"
            ],
            [
             0.7777777777777778,
             "#fb9f3a"
            ],
            [
             0.8888888888888888,
             "#fdca26"
            ],
            [
             1,
             "#f0f921"
            ]
           ]
          },
          "colorway": [
           "#636efa",
           "#EF553B",
           "#00cc96",
           "#ab63fa",
           "#FFA15A",
           "#19d3f3",
           "#FF6692",
           "#B6E880",
           "#FF97FF",
           "#FECB52"
          ],
          "font": {
           "color": "#2a3f5f"
          },
          "geo": {
           "bgcolor": "white",
           "lakecolor": "white",
           "landcolor": "#E5ECF6",
           "showlakes": true,
           "showland": true,
           "subunitcolor": "white"
          },
          "hoverlabel": {
           "align": "left"
          },
          "hovermode": "closest",
          "mapbox": {
           "style": "light"
          },
          "paper_bgcolor": "white",
          "plot_bgcolor": "#E5ECF6",
          "polar": {
           "angularaxis": {
            "gridcolor": "white",
            "linecolor": "white",
            "ticks": ""
           },
           "bgcolor": "#E5ECF6",
           "radialaxis": {
            "gridcolor": "white",
            "linecolor": "white",
            "ticks": ""
           }
          },
          "scene": {
           "xaxis": {
            "backgroundcolor": "#E5ECF6",
            "gridcolor": "white",
            "gridwidth": 2,
            "linecolor": "white",
            "showbackground": true,
            "ticks": "",
            "zerolinecolor": "white"
           },
           "yaxis": {
            "backgroundcolor": "#E5ECF6",
            "gridcolor": "white",
            "gridwidth": 2,
            "linecolor": "white",
            "showbackground": true,
            "ticks": "",
            "zerolinecolor": "white"
           },
           "zaxis": {
            "backgroundcolor": "#E5ECF6",
            "gridcolor": "white",
            "gridwidth": 2,
            "linecolor": "white",
            "showbackground": true,
            "ticks": "",
            "zerolinecolor": "white"
           }
          },
          "shapedefaults": {
           "line": {
            "color": "#2a3f5f"
           }
          },
          "ternary": {
           "aaxis": {
            "gridcolor": "white",
            "linecolor": "white",
            "ticks": ""
           },
           "baxis": {
            "gridcolor": "white",
            "linecolor": "white",
            "ticks": ""
           },
           "bgcolor": "#E5ECF6",
           "caxis": {
            "gridcolor": "white",
            "linecolor": "white",
            "ticks": ""
           }
          },
          "title": {
           "x": 0.05
          },
          "xaxis": {
           "automargin": true,
           "gridcolor": "white",
           "linecolor": "white",
           "ticks": "",
           "title": {
            "standoff": 15
           },
           "zerolinecolor": "white",
           "zerolinewidth": 2
          },
          "yaxis": {
           "automargin": true,
           "gridcolor": "white",
           "linecolor": "white",
           "ticks": "",
           "title": {
            "standoff": 15
           },
           "zerolinecolor": "white",
           "zerolinewidth": 2
          }
         }
        },
        "xaxis": {
         "anchor": "y",
         "domain": [
          0,
          1
         ],
         "title": {
          "text": "2022"
         }
        },
        "yaxis": {
         "anchor": "x",
         "domain": [
          0,
          1
         ],
         "title": {
          "text": "Poblacion España"
         }
        }
       }
      }
     },
     "metadata": {},
     "output_type": "display_data"
    }
   ],
   "source": [
    "fig10 = px.bar(Poblacion_españa,x='2022',y='Poblacion España',text_auto='.5s')\n",
    "fig10.show()"
   ]
  },
  {
   "cell_type": "code",
   "execution_count": 270,
   "metadata": {},
   "outputs": [],
   "source": [
    "nomb_frec_H = pd.read_csv(r\"C:\\Users\\adria\\Desktop\\Mi primer proyecto\\EDA\\EDA_Adrian_Poblacion\\data\\Nombre mas frecuente H.txt\",sep='\\t')"
   ]
  },
  {
   "cell_type": "code",
   "execution_count": 271,
   "metadata": {},
   "outputs": [
    {
     "data": {
      "text/html": [
       "<div>\n",
       "<style scoped>\n",
       "    .dataframe tbody tr th:only-of-type {\n",
       "        vertical-align: middle;\n",
       "    }\n",
       "\n",
       "    .dataframe tbody tr th {\n",
       "        vertical-align: top;\n",
       "    }\n",
       "\n",
       "    .dataframe thead th {\n",
       "        text-align: right;\n",
       "    }\n",
       "</style>\n",
       "<table border=\"1\" class=\"dataframe\">\n",
       "  <thead>\n",
       "    <tr style=\"text-align: right;\">\n",
       "      <th></th>\n",
       "      <th>Nombre</th>\n",
       "      <th>Frecuencia</th>\n",
       "      <th>Edad Media</th>\n",
       "    </tr>\n",
       "  </thead>\n",
       "  <tbody>\n",
       "    <tr>\n",
       "      <th>0</th>\n",
       "      <td>ANTONIO</td>\n",
       "      <td>640.854</td>\n",
       "      <td>57,1</td>\n",
       "    </tr>\n",
       "    <tr>\n",
       "      <th>1</th>\n",
       "      <td>MANUEL</td>\n",
       "      <td>562.798</td>\n",
       "      <td>55,7</td>\n",
       "    </tr>\n",
       "    <tr>\n",
       "      <th>2</th>\n",
       "      <td>JOSE</td>\n",
       "      <td>547.142</td>\n",
       "      <td>62,1</td>\n",
       "    </tr>\n",
       "    <tr>\n",
       "      <th>3</th>\n",
       "      <td>FRANCISCO</td>\n",
       "      <td>467.933</td>\n",
       "      <td>58,7</td>\n",
       "    </tr>\n",
       "    <tr>\n",
       "      <th>4</th>\n",
       "      <td>DAVID</td>\n",
       "      <td>369.633</td>\n",
       "      <td>32,9</td>\n",
       "    </tr>\n",
       "    <tr>\n",
       "      <th>5</th>\n",
       "      <td>JUAN</td>\n",
       "      <td>325.791</td>\n",
       "      <td>56,3</td>\n",
       "    </tr>\n",
       "    <tr>\n",
       "      <th>6</th>\n",
       "      <td>JAVIER</td>\n",
       "      <td>308.465</td>\n",
       "      <td>35,3</td>\n",
       "    </tr>\n",
       "    <tr>\n",
       "      <th>7</th>\n",
       "      <td>JOSE ANTONIO</td>\n",
       "      <td>303.446</td>\n",
       "      <td>51,9</td>\n",
       "    </tr>\n",
       "    <tr>\n",
       "      <th>8</th>\n",
       "      <td>DANIEL</td>\n",
       "      <td>302.864</td>\n",
       "      <td>28,8</td>\n",
       "    </tr>\n",
       "    <tr>\n",
       "      <th>9</th>\n",
       "      <td>FRANCISCO JAVIER</td>\n",
       "      <td>285.853</td>\n",
       "      <td>47,4</td>\n",
       "    </tr>\n",
       "    <tr>\n",
       "      <th>10</th>\n",
       "      <td>JOSE LUIS</td>\n",
       "      <td>285.096</td>\n",
       "      <td>55,4</td>\n",
       "    </tr>\n",
       "    <tr>\n",
       "      <th>11</th>\n",
       "      <td>CARLOS</td>\n",
       "      <td>276.918</td>\n",
       "      <td>40,7</td>\n",
       "    </tr>\n",
       "    <tr>\n",
       "      <th>12</th>\n",
       "      <td>JESUS</td>\n",
       "      <td>268.791</td>\n",
       "      <td>49,9</td>\n",
       "    </tr>\n",
       "    <tr>\n",
       "      <th>13</th>\n",
       "      <td>ALEJANDRO</td>\n",
       "      <td>265.562</td>\n",
       "      <td>27,2</td>\n",
       "    </tr>\n",
       "    <tr>\n",
       "      <th>14</th>\n",
       "      <td>MIGUEL</td>\n",
       "      <td>240.406</td>\n",
       "      <td>47,2</td>\n",
       "    </tr>\n",
       "    <tr>\n",
       "      <th>15</th>\n",
       "      <td>JOSE MANUEL</td>\n",
       "      <td>239.213</td>\n",
       "      <td>49,5</td>\n",
       "    </tr>\n",
       "    <tr>\n",
       "      <th>16</th>\n",
       "      <td>RAFAEL</td>\n",
       "      <td>228.320</td>\n",
       "      <td>52,1</td>\n",
       "    </tr>\n",
       "    <tr>\n",
       "      <th>17</th>\n",
       "      <td>MIGUEL ANGEL</td>\n",
       "      <td>227.786</td>\n",
       "      <td>46,1</td>\n",
       "    </tr>\n",
       "    <tr>\n",
       "      <th>18</th>\n",
       "      <td>PABLO</td>\n",
       "      <td>222.590</td>\n",
       "      <td>28,4</td>\n",
       "    </tr>\n",
       "    <tr>\n",
       "      <th>19</th>\n",
       "      <td>PEDRO</td>\n",
       "      <td>214.374</td>\n",
       "      <td>54,5</td>\n",
       "    </tr>\n",
       "    <tr>\n",
       "      <th>20</th>\n",
       "      <td>ANGEL</td>\n",
       "      <td>213.042</td>\n",
       "      <td>50,9</td>\n",
       "    </tr>\n",
       "  </tbody>\n",
       "</table>\n",
       "</div>"
      ],
      "text/plain": [
       "              Nombre  Frecuencia Edad Media\n",
       "0            ANTONIO     640.854       57,1\n",
       "1             MANUEL     562.798       55,7\n",
       "2               JOSE     547.142       62,1\n",
       "3          FRANCISCO     467.933       58,7\n",
       "4              DAVID     369.633       32,9\n",
       "5               JUAN     325.791       56,3\n",
       "6             JAVIER     308.465       35,3\n",
       "7       JOSE ANTONIO     303.446       51,9\n",
       "8             DANIEL     302.864       28,8\n",
       "9   FRANCISCO JAVIER     285.853       47,4\n",
       "10         JOSE LUIS     285.096       55,4\n",
       "11            CARLOS     276.918       40,7\n",
       "12             JESUS     268.791       49,9\n",
       "13         ALEJANDRO     265.562       27,2\n",
       "14            MIGUEL     240.406       47,2\n",
       "15       JOSE MANUEL     239.213       49,5\n",
       "16            RAFAEL     228.320       52,1\n",
       "17      MIGUEL ANGEL     227.786       46,1\n",
       "18             PABLO     222.590       28,4\n",
       "19             PEDRO     214.374       54,5\n",
       "20             ANGEL     213.042       50,9"
      ]
     },
     "execution_count": 271,
     "metadata": {},
     "output_type": "execute_result"
    }
   ],
   "source": [
    "nomb_frec_H"
   ]
  },
  {
   "cell_type": "code",
   "execution_count": 275,
   "metadata": {},
   "outputs": [
    {
     "data": {
      "application/vnd.plotly.v1+json": {
       "config": {
        "plotlyServerURL": "https://plot.ly"
       },
       "data": [
        {
         "alignmentgroup": "True",
         "hovertemplate": "Frecuencia=%{x}<br>Nombre=%{y}<extra></extra>",
         "legendgroup": "",
         "marker": {
          "color": "#636efa",
          "pattern": {
           "shape": ""
          }
         },
         "name": "",
         "offsetgroup": "",
         "orientation": "h",
         "showlegend": false,
         "textposition": "auto",
         "type": "bar",
         "x": [
          640.854,
          562.798,
          547.142,
          467.933,
          369.633,
          325.791,
          308.465,
          303.446,
          302.864,
          285.853,
          285.096,
          276.918,
          268.791,
          265.562,
          240.406,
          239.213,
          228.32,
          227.786,
          222.59,
          214.374,
          213.042
         ],
         "xaxis": "x",
         "y": [
          "ANTONIO",
          "MANUEL",
          "JOSE",
          "FRANCISCO",
          "DAVID",
          "JUAN",
          "JAVIER",
          "JOSE ANTONIO",
          "DANIEL",
          "FRANCISCO JAVIER",
          "JOSE LUIS",
          "CARLOS",
          "JESUS",
          "ALEJANDRO",
          "MIGUEL",
          "JOSE MANUEL",
          "RAFAEL",
          "MIGUEL ANGEL",
          "PABLO",
          "PEDRO",
          "ANGEL"
         ],
         "yaxis": "y"
        }
       ],
       "layout": {
        "barmode": "relative",
        "legend": {
         "tracegroupgap": 0
        },
        "margin": {
         "t": 60
        },
        "template": {
         "data": {
          "bar": [
           {
            "error_x": {
             "color": "#2a3f5f"
            },
            "error_y": {
             "color": "#2a3f5f"
            },
            "marker": {
             "line": {
              "color": "#E5ECF6",
              "width": 0.5
             },
             "pattern": {
              "fillmode": "overlay",
              "size": 10,
              "solidity": 0.2
             }
            },
            "type": "bar"
           }
          ],
          "barpolar": [
           {
            "marker": {
             "line": {
              "color": "#E5ECF6",
              "width": 0.5
             },
             "pattern": {
              "fillmode": "overlay",
              "size": 10,
              "solidity": 0.2
             }
            },
            "type": "barpolar"
           }
          ],
          "carpet": [
           {
            "aaxis": {
             "endlinecolor": "#2a3f5f",
             "gridcolor": "white",
             "linecolor": "white",
             "minorgridcolor": "white",
             "startlinecolor": "#2a3f5f"
            },
            "baxis": {
             "endlinecolor": "#2a3f5f",
             "gridcolor": "white",
             "linecolor": "white",
             "minorgridcolor": "white",
             "startlinecolor": "#2a3f5f"
            },
            "type": "carpet"
           }
          ],
          "choropleth": [
           {
            "colorbar": {
             "outlinewidth": 0,
             "ticks": ""
            },
            "type": "choropleth"
           }
          ],
          "contour": [
           {
            "colorbar": {
             "outlinewidth": 0,
             "ticks": ""
            },
            "colorscale": [
             [
              0,
              "#0d0887"
             ],
             [
              0.1111111111111111,
              "#46039f"
             ],
             [
              0.2222222222222222,
              "#7201a8"
             ],
             [
              0.3333333333333333,
              "#9c179e"
             ],
             [
              0.4444444444444444,
              "#bd3786"
             ],
             [
              0.5555555555555556,
              "#d8576b"
             ],
             [
              0.6666666666666666,
              "#ed7953"
             ],
             [
              0.7777777777777778,
              "#fb9f3a"
             ],
             [
              0.8888888888888888,
              "#fdca26"
             ],
             [
              1,
              "#f0f921"
             ]
            ],
            "type": "contour"
           }
          ],
          "contourcarpet": [
           {
            "colorbar": {
             "outlinewidth": 0,
             "ticks": ""
            },
            "type": "contourcarpet"
           }
          ],
          "heatmap": [
           {
            "colorbar": {
             "outlinewidth": 0,
             "ticks": ""
            },
            "colorscale": [
             [
              0,
              "#0d0887"
             ],
             [
              0.1111111111111111,
              "#46039f"
             ],
             [
              0.2222222222222222,
              "#7201a8"
             ],
             [
              0.3333333333333333,
              "#9c179e"
             ],
             [
              0.4444444444444444,
              "#bd3786"
             ],
             [
              0.5555555555555556,
              "#d8576b"
             ],
             [
              0.6666666666666666,
              "#ed7953"
             ],
             [
              0.7777777777777778,
              "#fb9f3a"
             ],
             [
              0.8888888888888888,
              "#fdca26"
             ],
             [
              1,
              "#f0f921"
             ]
            ],
            "type": "heatmap"
           }
          ],
          "heatmapgl": [
           {
            "colorbar": {
             "outlinewidth": 0,
             "ticks": ""
            },
            "colorscale": [
             [
              0,
              "#0d0887"
             ],
             [
              0.1111111111111111,
              "#46039f"
             ],
             [
              0.2222222222222222,
              "#7201a8"
             ],
             [
              0.3333333333333333,
              "#9c179e"
             ],
             [
              0.4444444444444444,
              "#bd3786"
             ],
             [
              0.5555555555555556,
              "#d8576b"
             ],
             [
              0.6666666666666666,
              "#ed7953"
             ],
             [
              0.7777777777777778,
              "#fb9f3a"
             ],
             [
              0.8888888888888888,
              "#fdca26"
             ],
             [
              1,
              "#f0f921"
             ]
            ],
            "type": "heatmapgl"
           }
          ],
          "histogram": [
           {
            "marker": {
             "pattern": {
              "fillmode": "overlay",
              "size": 10,
              "solidity": 0.2
             }
            },
            "type": "histogram"
           }
          ],
          "histogram2d": [
           {
            "colorbar": {
             "outlinewidth": 0,
             "ticks": ""
            },
            "colorscale": [
             [
              0,
              "#0d0887"
             ],
             [
              0.1111111111111111,
              "#46039f"
             ],
             [
              0.2222222222222222,
              "#7201a8"
             ],
             [
              0.3333333333333333,
              "#9c179e"
             ],
             [
              0.4444444444444444,
              "#bd3786"
             ],
             [
              0.5555555555555556,
              "#d8576b"
             ],
             [
              0.6666666666666666,
              "#ed7953"
             ],
             [
              0.7777777777777778,
              "#fb9f3a"
             ],
             [
              0.8888888888888888,
              "#fdca26"
             ],
             [
              1,
              "#f0f921"
             ]
            ],
            "type": "histogram2d"
           }
          ],
          "histogram2dcontour": [
           {
            "colorbar": {
             "outlinewidth": 0,
             "ticks": ""
            },
            "colorscale": [
             [
              0,
              "#0d0887"
             ],
             [
              0.1111111111111111,
              "#46039f"
             ],
             [
              0.2222222222222222,
              "#7201a8"
             ],
             [
              0.3333333333333333,
              "#9c179e"
             ],
             [
              0.4444444444444444,
              "#bd3786"
             ],
             [
              0.5555555555555556,
              "#d8576b"
             ],
             [
              0.6666666666666666,
              "#ed7953"
             ],
             [
              0.7777777777777778,
              "#fb9f3a"
             ],
             [
              0.8888888888888888,
              "#fdca26"
             ],
             [
              1,
              "#f0f921"
             ]
            ],
            "type": "histogram2dcontour"
           }
          ],
          "mesh3d": [
           {
            "colorbar": {
             "outlinewidth": 0,
             "ticks": ""
            },
            "type": "mesh3d"
           }
          ],
          "parcoords": [
           {
            "line": {
             "colorbar": {
              "outlinewidth": 0,
              "ticks": ""
             }
            },
            "type": "parcoords"
           }
          ],
          "pie": [
           {
            "automargin": true,
            "type": "pie"
           }
          ],
          "scatter": [
           {
            "fillpattern": {
             "fillmode": "overlay",
             "size": 10,
             "solidity": 0.2
            },
            "type": "scatter"
           }
          ],
          "scatter3d": [
           {
            "line": {
             "colorbar": {
              "outlinewidth": 0,
              "ticks": ""
             }
            },
            "marker": {
             "colorbar": {
              "outlinewidth": 0,
              "ticks": ""
             }
            },
            "type": "scatter3d"
           }
          ],
          "scattercarpet": [
           {
            "marker": {
             "colorbar": {
              "outlinewidth": 0,
              "ticks": ""
             }
            },
            "type": "scattercarpet"
           }
          ],
          "scattergeo": [
           {
            "marker": {
             "colorbar": {
              "outlinewidth": 0,
              "ticks": ""
             }
            },
            "type": "scattergeo"
           }
          ],
          "scattergl": [
           {
            "marker": {
             "colorbar": {
              "outlinewidth": 0,
              "ticks": ""
             }
            },
            "type": "scattergl"
           }
          ],
          "scattermapbox": [
           {
            "marker": {
             "colorbar": {
              "outlinewidth": 0,
              "ticks": ""
             }
            },
            "type": "scattermapbox"
           }
          ],
          "scatterpolar": [
           {
            "marker": {
             "colorbar": {
              "outlinewidth": 0,
              "ticks": ""
             }
            },
            "type": "scatterpolar"
           }
          ],
          "scatterpolargl": [
           {
            "marker": {
             "colorbar": {
              "outlinewidth": 0,
              "ticks": ""
             }
            },
            "type": "scatterpolargl"
           }
          ],
          "scatterternary": [
           {
            "marker": {
             "colorbar": {
              "outlinewidth": 0,
              "ticks": ""
             }
            },
            "type": "scatterternary"
           }
          ],
          "surface": [
           {
            "colorbar": {
             "outlinewidth": 0,
             "ticks": ""
            },
            "colorscale": [
             [
              0,
              "#0d0887"
             ],
             [
              0.1111111111111111,
              "#46039f"
             ],
             [
              0.2222222222222222,
              "#7201a8"
             ],
             [
              0.3333333333333333,
              "#9c179e"
             ],
             [
              0.4444444444444444,
              "#bd3786"
             ],
             [
              0.5555555555555556,
              "#d8576b"
             ],
             [
              0.6666666666666666,
              "#ed7953"
             ],
             [
              0.7777777777777778,
              "#fb9f3a"
             ],
             [
              0.8888888888888888,
              "#fdca26"
             ],
             [
              1,
              "#f0f921"
             ]
            ],
            "type": "surface"
           }
          ],
          "table": [
           {
            "cells": {
             "fill": {
              "color": "#EBF0F8"
             },
             "line": {
              "color": "white"
             }
            },
            "header": {
             "fill": {
              "color": "#C8D4E3"
             },
             "line": {
              "color": "white"
             }
            },
            "type": "table"
           }
          ]
         },
         "layout": {
          "annotationdefaults": {
           "arrowcolor": "#2a3f5f",
           "arrowhead": 0,
           "arrowwidth": 1
          },
          "autotypenumbers": "strict",
          "coloraxis": {
           "colorbar": {
            "outlinewidth": 0,
            "ticks": ""
           }
          },
          "colorscale": {
           "diverging": [
            [
             0,
             "#8e0152"
            ],
            [
             0.1,
             "#c51b7d"
            ],
            [
             0.2,
             "#de77ae"
            ],
            [
             0.3,
             "#f1b6da"
            ],
            [
             0.4,
             "#fde0ef"
            ],
            [
             0.5,
             "#f7f7f7"
            ],
            [
             0.6,
             "#e6f5d0"
            ],
            [
             0.7,
             "#b8e186"
            ],
            [
             0.8,
             "#7fbc41"
            ],
            [
             0.9,
             "#4d9221"
            ],
            [
             1,
             "#276419"
            ]
           ],
           "sequential": [
            [
             0,
             "#0d0887"
            ],
            [
             0.1111111111111111,
             "#46039f"
            ],
            [
             0.2222222222222222,
             "#7201a8"
            ],
            [
             0.3333333333333333,
             "#9c179e"
            ],
            [
             0.4444444444444444,
             "#bd3786"
            ],
            [
             0.5555555555555556,
             "#d8576b"
            ],
            [
             0.6666666666666666,
             "#ed7953"
            ],
            [
             0.7777777777777778,
             "#fb9f3a"
            ],
            [
             0.8888888888888888,
             "#fdca26"
            ],
            [
             1,
             "#f0f921"
            ]
           ],
           "sequentialminus": [
            [
             0,
             "#0d0887"
            ],
            [
             0.1111111111111111,
             "#46039f"
            ],
            [
             0.2222222222222222,
             "#7201a8"
            ],
            [
             0.3333333333333333,
             "#9c179e"
            ],
            [
             0.4444444444444444,
             "#bd3786"
            ],
            [
             0.5555555555555556,
             "#d8576b"
            ],
            [
             0.6666666666666666,
             "#ed7953"
            ],
            [
             0.7777777777777778,
             "#fb9f3a"
            ],
            [
             0.8888888888888888,
             "#fdca26"
            ],
            [
             1,
             "#f0f921"
            ]
           ]
          },
          "colorway": [
           "#636efa",
           "#EF553B",
           "#00cc96",
           "#ab63fa",
           "#FFA15A",
           "#19d3f3",
           "#FF6692",
           "#B6E880",
           "#FF97FF",
           "#FECB52"
          ],
          "font": {
           "color": "#2a3f5f"
          },
          "geo": {
           "bgcolor": "white",
           "lakecolor": "white",
           "landcolor": "#E5ECF6",
           "showlakes": true,
           "showland": true,
           "subunitcolor": "white"
          },
          "hoverlabel": {
           "align": "left"
          },
          "hovermode": "closest",
          "mapbox": {
           "style": "light"
          },
          "paper_bgcolor": "white",
          "plot_bgcolor": "#E5ECF6",
          "polar": {
           "angularaxis": {
            "gridcolor": "white",
            "linecolor": "white",
            "ticks": ""
           },
           "bgcolor": "#E5ECF6",
           "radialaxis": {
            "gridcolor": "white",
            "linecolor": "white",
            "ticks": ""
           }
          },
          "scene": {
           "xaxis": {
            "backgroundcolor": "#E5ECF6",
            "gridcolor": "white",
            "gridwidth": 2,
            "linecolor": "white",
            "showbackground": true,
            "ticks": "",
            "zerolinecolor": "white"
           },
           "yaxis": {
            "backgroundcolor": "#E5ECF6",
            "gridcolor": "white",
            "gridwidth": 2,
            "linecolor": "white",
            "showbackground": true,
            "ticks": "",
            "zerolinecolor": "white"
           },
           "zaxis": {
            "backgroundcolor": "#E5ECF6",
            "gridcolor": "white",
            "gridwidth": 2,
            "linecolor": "white",
            "showbackground": true,
            "ticks": "",
            "zerolinecolor": "white"
           }
          },
          "shapedefaults": {
           "line": {
            "color": "#2a3f5f"
           }
          },
          "ternary": {
           "aaxis": {
            "gridcolor": "white",
            "linecolor": "white",
            "ticks": ""
           },
           "baxis": {
            "gridcolor": "white",
            "linecolor": "white",
            "ticks": ""
           },
           "bgcolor": "#E5ECF6",
           "caxis": {
            "gridcolor": "white",
            "linecolor": "white",
            "ticks": ""
           }
          },
          "title": {
           "x": 0.05
          },
          "xaxis": {
           "automargin": true,
           "gridcolor": "white",
           "linecolor": "white",
           "ticks": "",
           "title": {
            "standoff": 15
           },
           "zerolinecolor": "white",
           "zerolinewidth": 2
          },
          "yaxis": {
           "automargin": true,
           "gridcolor": "white",
           "linecolor": "white",
           "ticks": "",
           "title": {
            "standoff": 15
           },
           "zerolinecolor": "white",
           "zerolinewidth": 2
          }
         }
        },
        "xaxis": {
         "anchor": "y",
         "domain": [
          0,
          1
         ],
         "title": {
          "text": "Frecuencia"
         }
        },
        "yaxis": {
         "anchor": "x",
         "domain": [
          0,
          1
         ],
         "title": {
          "text": "Nombre"
         }
        }
       }
      }
     },
     "metadata": {},
     "output_type": "display_data"
    }
   ],
   "source": [
    "fig_H = px.bar(nomb_frec_H,x='Frecuencia',y='Nombre')\n",
    "fig_H.show()"
   ]
  },
  {
   "cell_type": "code",
   "execution_count": 123,
   "metadata": {},
   "outputs": [],
   "source": [
    "Poblacion_provincias = pd.read_csv('data/Poblacion_por_capitales_de_provincias.csv',sep='\\t',encoding='latin1')"
   ]
  },
  {
   "attachments": {},
   "cell_type": "markdown",
   "metadata": {},
   "source": [
    "### Información basica"
   ]
  },
  {
   "cell_type": "code",
   "execution_count": 124,
   "metadata": {},
   "outputs": [
    {
     "data": {
      "text/html": [
       "<div>\n",
       "<style scoped>\n",
       "    .dataframe tbody tr th:only-of-type {\n",
       "        vertical-align: middle;\n",
       "    }\n",
       "\n",
       "    .dataframe tbody tr th {\n",
       "        vertical-align: top;\n",
       "    }\n",
       "\n",
       "    .dataframe thead th {\n",
       "        text-align: right;\n",
       "    }\n",
       "</style>\n",
       "<table border=\"1\" class=\"dataframe\">\n",
       "  <thead>\n",
       "    <tr style=\"text-align: right;\">\n",
       "      <th></th>\n",
       "      <th>Pob_Cap</th>\n",
       "      <th>2021</th>\n",
       "      <th>2020</th>\n",
       "      <th>2019</th>\n",
       "      <th>2018</th>\n",
       "      <th>2017</th>\n",
       "      <th>2016</th>\n",
       "      <th>2015</th>\n",
       "      <th>2014</th>\n",
       "      <th>2013</th>\n",
       "      <th>...</th>\n",
       "      <th>2010</th>\n",
       "      <th>2009</th>\n",
       "      <th>2008</th>\n",
       "      <th>2007</th>\n",
       "      <th>2006</th>\n",
       "      <th>2005</th>\n",
       "      <th>2004</th>\n",
       "      <th>2003</th>\n",
       "      <th>2002</th>\n",
       "      <th>2001</th>\n",
       "    </tr>\n",
       "  </thead>\n",
       "  <tbody>\n",
       "    <tr>\n",
       "      <th>0</th>\n",
       "      <td>02003 Albacete</td>\n",
       "      <td>172722</td>\n",
       "      <td>174336</td>\n",
       "      <td>173329</td>\n",
       "      <td>173050</td>\n",
       "      <td>172816</td>\n",
       "      <td>172426</td>\n",
       "      <td>172121</td>\n",
       "      <td>172487</td>\n",
       "      <td>172693</td>\n",
       "      <td>...</td>\n",
       "      <td>170475</td>\n",
       "      <td>169716</td>\n",
       "      <td>166909</td>\n",
       "      <td>164771</td>\n",
       "      <td>161508</td>\n",
       "      <td>159518</td>\n",
       "      <td>156466</td>\n",
       "      <td>155142</td>\n",
       "      <td>152155</td>\n",
       "      <td>149507</td>\n",
       "    </tr>\n",
       "    <tr>\n",
       "      <th>1</th>\n",
       "      <td>03014 Alicante/Alacant</td>\n",
       "      <td>337304</td>\n",
       "      <td>337482</td>\n",
       "      <td>334887</td>\n",
       "      <td>331577</td>\n",
       "      <td>329988</td>\n",
       "      <td>330525</td>\n",
       "      <td>328648</td>\n",
       "      <td>332067</td>\n",
       "      <td>335052</td>\n",
       "      <td>...</td>\n",
       "      <td>334418</td>\n",
       "      <td>334757</td>\n",
       "      <td>331750</td>\n",
       "      <td>322673</td>\n",
       "      <td>322431</td>\n",
       "      <td>319380</td>\n",
       "      <td>310330</td>\n",
       "      <td>305911</td>\n",
       "      <td>293629</td>\n",
       "      <td>283243</td>\n",
       "    </tr>\n",
       "    <tr>\n",
       "      <th>2</th>\n",
       "      <td>04013 Almería</td>\n",
       "      <td>200753</td>\n",
       "      <td>201322</td>\n",
       "      <td>198533</td>\n",
       "      <td>196851</td>\n",
       "      <td>195389</td>\n",
       "      <td>194515</td>\n",
       "      <td>194203</td>\n",
       "      <td>193351</td>\n",
       "      <td>192697</td>\n",
       "      <td>...</td>\n",
       "      <td>190013</td>\n",
       "      <td>188810</td>\n",
       "      <td>187521</td>\n",
       "      <td>186651</td>\n",
       "      <td>185309</td>\n",
       "      <td>181702</td>\n",
       "      <td>177681</td>\n",
       "      <td>176727</td>\n",
       "      <td>173338</td>\n",
       "      <td>170994</td>\n",
       "    </tr>\n",
       "    <tr>\n",
       "      <th>3</th>\n",
       "      <td>05019 Ávila</td>\n",
       "      <td>57949</td>\n",
       "      <td>58369</td>\n",
       "      <td>57744</td>\n",
       "      <td>57657</td>\n",
       "      <td>58149</td>\n",
       "      <td>58083</td>\n",
       "      <td>58358</td>\n",
       "      <td>58933</td>\n",
       "      <td>59258</td>\n",
       "      <td>...</td>\n",
       "      <td>58245</td>\n",
       "      <td>56855</td>\n",
       "      <td>56144</td>\n",
       "      <td>53794</td>\n",
       "      <td>53272</td>\n",
       "      <td>52612</td>\n",
       "      <td>52417</td>\n",
       "      <td>52078</td>\n",
       "      <td>50241</td>\n",
       "      <td>47967</td>\n",
       "    </tr>\n",
       "    <tr>\n",
       "      <th>4</th>\n",
       "      <td>06015 Badajoz</td>\n",
       "      <td>150610</td>\n",
       "      <td>150984</td>\n",
       "      <td>150702</td>\n",
       "      <td>150530</td>\n",
       "      <td>150543</td>\n",
       "      <td>149946</td>\n",
       "      <td>149892</td>\n",
       "      <td>150517</td>\n",
       "      <td>150621</td>\n",
       "      <td>...</td>\n",
       "      <td>150376</td>\n",
       "      <td>148334</td>\n",
       "      <td>146832</td>\n",
       "      <td>145257</td>\n",
       "      <td>143748</td>\n",
       "      <td>143019</td>\n",
       "      <td>139135</td>\n",
       "      <td>138415</td>\n",
       "      <td>136851</td>\n",
       "      <td>136319</td>\n",
       "    </tr>\n",
       "  </tbody>\n",
       "</table>\n",
       "<p>5 rows × 22 columns</p>\n",
       "</div>"
      ],
      "text/plain": [
       "                  Pob_Cap    2021    2020    2019    2018    2017    2016  \\\n",
       "0          02003 Albacete  172722  174336  173329  173050  172816  172426   \n",
       "1  03014 Alicante/Alacant  337304  337482  334887  331577  329988  330525   \n",
       "2           04013 Almería  200753  201322  198533  196851  195389  194515   \n",
       "3             05019 Ávila   57949   58369   57744   57657   58149   58083   \n",
       "4           06015 Badajoz  150610  150984  150702  150530  150543  149946   \n",
       "\n",
       "     2015    2014    2013  ...    2010    2009    2008    2007    2006  \\\n",
       "0  172121  172487  172693  ...  170475  169716  166909  164771  161508   \n",
       "1  328648  332067  335052  ...  334418  334757  331750  322673  322431   \n",
       "2  194203  193351  192697  ...  190013  188810  187521  186651  185309   \n",
       "3   58358   58933   59258  ...   58245   56855   56144   53794   53272   \n",
       "4  149892  150517  150621  ...  150376  148334  146832  145257  143748   \n",
       "\n",
       "     2005    2004    2003    2002    2001  \n",
       "0  159518  156466  155142  152155  149507  \n",
       "1  319380  310330  305911  293629  283243  \n",
       "2  181702  177681  176727  173338  170994  \n",
       "3   52612   52417   52078   50241   47967  \n",
       "4  143019  139135  138415  136851  136319  \n",
       "\n",
       "[5 rows x 22 columns]"
      ]
     },
     "execution_count": 124,
     "metadata": {},
     "output_type": "execute_result"
    }
   ],
   "source": [
    "Poblacion_provincias.head()"
   ]
  },
  {
   "cell_type": "code",
   "execution_count": 125,
   "metadata": {},
   "outputs": [
    {
     "name": "stdout",
     "output_type": "stream",
     "text": [
      "<class 'pandas.core.frame.DataFrame'>\n",
      "RangeIndex: 50 entries, 0 to 49\n",
      "Data columns (total 22 columns):\n",
      " #   Column   Non-Null Count  Dtype \n",
      "---  ------   --------------  ----- \n",
      " 0   Pob_Cap  50 non-null     object\n",
      " 1   2021     50 non-null     int64 \n",
      " 2   2020     50 non-null     int64 \n",
      " 3   2019     50 non-null     int64 \n",
      " 4   2018     50 non-null     int64 \n",
      " 5   2017     50 non-null     int64 \n",
      " 6   2016     50 non-null     int64 \n",
      " 7   2015     50 non-null     int64 \n",
      " 8   2014     50 non-null     int64 \n",
      " 9   2013     50 non-null     int64 \n",
      " 10  2012     50 non-null     int64 \n",
      " 11  2011     50 non-null     int64 \n",
      " 12  2010     50 non-null     int64 \n",
      " 13  2009     50 non-null     int64 \n",
      " 14  2008     50 non-null     int64 \n",
      " 15  2007     50 non-null     int64 \n",
      " 16  2006     50 non-null     int64 \n",
      " 17  2005     50 non-null     int64 \n",
      " 18  2004     50 non-null     int64 \n",
      " 19  2003     50 non-null     int64 \n",
      " 20  2002     50 non-null     int64 \n",
      " 21  2001     50 non-null     int64 \n",
      "dtypes: int64(21), object(1)\n",
      "memory usage: 8.7+ KB\n"
     ]
    }
   ],
   "source": [
    "Poblacion_provincias.info()"
   ]
  },
  {
   "cell_type": "code",
   "execution_count": 126,
   "metadata": {},
   "outputs": [
    {
     "data": {
      "text/plain": [
       "Pob_Cap    0\n",
       "2021       0\n",
       "2020       0\n",
       "2019       0\n",
       "2018       0\n",
       "2017       0\n",
       "2016       0\n",
       "2015       0\n",
       "2014       0\n",
       "2013       0\n",
       "2012       0\n",
       "2011       0\n",
       "2010       0\n",
       "2009       0\n",
       "2008       0\n",
       "2007       0\n",
       "2006       0\n",
       "2005       0\n",
       "2004       0\n",
       "2003       0\n",
       "2002       0\n",
       "2001       0\n",
       "dtype: int64"
      ]
     },
     "execution_count": 126,
     "metadata": {},
     "output_type": "execute_result"
    }
   ],
   "source": [
    "Poblacion_provincias.isnull().sum()"
   ]
  },
  {
   "cell_type": "code",
   "execution_count": 127,
   "metadata": {},
   "outputs": [
    {
     "data": {
      "text/plain": [
       "Index(['Pob_Cap', '2021', '2020', '2019', '2018', '2017', '2016', '2015',\n",
       "       '2014', '2013', '2012', '2011', '2010', '2009', '2008', '2007', '2006',\n",
       "       '2005', '2004', '2003', '2002', '2001'],\n",
       "      dtype='object')"
      ]
     },
     "execution_count": 127,
     "metadata": {},
     "output_type": "execute_result"
    }
   ],
   "source": [
    "Poblacion_provincias.columns"
   ]
  },
  {
   "attachments": {},
   "cell_type": "markdown",
   "metadata": {},
   "source": [
    "### Eliminamos los digitos que sale delante de los nombres"
   ]
  },
  {
   "cell_type": "code",
   "execution_count": 128,
   "metadata": {},
   "outputs": [],
   "source": [
    "# Buscando digitos con regex y eliminar con .replace()\n",
    "Poblacion_provincias['Pob_Cap'] = Poblacion_provincias['Pob_Cap'].replace(re.compile(r'[0-9]'),'')\n",
    "Poblacion_provincias = Poblacion_provincias.set_index(['Pob_Cap'])"
   ]
  },
  {
   "attachments": {},
   "cell_type": "markdown",
   "metadata": {},
   "source": [
    "### Matriz de Correlación"
   ]
  },
  {
   "cell_type": "code",
   "execution_count": 155,
   "metadata": {},
   "outputs": [
    {
     "data": {
      "text/html": [
       "<div>\n",
       "<style scoped>\n",
       "    .dataframe tbody tr th:only-of-type {\n",
       "        vertical-align: middle;\n",
       "    }\n",
       "\n",
       "    .dataframe tbody tr th {\n",
       "        vertical-align: top;\n",
       "    }\n",
       "\n",
       "    .dataframe thead th {\n",
       "        text-align: right;\n",
       "    }\n",
       "</style>\n",
       "<table border=\"1\" class=\"dataframe\">\n",
       "  <thead>\n",
       "    <tr style=\"text-align: right;\">\n",
       "      <th></th>\n",
       "      <th>2021</th>\n",
       "      <th>2020</th>\n",
       "      <th>2019</th>\n",
       "      <th>2018</th>\n",
       "      <th>2017</th>\n",
       "      <th>2016</th>\n",
       "      <th>2015</th>\n",
       "      <th>2014</th>\n",
       "      <th>2013</th>\n",
       "      <th>2012</th>\n",
       "      <th>...</th>\n",
       "      <th>2010</th>\n",
       "      <th>2009</th>\n",
       "      <th>2008</th>\n",
       "      <th>2007</th>\n",
       "      <th>2006</th>\n",
       "      <th>2005</th>\n",
       "      <th>2004</th>\n",
       "      <th>2003</th>\n",
       "      <th>2002</th>\n",
       "      <th>2001</th>\n",
       "    </tr>\n",
       "  </thead>\n",
       "  <tbody>\n",
       "    <tr>\n",
       "      <th>2021</th>\n",
       "      <td>1.000000</td>\n",
       "      <td>0.999991</td>\n",
       "      <td>0.999976</td>\n",
       "      <td>0.999948</td>\n",
       "      <td>0.999878</td>\n",
       "      <td>0.999854</td>\n",
       "      <td>0.999797</td>\n",
       "      <td>0.999838</td>\n",
       "      <td>0.999851</td>\n",
       "      <td>0.999878</td>\n",
       "      <td>...</td>\n",
       "      <td>0.999859</td>\n",
       "      <td>0.999816</td>\n",
       "      <td>0.999759</td>\n",
       "      <td>0.999601</td>\n",
       "      <td>0.999441</td>\n",
       "      <td>0.999521</td>\n",
       "      <td>0.999342</td>\n",
       "      <td>0.999221</td>\n",
       "      <td>0.999078</td>\n",
       "      <td>0.998809</td>\n",
       "    </tr>\n",
       "    <tr>\n",
       "      <th>2020</th>\n",
       "      <td>0.999991</td>\n",
       "      <td>1.000000</td>\n",
       "      <td>0.999988</td>\n",
       "      <td>0.999965</td>\n",
       "      <td>0.999913</td>\n",
       "      <td>0.999887</td>\n",
       "      <td>0.999835</td>\n",
       "      <td>0.999866</td>\n",
       "      <td>0.999874</td>\n",
       "      <td>0.999900</td>\n",
       "      <td>...</td>\n",
       "      <td>0.999868</td>\n",
       "      <td>0.999836</td>\n",
       "      <td>0.999792</td>\n",
       "      <td>0.999650</td>\n",
       "      <td>0.999506</td>\n",
       "      <td>0.999567</td>\n",
       "      <td>0.999404</td>\n",
       "      <td>0.999293</td>\n",
       "      <td>0.999137</td>\n",
       "      <td>0.998876</td>\n",
       "    </tr>\n",
       "    <tr>\n",
       "      <th>2019</th>\n",
       "      <td>0.999976</td>\n",
       "      <td>0.999988</td>\n",
       "      <td>1.000000</td>\n",
       "      <td>0.999993</td>\n",
       "      <td>0.999960</td>\n",
       "      <td>0.999945</td>\n",
       "      <td>0.999907</td>\n",
       "      <td>0.999928</td>\n",
       "      <td>0.999925</td>\n",
       "      <td>0.999941</td>\n",
       "      <td>...</td>\n",
       "      <td>0.999896</td>\n",
       "      <td>0.999876</td>\n",
       "      <td>0.999847</td>\n",
       "      <td>0.999736</td>\n",
       "      <td>0.999606</td>\n",
       "      <td>0.999646</td>\n",
       "      <td>0.999503</td>\n",
       "      <td>0.999395</td>\n",
       "      <td>0.999251</td>\n",
       "      <td>0.999010</td>\n",
       "    </tr>\n",
       "    <tr>\n",
       "      <th>2018</th>\n",
       "      <td>0.999948</td>\n",
       "      <td>0.999965</td>\n",
       "      <td>0.999993</td>\n",
       "      <td>1.000000</td>\n",
       "      <td>0.999982</td>\n",
       "      <td>0.999975</td>\n",
       "      <td>0.999947</td>\n",
       "      <td>0.999962</td>\n",
       "      <td>0.999952</td>\n",
       "      <td>0.999963</td>\n",
       "      <td>...</td>\n",
       "      <td>0.999911</td>\n",
       "      <td>0.999901</td>\n",
       "      <td>0.999884</td>\n",
       "      <td>0.999799</td>\n",
       "      <td>0.999684</td>\n",
       "      <td>0.999712</td>\n",
       "      <td>0.999586</td>\n",
       "      <td>0.999487</td>\n",
       "      <td>0.999353</td>\n",
       "      <td>0.999130</td>\n",
       "    </tr>\n",
       "    <tr>\n",
       "      <th>2017</th>\n",
       "      <td>0.999878</td>\n",
       "      <td>0.999913</td>\n",
       "      <td>0.999960</td>\n",
       "      <td>0.999982</td>\n",
       "      <td>1.000000</td>\n",
       "      <td>0.999995</td>\n",
       "      <td>0.999984</td>\n",
       "      <td>0.999979</td>\n",
       "      <td>0.999953</td>\n",
       "      <td>0.999953</td>\n",
       "      <td>...</td>\n",
       "      <td>0.999871</td>\n",
       "      <td>0.999879</td>\n",
       "      <td>0.999889</td>\n",
       "      <td>0.999845</td>\n",
       "      <td>0.999754</td>\n",
       "      <td>0.999744</td>\n",
       "      <td>0.999647</td>\n",
       "      <td>0.999561</td>\n",
       "      <td>0.999418</td>\n",
       "      <td>0.999220</td>\n",
       "    </tr>\n",
       "    <tr>\n",
       "      <th>2016</th>\n",
       "      <td>0.999854</td>\n",
       "      <td>0.999887</td>\n",
       "      <td>0.999945</td>\n",
       "      <td>0.999975</td>\n",
       "      <td>0.999995</td>\n",
       "      <td>1.000000</td>\n",
       "      <td>0.999993</td>\n",
       "      <td>0.999990</td>\n",
       "      <td>0.999964</td>\n",
       "      <td>0.999962</td>\n",
       "      <td>...</td>\n",
       "      <td>0.999888</td>\n",
       "      <td>0.999900</td>\n",
       "      <td>0.999912</td>\n",
       "      <td>0.999879</td>\n",
       "      <td>0.999794</td>\n",
       "      <td>0.999784</td>\n",
       "      <td>0.999693</td>\n",
       "      <td>0.999608</td>\n",
       "      <td>0.999477</td>\n",
       "      <td>0.999287</td>\n",
       "    </tr>\n",
       "    <tr>\n",
       "      <th>2015</th>\n",
       "      <td>0.999797</td>\n",
       "      <td>0.999835</td>\n",
       "      <td>0.999907</td>\n",
       "      <td>0.999947</td>\n",
       "      <td>0.999984</td>\n",
       "      <td>0.999993</td>\n",
       "      <td>1.000000</td>\n",
       "      <td>0.999990</td>\n",
       "      <td>0.999960</td>\n",
       "      <td>0.999948</td>\n",
       "      <td>...</td>\n",
       "      <td>0.999859</td>\n",
       "      <td>0.999879</td>\n",
       "      <td>0.999904</td>\n",
       "      <td>0.999894</td>\n",
       "      <td>0.999819</td>\n",
       "      <td>0.999794</td>\n",
       "      <td>0.999720</td>\n",
       "      <td>0.999638</td>\n",
       "      <td>0.999517</td>\n",
       "      <td>0.999345</td>\n",
       "    </tr>\n",
       "    <tr>\n",
       "      <th>2014</th>\n",
       "      <td>0.999838</td>\n",
       "      <td>0.999866</td>\n",
       "      <td>0.999928</td>\n",
       "      <td>0.999962</td>\n",
       "      <td>0.999979</td>\n",
       "      <td>0.999990</td>\n",
       "      <td>0.999990</td>\n",
       "      <td>1.000000</td>\n",
       "      <td>0.999986</td>\n",
       "      <td>0.999980</td>\n",
       "      <td>...</td>\n",
       "      <td>0.999917</td>\n",
       "      <td>0.999926</td>\n",
       "      <td>0.999936</td>\n",
       "      <td>0.999904</td>\n",
       "      <td>0.999821</td>\n",
       "      <td>0.999827</td>\n",
       "      <td>0.999743</td>\n",
       "      <td>0.999657</td>\n",
       "      <td>0.999549</td>\n",
       "      <td>0.999369</td>\n",
       "    </tr>\n",
       "    <tr>\n",
       "      <th>2013</th>\n",
       "      <td>0.999851</td>\n",
       "      <td>0.999874</td>\n",
       "      <td>0.999925</td>\n",
       "      <td>0.999952</td>\n",
       "      <td>0.999953</td>\n",
       "      <td>0.999964</td>\n",
       "      <td>0.999960</td>\n",
       "      <td>0.999986</td>\n",
       "      <td>1.000000</td>\n",
       "      <td>0.999993</td>\n",
       "      <td>...</td>\n",
       "      <td>0.999946</td>\n",
       "      <td>0.999949</td>\n",
       "      <td>0.999944</td>\n",
       "      <td>0.999889</td>\n",
       "      <td>0.999796</td>\n",
       "      <td>0.999825</td>\n",
       "      <td>0.999729</td>\n",
       "      <td>0.999628</td>\n",
       "      <td>0.999535</td>\n",
       "      <td>0.999344</td>\n",
       "    </tr>\n",
       "    <tr>\n",
       "      <th>2012</th>\n",
       "      <td>0.999878</td>\n",
       "      <td>0.999900</td>\n",
       "      <td>0.999941</td>\n",
       "      <td>0.999963</td>\n",
       "      <td>0.999953</td>\n",
       "      <td>0.999962</td>\n",
       "      <td>0.999948</td>\n",
       "      <td>0.999980</td>\n",
       "      <td>0.999993</td>\n",
       "      <td>1.000000</td>\n",
       "      <td>...</td>\n",
       "      <td>0.999964</td>\n",
       "      <td>0.999961</td>\n",
       "      <td>0.999950</td>\n",
       "      <td>0.999879</td>\n",
       "      <td>0.999781</td>\n",
       "      <td>0.999823</td>\n",
       "      <td>0.999721</td>\n",
       "      <td>0.999622</td>\n",
       "      <td>0.999525</td>\n",
       "      <td>0.999325</td>\n",
       "    </tr>\n",
       "    <tr>\n",
       "      <th>2011</th>\n",
       "      <td>0.999886</td>\n",
       "      <td>0.999891</td>\n",
       "      <td>0.999915</td>\n",
       "      <td>0.999926</td>\n",
       "      <td>0.999884</td>\n",
       "      <td>0.999896</td>\n",
       "      <td>0.999867</td>\n",
       "      <td>0.999925</td>\n",
       "      <td>0.999954</td>\n",
       "      <td>0.999971</td>\n",
       "      <td>...</td>\n",
       "      <td>0.999994</td>\n",
       "      <td>0.999976</td>\n",
       "      <td>0.999947</td>\n",
       "      <td>0.999847</td>\n",
       "      <td>0.999741</td>\n",
       "      <td>0.999826</td>\n",
       "      <td>0.999706</td>\n",
       "      <td>0.999607</td>\n",
       "      <td>0.999528</td>\n",
       "      <td>0.999317</td>\n",
       "    </tr>\n",
       "    <tr>\n",
       "      <th>2010</th>\n",
       "      <td>0.999859</td>\n",
       "      <td>0.999868</td>\n",
       "      <td>0.999896</td>\n",
       "      <td>0.999911</td>\n",
       "      <td>0.999871</td>\n",
       "      <td>0.999888</td>\n",
       "      <td>0.999859</td>\n",
       "      <td>0.999917</td>\n",
       "      <td>0.999946</td>\n",
       "      <td>0.999964</td>\n",
       "      <td>...</td>\n",
       "      <td>1.000000</td>\n",
       "      <td>0.999991</td>\n",
       "      <td>0.999963</td>\n",
       "      <td>0.999869</td>\n",
       "      <td>0.999771</td>\n",
       "      <td>0.999850</td>\n",
       "      <td>0.999731</td>\n",
       "      <td>0.999632</td>\n",
       "      <td>0.999551</td>\n",
       "      <td>0.999340</td>\n",
       "    </tr>\n",
       "    <tr>\n",
       "      <th>2009</th>\n",
       "      <td>0.999816</td>\n",
       "      <td>0.999836</td>\n",
       "      <td>0.999876</td>\n",
       "      <td>0.999901</td>\n",
       "      <td>0.999879</td>\n",
       "      <td>0.999900</td>\n",
       "      <td>0.999879</td>\n",
       "      <td>0.999926</td>\n",
       "      <td>0.999949</td>\n",
       "      <td>0.999961</td>\n",
       "      <td>...</td>\n",
       "      <td>0.999991</td>\n",
       "      <td>1.000000</td>\n",
       "      <td>0.999987</td>\n",
       "      <td>0.999917</td>\n",
       "      <td>0.999839</td>\n",
       "      <td>0.999894</td>\n",
       "      <td>0.999790</td>\n",
       "      <td>0.999696</td>\n",
       "      <td>0.999609</td>\n",
       "      <td>0.999409</td>\n",
       "    </tr>\n",
       "    <tr>\n",
       "      <th>2008</th>\n",
       "      <td>0.999759</td>\n",
       "      <td>0.999792</td>\n",
       "      <td>0.999847</td>\n",
       "      <td>0.999884</td>\n",
       "      <td>0.999889</td>\n",
       "      <td>0.999912</td>\n",
       "      <td>0.999904</td>\n",
       "      <td>0.999936</td>\n",
       "      <td>0.999944</td>\n",
       "      <td>0.999950</td>\n",
       "      <td>...</td>\n",
       "      <td>0.999963</td>\n",
       "      <td>0.999987</td>\n",
       "      <td>1.000000</td>\n",
       "      <td>0.999966</td>\n",
       "      <td>0.999911</td>\n",
       "      <td>0.999941</td>\n",
       "      <td>0.999864</td>\n",
       "      <td>0.999786</td>\n",
       "      <td>0.999694</td>\n",
       "      <td>0.999518</td>\n",
       "    </tr>\n",
       "    <tr>\n",
       "      <th>2007</th>\n",
       "      <td>0.999601</td>\n",
       "      <td>0.999650</td>\n",
       "      <td>0.999736</td>\n",
       "      <td>0.999799</td>\n",
       "      <td>0.999845</td>\n",
       "      <td>0.999879</td>\n",
       "      <td>0.999894</td>\n",
       "      <td>0.999904</td>\n",
       "      <td>0.999889</td>\n",
       "      <td>0.999879</td>\n",
       "      <td>...</td>\n",
       "      <td>0.999869</td>\n",
       "      <td>0.999917</td>\n",
       "      <td>0.999966</td>\n",
       "      <td>1.000000</td>\n",
       "      <td>0.999981</td>\n",
       "      <td>0.999970</td>\n",
       "      <td>0.999938</td>\n",
       "      <td>0.999882</td>\n",
       "      <td>0.999802</td>\n",
       "      <td>0.999673</td>\n",
       "    </tr>\n",
       "    <tr>\n",
       "      <th>2006</th>\n",
       "      <td>0.999441</td>\n",
       "      <td>0.999506</td>\n",
       "      <td>0.999606</td>\n",
       "      <td>0.999684</td>\n",
       "      <td>0.999754</td>\n",
       "      <td>0.999794</td>\n",
       "      <td>0.999819</td>\n",
       "      <td>0.999821</td>\n",
       "      <td>0.999796</td>\n",
       "      <td>0.999781</td>\n",
       "      <td>...</td>\n",
       "      <td>0.999771</td>\n",
       "      <td>0.999839</td>\n",
       "      <td>0.999911</td>\n",
       "      <td>0.999981</td>\n",
       "      <td>1.000000</td>\n",
       "      <td>0.999967</td>\n",
       "      <td>0.999962</td>\n",
       "      <td>0.999926</td>\n",
       "      <td>0.999841</td>\n",
       "      <td>0.999737</td>\n",
       "    </tr>\n",
       "    <tr>\n",
       "      <th>2005</th>\n",
       "      <td>0.999521</td>\n",
       "      <td>0.999567</td>\n",
       "      <td>0.999646</td>\n",
       "      <td>0.999712</td>\n",
       "      <td>0.999744</td>\n",
       "      <td>0.999784</td>\n",
       "      <td>0.999794</td>\n",
       "      <td>0.999827</td>\n",
       "      <td>0.999825</td>\n",
       "      <td>0.999823</td>\n",
       "      <td>...</td>\n",
       "      <td>0.999850</td>\n",
       "      <td>0.999894</td>\n",
       "      <td>0.999941</td>\n",
       "      <td>0.999970</td>\n",
       "      <td>0.999967</td>\n",
       "      <td>1.000000</td>\n",
       "      <td>0.999979</td>\n",
       "      <td>0.999941</td>\n",
       "      <td>0.999890</td>\n",
       "      <td>0.999776</td>\n",
       "    </tr>\n",
       "    <tr>\n",
       "      <th>2004</th>\n",
       "      <td>0.999342</td>\n",
       "      <td>0.999404</td>\n",
       "      <td>0.999503</td>\n",
       "      <td>0.999586</td>\n",
       "      <td>0.999647</td>\n",
       "      <td>0.999693</td>\n",
       "      <td>0.999720</td>\n",
       "      <td>0.999743</td>\n",
       "      <td>0.999729</td>\n",
       "      <td>0.999721</td>\n",
       "      <td>...</td>\n",
       "      <td>0.999731</td>\n",
       "      <td>0.999790</td>\n",
       "      <td>0.999864</td>\n",
       "      <td>0.999938</td>\n",
       "      <td>0.999962</td>\n",
       "      <td>0.999979</td>\n",
       "      <td>1.000000</td>\n",
       "      <td>0.999985</td>\n",
       "      <td>0.999949</td>\n",
       "      <td>0.999872</td>\n",
       "    </tr>\n",
       "    <tr>\n",
       "      <th>2003</th>\n",
       "      <td>0.999221</td>\n",
       "      <td>0.999293</td>\n",
       "      <td>0.999395</td>\n",
       "      <td>0.999487</td>\n",
       "      <td>0.999561</td>\n",
       "      <td>0.999608</td>\n",
       "      <td>0.999638</td>\n",
       "      <td>0.999657</td>\n",
       "      <td>0.999628</td>\n",
       "      <td>0.999622</td>\n",
       "      <td>...</td>\n",
       "      <td>0.999632</td>\n",
       "      <td>0.999696</td>\n",
       "      <td>0.999786</td>\n",
       "      <td>0.999882</td>\n",
       "      <td>0.999926</td>\n",
       "      <td>0.999941</td>\n",
       "      <td>0.999985</td>\n",
       "      <td>1.000000</td>\n",
       "      <td>0.999963</td>\n",
       "      <td>0.999907</td>\n",
       "    </tr>\n",
       "    <tr>\n",
       "      <th>2002</th>\n",
       "      <td>0.999078</td>\n",
       "      <td>0.999137</td>\n",
       "      <td>0.999251</td>\n",
       "      <td>0.999353</td>\n",
       "      <td>0.999418</td>\n",
       "      <td>0.999477</td>\n",
       "      <td>0.999517</td>\n",
       "      <td>0.999549</td>\n",
       "      <td>0.999535</td>\n",
       "      <td>0.999525</td>\n",
       "      <td>...</td>\n",
       "      <td>0.999551</td>\n",
       "      <td>0.999609</td>\n",
       "      <td>0.999694</td>\n",
       "      <td>0.999802</td>\n",
       "      <td>0.999841</td>\n",
       "      <td>0.999890</td>\n",
       "      <td>0.999949</td>\n",
       "      <td>0.999963</td>\n",
       "      <td>1.000000</td>\n",
       "      <td>0.999973</td>\n",
       "    </tr>\n",
       "    <tr>\n",
       "      <th>2001</th>\n",
       "      <td>0.998809</td>\n",
       "      <td>0.998876</td>\n",
       "      <td>0.999010</td>\n",
       "      <td>0.999130</td>\n",
       "      <td>0.999220</td>\n",
       "      <td>0.999287</td>\n",
       "      <td>0.999345</td>\n",
       "      <td>0.999369</td>\n",
       "      <td>0.999344</td>\n",
       "      <td>0.999325</td>\n",
       "      <td>...</td>\n",
       "      <td>0.999340</td>\n",
       "      <td>0.999409</td>\n",
       "      <td>0.999518</td>\n",
       "      <td>0.999673</td>\n",
       "      <td>0.999737</td>\n",
       "      <td>0.999776</td>\n",
       "      <td>0.999872</td>\n",
       "      <td>0.999907</td>\n",
       "      <td>0.999973</td>\n",
       "      <td>1.000000</td>\n",
       "    </tr>\n",
       "  </tbody>\n",
       "</table>\n",
       "<p>21 rows × 21 columns</p>\n",
       "</div>"
      ],
      "text/plain": [
       "          2021      2020      2019      2018      2017      2016      2015  \\\n",
       "2021  1.000000  0.999991  0.999976  0.999948  0.999878  0.999854  0.999797   \n",
       "2020  0.999991  1.000000  0.999988  0.999965  0.999913  0.999887  0.999835   \n",
       "2019  0.999976  0.999988  1.000000  0.999993  0.999960  0.999945  0.999907   \n",
       "2018  0.999948  0.999965  0.999993  1.000000  0.999982  0.999975  0.999947   \n",
       "2017  0.999878  0.999913  0.999960  0.999982  1.000000  0.999995  0.999984   \n",
       "2016  0.999854  0.999887  0.999945  0.999975  0.999995  1.000000  0.999993   \n",
       "2015  0.999797  0.999835  0.999907  0.999947  0.999984  0.999993  1.000000   \n",
       "2014  0.999838  0.999866  0.999928  0.999962  0.999979  0.999990  0.999990   \n",
       "2013  0.999851  0.999874  0.999925  0.999952  0.999953  0.999964  0.999960   \n",
       "2012  0.999878  0.999900  0.999941  0.999963  0.999953  0.999962  0.999948   \n",
       "2011  0.999886  0.999891  0.999915  0.999926  0.999884  0.999896  0.999867   \n",
       "2010  0.999859  0.999868  0.999896  0.999911  0.999871  0.999888  0.999859   \n",
       "2009  0.999816  0.999836  0.999876  0.999901  0.999879  0.999900  0.999879   \n",
       "2008  0.999759  0.999792  0.999847  0.999884  0.999889  0.999912  0.999904   \n",
       "2007  0.999601  0.999650  0.999736  0.999799  0.999845  0.999879  0.999894   \n",
       "2006  0.999441  0.999506  0.999606  0.999684  0.999754  0.999794  0.999819   \n",
       "2005  0.999521  0.999567  0.999646  0.999712  0.999744  0.999784  0.999794   \n",
       "2004  0.999342  0.999404  0.999503  0.999586  0.999647  0.999693  0.999720   \n",
       "2003  0.999221  0.999293  0.999395  0.999487  0.999561  0.999608  0.999638   \n",
       "2002  0.999078  0.999137  0.999251  0.999353  0.999418  0.999477  0.999517   \n",
       "2001  0.998809  0.998876  0.999010  0.999130  0.999220  0.999287  0.999345   \n",
       "\n",
       "          2014      2013      2012  ...      2010      2009      2008  \\\n",
       "2021  0.999838  0.999851  0.999878  ...  0.999859  0.999816  0.999759   \n",
       "2020  0.999866  0.999874  0.999900  ...  0.999868  0.999836  0.999792   \n",
       "2019  0.999928  0.999925  0.999941  ...  0.999896  0.999876  0.999847   \n",
       "2018  0.999962  0.999952  0.999963  ...  0.999911  0.999901  0.999884   \n",
       "2017  0.999979  0.999953  0.999953  ...  0.999871  0.999879  0.999889   \n",
       "2016  0.999990  0.999964  0.999962  ...  0.999888  0.999900  0.999912   \n",
       "2015  0.999990  0.999960  0.999948  ...  0.999859  0.999879  0.999904   \n",
       "2014  1.000000  0.999986  0.999980  ...  0.999917  0.999926  0.999936   \n",
       "2013  0.999986  1.000000  0.999993  ...  0.999946  0.999949  0.999944   \n",
       "2012  0.999980  0.999993  1.000000  ...  0.999964  0.999961  0.999950   \n",
       "2011  0.999925  0.999954  0.999971  ...  0.999994  0.999976  0.999947   \n",
       "2010  0.999917  0.999946  0.999964  ...  1.000000  0.999991  0.999963   \n",
       "2009  0.999926  0.999949  0.999961  ...  0.999991  1.000000  0.999987   \n",
       "2008  0.999936  0.999944  0.999950  ...  0.999963  0.999987  1.000000   \n",
       "2007  0.999904  0.999889  0.999879  ...  0.999869  0.999917  0.999966   \n",
       "2006  0.999821  0.999796  0.999781  ...  0.999771  0.999839  0.999911   \n",
       "2005  0.999827  0.999825  0.999823  ...  0.999850  0.999894  0.999941   \n",
       "2004  0.999743  0.999729  0.999721  ...  0.999731  0.999790  0.999864   \n",
       "2003  0.999657  0.999628  0.999622  ...  0.999632  0.999696  0.999786   \n",
       "2002  0.999549  0.999535  0.999525  ...  0.999551  0.999609  0.999694   \n",
       "2001  0.999369  0.999344  0.999325  ...  0.999340  0.999409  0.999518   \n",
       "\n",
       "          2007      2006      2005      2004      2003      2002      2001  \n",
       "2021  0.999601  0.999441  0.999521  0.999342  0.999221  0.999078  0.998809  \n",
       "2020  0.999650  0.999506  0.999567  0.999404  0.999293  0.999137  0.998876  \n",
       "2019  0.999736  0.999606  0.999646  0.999503  0.999395  0.999251  0.999010  \n",
       "2018  0.999799  0.999684  0.999712  0.999586  0.999487  0.999353  0.999130  \n",
       "2017  0.999845  0.999754  0.999744  0.999647  0.999561  0.999418  0.999220  \n",
       "2016  0.999879  0.999794  0.999784  0.999693  0.999608  0.999477  0.999287  \n",
       "2015  0.999894  0.999819  0.999794  0.999720  0.999638  0.999517  0.999345  \n",
       "2014  0.999904  0.999821  0.999827  0.999743  0.999657  0.999549  0.999369  \n",
       "2013  0.999889  0.999796  0.999825  0.999729  0.999628  0.999535  0.999344  \n",
       "2012  0.999879  0.999781  0.999823  0.999721  0.999622  0.999525  0.999325  \n",
       "2011  0.999847  0.999741  0.999826  0.999706  0.999607  0.999528  0.999317  \n",
       "2010  0.999869  0.999771  0.999850  0.999731  0.999632  0.999551  0.999340  \n",
       "2009  0.999917  0.999839  0.999894  0.999790  0.999696  0.999609  0.999409  \n",
       "2008  0.999966  0.999911  0.999941  0.999864  0.999786  0.999694  0.999518  \n",
       "2007  1.000000  0.999981  0.999970  0.999938  0.999882  0.999802  0.999673  \n",
       "2006  0.999981  1.000000  0.999967  0.999962  0.999926  0.999841  0.999737  \n",
       "2005  0.999970  0.999967  1.000000  0.999979  0.999941  0.999890  0.999776  \n",
       "2004  0.999938  0.999962  0.999979  1.000000  0.999985  0.999949  0.999872  \n",
       "2003  0.999882  0.999926  0.999941  0.999985  1.000000  0.999963  0.999907  \n",
       "2002  0.999802  0.999841  0.999890  0.999949  0.999963  1.000000  0.999973  \n",
       "2001  0.999673  0.999737  0.999776  0.999872  0.999907  0.999973  1.000000  \n",
       "\n",
       "[21 rows x 21 columns]"
      ]
     },
     "execution_count": 155,
     "metadata": {},
     "output_type": "execute_result"
    }
   ],
   "source": [
    "Poblacion_provincias.corr()\n"
   ]
  },
  {
   "cell_type": "code",
   "execution_count": 158,
   "metadata": {},
   "outputs": [
    {
     "data": {
      "image/png": "[encoded data removed]",
      "text/plain": [
       "<Figure size 2500x1000 with 2 Axes>"
      ]
     },
     "metadata": {},
     "output_type": "display_data"
    }
   ],
   "source": [
    "msno.matrix(Poblacion_provincias)\n",
    "plt.title('Distribution of Missing Values',fontsize=30, fontstyle= 'oblique');"
   ]
  },
  {
   "attachments": {},
   "cell_type": "markdown",
   "metadata": {},
   "source": [
    "### Veamos una grafica con la poblacion de Sevilla en los ultimos 20 años"
   ]
  },
  {
   "cell_type": "code",
   "execution_count": 159,
   "metadata": {},
   "outputs": [],
   "source": [
    "Sevilla = Poblacion_provincias.iloc[40].sort_index(ascending=True)"
   ]
  },
  {
   "attachments": {},
   "cell_type": "markdown",
   "metadata": {},
   "source": [
    "### Veamos ejemplo de otras grandes ciudades de España"
   ]
  },
  {
   "cell_type": "code",
   "execution_count": 160,
   "metadata": {},
   "outputs": [],
   "source": [
    "Madrid = Poblacion_provincias.iloc[26].sort_index(ascending=True)"
   ]
  },
  {
   "cell_type": "code",
   "execution_count": 161,
   "metadata": {},
   "outputs": [],
   "source": [
    "Malaga = Poblacion_provincias.iloc[27].sort_index(ascending=True)"
   ]
  },
  {
   "cell_type": "code",
   "execution_count": 277,
   "metadata": {},
   "outputs": [
    {
     "data": {
      "text/html": [
       "<div>\n",
       "<style scoped>\n",
       "    .dataframe tbody tr th:only-of-type {\n",
       "        vertical-align: middle;\n",
       "    }\n",
       "\n",
       "    .dataframe tbody tr th {\n",
       "        vertical-align: top;\n",
       "    }\n",
       "\n",
       "    .dataframe thead th {\n",
       "        text-align: right;\n",
       "    }\n",
       "</style>\n",
       "<table border=\"1\" class=\"dataframe\">\n",
       "  <thead>\n",
       "    <tr style=\"text-align: right;\">\n",
       "      <th></th>\n",
       "      <th>2021</th>\n",
       "      <th>2020</th>\n",
       "      <th>2019</th>\n",
       "      <th>2018</th>\n",
       "      <th>2017</th>\n",
       "      <th>2016</th>\n",
       "      <th>2015</th>\n",
       "      <th>2014</th>\n",
       "      <th>2013</th>\n",
       "      <th>2012</th>\n",
       "      <th>...</th>\n",
       "      <th>2010</th>\n",
       "      <th>2009</th>\n",
       "      <th>2008</th>\n",
       "      <th>2007</th>\n",
       "      <th>2006</th>\n",
       "      <th>2005</th>\n",
       "      <th>2004</th>\n",
       "      <th>2003</th>\n",
       "      <th>2002</th>\n",
       "      <th>2001</th>\n",
       "    </tr>\n",
       "    <tr>\n",
       "      <th>Pob_Cap</th>\n",
       "      <th></th>\n",
       "      <th></th>\n",
       "      <th></th>\n",
       "      <th></th>\n",
       "      <th></th>\n",
       "      <th></th>\n",
       "      <th></th>\n",
       "      <th></th>\n",
       "      <th></th>\n",
       "      <th></th>\n",
       "      <th></th>\n",
       "      <th></th>\n",
       "      <th></th>\n",
       "      <th></th>\n",
       "      <th></th>\n",
       "      <th></th>\n",
       "      <th></th>\n",
       "      <th></th>\n",
       "      <th></th>\n",
       "      <th></th>\n",
       "      <th></th>\n",
       "    </tr>\n",
       "  </thead>\n",
       "  <tbody>\n",
       "    <tr>\n",
       "      <th>Albacete</th>\n",
       "      <td>172722</td>\n",
       "      <td>174336</td>\n",
       "      <td>173329</td>\n",
       "      <td>173050</td>\n",
       "      <td>172816</td>\n",
       "      <td>172426</td>\n",
       "      <td>172121</td>\n",
       "      <td>172487</td>\n",
       "      <td>172693</td>\n",
       "      <td>172472</td>\n",
       "      <td>...</td>\n",
       "      <td>170475</td>\n",
       "      <td>169716</td>\n",
       "      <td>166909</td>\n",
       "      <td>164771</td>\n",
       "      <td>161508</td>\n",
       "      <td>159518</td>\n",
       "      <td>156466</td>\n",
       "      <td>155142</td>\n",
       "      <td>152155</td>\n",
       "      <td>149507</td>\n",
       "    </tr>\n",
       "    <tr>\n",
       "      <th>Alicante/Alacant</th>\n",
       "      <td>337304</td>\n",
       "      <td>337482</td>\n",
       "      <td>334887</td>\n",
       "      <td>331577</td>\n",
       "      <td>329988</td>\n",
       "      <td>330525</td>\n",
       "      <td>328648</td>\n",
       "      <td>332067</td>\n",
       "      <td>335052</td>\n",
       "      <td>334678</td>\n",
       "      <td>...</td>\n",
       "      <td>334418</td>\n",
       "      <td>334757</td>\n",
       "      <td>331750</td>\n",
       "      <td>322673</td>\n",
       "      <td>322431</td>\n",
       "      <td>319380</td>\n",
       "      <td>310330</td>\n",
       "      <td>305911</td>\n",
       "      <td>293629</td>\n",
       "      <td>283243</td>\n",
       "    </tr>\n",
       "    <tr>\n",
       "      <th>Almería</th>\n",
       "      <td>200753</td>\n",
       "      <td>201322</td>\n",
       "      <td>198533</td>\n",
       "      <td>196851</td>\n",
       "      <td>195389</td>\n",
       "      <td>194515</td>\n",
       "      <td>194203</td>\n",
       "      <td>193351</td>\n",
       "      <td>192697</td>\n",
       "      <td>191443</td>\n",
       "      <td>...</td>\n",
       "      <td>190013</td>\n",
       "      <td>188810</td>\n",
       "      <td>187521</td>\n",
       "      <td>186651</td>\n",
       "      <td>185309</td>\n",
       "      <td>181702</td>\n",
       "      <td>177681</td>\n",
       "      <td>176727</td>\n",
       "      <td>173338</td>\n",
       "      <td>170994</td>\n",
       "    </tr>\n",
       "    <tr>\n",
       "      <th>Ávila</th>\n",
       "      <td>57949</td>\n",
       "      <td>58369</td>\n",
       "      <td>57744</td>\n",
       "      <td>57657</td>\n",
       "      <td>58149</td>\n",
       "      <td>58083</td>\n",
       "      <td>58358</td>\n",
       "      <td>58933</td>\n",
       "      <td>59258</td>\n",
       "      <td>58915</td>\n",
       "      <td>...</td>\n",
       "      <td>58245</td>\n",
       "      <td>56855</td>\n",
       "      <td>56144</td>\n",
       "      <td>53794</td>\n",
       "      <td>53272</td>\n",
       "      <td>52612</td>\n",
       "      <td>52417</td>\n",
       "      <td>52078</td>\n",
       "      <td>50241</td>\n",
       "      <td>47967</td>\n",
       "    </tr>\n",
       "    <tr>\n",
       "      <th>Badajoz</th>\n",
       "      <td>150610</td>\n",
       "      <td>150984</td>\n",
       "      <td>150702</td>\n",
       "      <td>150530</td>\n",
       "      <td>150543</td>\n",
       "      <td>149946</td>\n",
       "      <td>149892</td>\n",
       "      <td>150517</td>\n",
       "      <td>150621</td>\n",
       "      <td>152270</td>\n",
       "      <td>...</td>\n",
       "      <td>150376</td>\n",
       "      <td>148334</td>\n",
       "      <td>146832</td>\n",
       "      <td>145257</td>\n",
       "      <td>143748</td>\n",
       "      <td>143019</td>\n",
       "      <td>139135</td>\n",
       "      <td>138415</td>\n",
       "      <td>136851</td>\n",
       "      <td>136319</td>\n",
       "    </tr>\n",
       "    <tr>\n",
       "      <th>Barcelona</th>\n",
       "      <td>1636732</td>\n",
       "      <td>1664182</td>\n",
       "      <td>1636762</td>\n",
       "      <td>1620343</td>\n",
       "      <td>1620809</td>\n",
       "      <td>1608746</td>\n",
       "      <td>1604555</td>\n",
       "      <td>1602386</td>\n",
       "      <td>1611822</td>\n",
       "      <td>1620943</td>\n",
       "      <td>...</td>\n",
       "      <td>1619337</td>\n",
       "      <td>1621537</td>\n",
       "      <td>1615908</td>\n",
       "      <td>1595110</td>\n",
       "      <td>1605602</td>\n",
       "      <td>1593075</td>\n",
       "      <td>1578546</td>\n",
       "      <td>1582738</td>\n",
       "      <td>1527190</td>\n",
       "      <td>1505325</td>\n",
       "    </tr>\n",
       "    <tr>\n",
       "      <th>Bilbao</th>\n",
       "      <td>346405</td>\n",
       "      <td>350184</td>\n",
       "      <td>346843</td>\n",
       "      <td>345821</td>\n",
       "      <td>345110</td>\n",
       "      <td>345122</td>\n",
       "      <td>345141</td>\n",
       "      <td>346574</td>\n",
       "      <td>349356</td>\n",
       "      <td>351629</td>\n",
       "      <td>...</td>\n",
       "      <td>353187</td>\n",
       "      <td>354860</td>\n",
       "      <td>353340</td>\n",
       "      <td>353168</td>\n",
       "      <td>354145</td>\n",
       "      <td>353173</td>\n",
       "      <td>352317</td>\n",
       "      <td>353567</td>\n",
       "      <td>353950</td>\n",
       "      <td>353943</td>\n",
       "    </tr>\n",
       "    <tr>\n",
       "      <th>Burgos</th>\n",
       "      <td>174051</td>\n",
       "      <td>176418</td>\n",
       "      <td>175821</td>\n",
       "      <td>175921</td>\n",
       "      <td>175623</td>\n",
       "      <td>176608</td>\n",
       "      <td>177100</td>\n",
       "      <td>177776</td>\n",
       "      <td>179097</td>\n",
       "      <td>179906</td>\n",
       "      <td>...</td>\n",
       "      <td>178574</td>\n",
       "      <td>178966</td>\n",
       "      <td>177879</td>\n",
       "      <td>174075</td>\n",
       "      <td>173676</td>\n",
       "      <td>172421</td>\n",
       "      <td>169682</td>\n",
       "      <td>169317</td>\n",
       "      <td>167962</td>\n",
       "      <td>166251</td>\n",
       "    </tr>\n",
       "    <tr>\n",
       "      <th>Cáceres</th>\n",
       "      <td>95418</td>\n",
       "      <td>96255</td>\n",
       "      <td>96126</td>\n",
       "      <td>96068</td>\n",
       "      <td>95917</td>\n",
       "      <td>95814</td>\n",
       "      <td>95617</td>\n",
       "      <td>95855</td>\n",
       "      <td>95925</td>\n",
       "      <td>95668</td>\n",
       "      <td>...</td>\n",
       "      <td>94179</td>\n",
       "      <td>93131</td>\n",
       "      <td>92187</td>\n",
       "      <td>90802</td>\n",
       "      <td>90218</td>\n",
       "      <td>89029</td>\n",
       "      <td>88245</td>\n",
       "      <td>87088</td>\n",
       "      <td>84439</td>\n",
       "      <td>82034</td>\n",
       "    </tr>\n",
       "    <tr>\n",
       "      <th>Cádiz</th>\n",
       "      <td>114244</td>\n",
       "      <td>115439</td>\n",
       "      <td>116027</td>\n",
       "      <td>116979</td>\n",
       "      <td>118048</td>\n",
       "      <td>118919</td>\n",
       "      <td>120468</td>\n",
       "      <td>121739</td>\n",
       "      <td>122990</td>\n",
       "      <td>123948</td>\n",
       "      <td>...</td>\n",
       "      <td>125826</td>\n",
       "      <td>126766</td>\n",
       "      <td>127200</td>\n",
       "      <td>128554</td>\n",
       "      <td>130561</td>\n",
       "      <td>131813</td>\n",
       "      <td>133242</td>\n",
       "      <td>134989</td>\n",
       "      <td>136236</td>\n",
       "      <td>137971</td>\n",
       "    </tr>\n",
       "    <tr>\n",
       "      <th>Castelló de la Plana</th>\n",
       "      <td>172589</td>\n",
       "      <td>174264</td>\n",
       "      <td>171728</td>\n",
       "      <td>170888</td>\n",
       "      <td>169498</td>\n",
       "      <td>170990</td>\n",
       "      <td>171669</td>\n",
       "      <td>173841</td>\n",
       "      <td>180185</td>\n",
       "      <td>180204</td>\n",
       "      <td>...</td>\n",
       "      <td>180690</td>\n",
       "      <td>180005</td>\n",
       "      <td>177924</td>\n",
       "      <td>172624</td>\n",
       "      <td>172110</td>\n",
       "      <td>167455</td>\n",
       "      <td>163088</td>\n",
       "      <td>160714</td>\n",
       "      <td>153225</td>\n",
       "      <td>146563</td>\n",
       "    </tr>\n",
       "    <tr>\n",
       "      <th>Ciudad Real</th>\n",
       "      <td>75104</td>\n",
       "      <td>75504</td>\n",
       "      <td>74746</td>\n",
       "      <td>74743</td>\n",
       "      <td>74641</td>\n",
       "      <td>74054</td>\n",
       "      <td>74427</td>\n",
       "      <td>74960</td>\n",
       "      <td>74872</td>\n",
       "      <td>74921</td>\n",
       "      <td>...</td>\n",
       "      <td>74345</td>\n",
       "      <td>74014</td>\n",
       "      <td>72208</td>\n",
       "      <td>71005</td>\n",
       "      <td>70124</td>\n",
       "      <td>69063</td>\n",
       "      <td>67401</td>\n",
       "      <td>65703</td>\n",
       "      <td>65084</td>\n",
       "      <td>61280</td>\n",
       "    </tr>\n",
       "    <tr>\n",
       "      <th>Córdoba</th>\n",
       "      <td>322071</td>\n",
       "      <td>326039</td>\n",
       "      <td>325701</td>\n",
       "      <td>325708</td>\n",
       "      <td>325916</td>\n",
       "      <td>326609</td>\n",
       "      <td>327362</td>\n",
       "      <td>328041</td>\n",
       "      <td>328704</td>\n",
       "      <td>328841</td>\n",
       "      <td>...</td>\n",
       "      <td>328547</td>\n",
       "      <td>328428</td>\n",
       "      <td>325453</td>\n",
       "      <td>323600</td>\n",
       "      <td>322867</td>\n",
       "      <td>321164</td>\n",
       "      <td>319692</td>\n",
       "      <td>318628</td>\n",
       "      <td>314805</td>\n",
       "      <td>314034</td>\n",
       "    </tr>\n",
       "    <tr>\n",
       "      <th>Coruña, A</th>\n",
       "      <td>245468</td>\n",
       "      <td>247604</td>\n",
       "      <td>245711</td>\n",
       "      <td>244850</td>\n",
       "      <td>244099</td>\n",
       "      <td>243978</td>\n",
       "      <td>243870</td>\n",
       "      <td>244810</td>\n",
       "      <td>245923</td>\n",
       "      <td>246146</td>\n",
       "      <td>...</td>\n",
       "      <td>246047</td>\n",
       "      <td>246056</td>\n",
       "      <td>245164</td>\n",
       "      <td>244388</td>\n",
       "      <td>243320</td>\n",
       "      <td>243349</td>\n",
       "      <td>242846</td>\n",
       "      <td>243902</td>\n",
       "      <td>242458</td>\n",
       "      <td>239434</td>\n",
       "    </tr>\n",
       "    <tr>\n",
       "      <th>Cuenca</th>\n",
       "      <td>53988</td>\n",
       "      <td>54621</td>\n",
       "      <td>54690</td>\n",
       "      <td>54898</td>\n",
       "      <td>54876</td>\n",
       "      <td>55102</td>\n",
       "      <td>55428</td>\n",
       "      <td>55738</td>\n",
       "      <td>56107</td>\n",
       "      <td>57032</td>\n",
       "      <td>...</td>\n",
       "      <td>56189</td>\n",
       "      <td>55866</td>\n",
       "      <td>54600</td>\n",
       "      <td>52980</td>\n",
       "      <td>51205</td>\n",
       "      <td>49912</td>\n",
       "      <td>47862</td>\n",
       "      <td>47201</td>\n",
       "      <td>46859</td>\n",
       "      <td>46491</td>\n",
       "    </tr>\n",
       "    <tr>\n",
       "      <th>Donostia/San Sebastián</th>\n",
       "      <td>188102</td>\n",
       "      <td>188240</td>\n",
       "      <td>187415</td>\n",
       "      <td>186665</td>\n",
       "      <td>186370</td>\n",
       "      <td>186064</td>\n",
       "      <td>186095</td>\n",
       "      <td>186126</td>\n",
       "      <td>186500</td>\n",
       "      <td>186409</td>\n",
       "      <td>...</td>\n",
       "      <td>185506</td>\n",
       "      <td>185357</td>\n",
       "      <td>184248</td>\n",
       "      <td>183090</td>\n",
       "      <td>183308</td>\n",
       "      <td>182930</td>\n",
       "      <td>182644</td>\n",
       "      <td>181811</td>\n",
       "      <td>181700</td>\n",
       "      <td>181064</td>\n",
       "    </tr>\n",
       "    <tr>\n",
       "      <th>Girona</th>\n",
       "      <td>101932</td>\n",
       "      <td>103369</td>\n",
       "      <td>101852</td>\n",
       "      <td>100266</td>\n",
       "      <td>99013</td>\n",
       "      <td>98255</td>\n",
       "      <td>97586</td>\n",
       "      <td>97227</td>\n",
       "      <td>97292</td>\n",
       "      <td>97198</td>\n",
       "      <td>...</td>\n",
       "      <td>96236</td>\n",
       "      <td>96188</td>\n",
       "      <td>94484</td>\n",
       "      <td>92186</td>\n",
       "      <td>89890</td>\n",
       "      <td>86672</td>\n",
       "      <td>83531</td>\n",
       "      <td>81220</td>\n",
       "      <td>77475</td>\n",
       "      <td>75256</td>\n",
       "    </tr>\n",
       "    <tr>\n",
       "      <th>Granada</th>\n",
       "      <td>231775</td>\n",
       "      <td>233648</td>\n",
       "      <td>232462</td>\n",
       "      <td>232208</td>\n",
       "      <td>232770</td>\n",
       "      <td>234758</td>\n",
       "      <td>235800</td>\n",
       "      <td>237540</td>\n",
       "      <td>237818</td>\n",
       "      <td>239017</td>\n",
       "      <td>...</td>\n",
       "      <td>239154</td>\n",
       "      <td>234325</td>\n",
       "      <td>236988</td>\n",
       "      <td>236207</td>\n",
       "      <td>237929</td>\n",
       "      <td>236982</td>\n",
       "      <td>238292</td>\n",
       "      <td>237663</td>\n",
       "      <td>240522</td>\n",
       "      <td>243341</td>\n",
       "    </tr>\n",
       "    <tr>\n",
       "      <th>Guadalajara</th>\n",
       "      <td>87064</td>\n",
       "      <td>87484</td>\n",
       "      <td>85871</td>\n",
       "      <td>84910</td>\n",
       "      <td>84145</td>\n",
       "      <td>83633</td>\n",
       "      <td>83391</td>\n",
       "      <td>83720</td>\n",
       "      <td>84504</td>\n",
       "      <td>84803</td>\n",
       "      <td>...</td>\n",
       "      <td>83789</td>\n",
       "      <td>83039</td>\n",
       "      <td>81221</td>\n",
       "      <td>77925</td>\n",
       "      <td>75493</td>\n",
       "      <td>73719</td>\n",
       "      <td>71815</td>\n",
       "      <td>70732</td>\n",
       "      <td>69098</td>\n",
       "      <td>67640</td>\n",
       "    </tr>\n",
       "    <tr>\n",
       "      <th>Huelva</th>\n",
       "      <td>142538</td>\n",
       "      <td>143837</td>\n",
       "      <td>143663</td>\n",
       "      <td>144258</td>\n",
       "      <td>145115</td>\n",
       "      <td>145468</td>\n",
       "      <td>146318</td>\n",
       "      <td>147212</td>\n",
       "      <td>148101</td>\n",
       "      <td>148568</td>\n",
       "      <td>...</td>\n",
       "      <td>149310</td>\n",
       "      <td>148806</td>\n",
       "      <td>148027</td>\n",
       "      <td>146173</td>\n",
       "      <td>145763</td>\n",
       "      <td>145150</td>\n",
       "      <td>144369</td>\n",
       "      <td>144831</td>\n",
       "      <td>140862</td>\n",
       "      <td>141334</td>\n",
       "    </tr>\n",
       "    <tr>\n",
       "      <th>Huesca</th>\n",
       "      <td>53429</td>\n",
       "      <td>53956</td>\n",
       "      <td>53132</td>\n",
       "      <td>52463</td>\n",
       "      <td>52223</td>\n",
       "      <td>52282</td>\n",
       "      <td>52239</td>\n",
       "      <td>52555</td>\n",
       "      <td>52418</td>\n",
       "      <td>52296</td>\n",
       "      <td>...</td>\n",
       "      <td>52347</td>\n",
       "      <td>52059</td>\n",
       "      <td>51117</td>\n",
       "      <td>49819</td>\n",
       "      <td>49312</td>\n",
       "      <td>48530</td>\n",
       "      <td>47923</td>\n",
       "      <td>47609</td>\n",
       "      <td>46462</td>\n",
       "      <td>45874</td>\n",
       "    </tr>\n",
       "    <tr>\n",
       "      <th>Jaén</th>\n",
       "      <td>111932</td>\n",
       "      <td>112757</td>\n",
       "      <td>112999</td>\n",
       "      <td>113457</td>\n",
       "      <td>114238</td>\n",
       "      <td>114658</td>\n",
       "      <td>115395</td>\n",
       "      <td>115837</td>\n",
       "      <td>116176</td>\n",
       "      <td>116731</td>\n",
       "      <td>...</td>\n",
       "      <td>116790</td>\n",
       "      <td>116557</td>\n",
       "      <td>116417</td>\n",
       "      <td>116393</td>\n",
       "      <td>116769</td>\n",
       "      <td>116540</td>\n",
       "      <td>115917</td>\n",
       "      <td>115638</td>\n",
       "      <td>112921</td>\n",
       "      <td>111406</td>\n",
       "    </tr>\n",
       "    <tr>\n",
       "      <th>León</th>\n",
       "      <td>122051</td>\n",
       "      <td>124028</td>\n",
       "      <td>124303</td>\n",
       "      <td>124772</td>\n",
       "      <td>125317</td>\n",
       "      <td>126192</td>\n",
       "      <td>127817</td>\n",
       "      <td>129551</td>\n",
       "      <td>130601</td>\n",
       "      <td>131680</td>\n",
       "      <td>...</td>\n",
       "      <td>134012</td>\n",
       "      <td>134305</td>\n",
       "      <td>135119</td>\n",
       "      <td>135059</td>\n",
       "      <td>136985</td>\n",
       "      <td>136414</td>\n",
       "      <td>135789</td>\n",
       "      <td>135634</td>\n",
       "      <td>135794</td>\n",
       "      <td>137384</td>\n",
       "    </tr>\n",
       "    <tr>\n",
       "      <th>Lleida</th>\n",
       "      <td>140080</td>\n",
       "      <td>140403</td>\n",
       "      <td>138956</td>\n",
       "      <td>137856</td>\n",
       "      <td>137327</td>\n",
       "      <td>138144</td>\n",
       "      <td>138542</td>\n",
       "      <td>139176</td>\n",
       "      <td>139809</td>\n",
       "      <td>139834</td>\n",
       "      <td>...</td>\n",
       "      <td>137387</td>\n",
       "      <td>135919</td>\n",
       "      <td>131731</td>\n",
       "      <td>127314</td>\n",
       "      <td>125677</td>\n",
       "      <td>124709</td>\n",
       "      <td>119935</td>\n",
       "      <td>118035</td>\n",
       "      <td>115000</td>\n",
       "      <td>113040</td>\n",
       "    </tr>\n",
       "    <tr>\n",
       "      <th>Logroño</th>\n",
       "      <td>150808</td>\n",
       "      <td>152485</td>\n",
       "      <td>151136</td>\n",
       "      <td>151113</td>\n",
       "      <td>150979</td>\n",
       "      <td>150876</td>\n",
       "      <td>151344</td>\n",
       "      <td>151962</td>\n",
       "      <td>153066</td>\n",
       "      <td>153402</td>\n",
       "      <td>...</td>\n",
       "      <td>152650</td>\n",
       "      <td>152107</td>\n",
       "      <td>150071</td>\n",
       "      <td>145866</td>\n",
       "      <td>147036</td>\n",
       "      <td>144935</td>\n",
       "      <td>141568</td>\n",
       "      <td>139615</td>\n",
       "      <td>136841</td>\n",
       "      <td>131655</td>\n",
       "    </tr>\n",
       "    <tr>\n",
       "      <th>Lugo</th>\n",
       "      <td>97613</td>\n",
       "      <td>98519</td>\n",
       "      <td>98276</td>\n",
       "      <td>98025</td>\n",
       "      <td>97995</td>\n",
       "      <td>98268</td>\n",
       "      <td>98134</td>\n",
       "      <td>98560</td>\n",
       "      <td>98761</td>\n",
       "      <td>98457</td>\n",
       "      <td>...</td>\n",
       "      <td>97635</td>\n",
       "      <td>96678</td>\n",
       "      <td>95416</td>\n",
       "      <td>93853</td>\n",
       "      <td>93450</td>\n",
       "      <td>92271</td>\n",
       "      <td>91426</td>\n",
       "      <td>91158</td>\n",
       "      <td>89509</td>\n",
       "      <td>88901</td>\n",
       "    </tr>\n",
       "    <tr>\n",
       "      <th>Madrid</th>\n",
       "      <td>3305408</td>\n",
       "      <td>3334730</td>\n",
       "      <td>3266126</td>\n",
       "      <td>3223334</td>\n",
       "      <td>3182981</td>\n",
       "      <td>3165541</td>\n",
       "      <td>3141991</td>\n",
       "      <td>3165235</td>\n",
       "      <td>3207247</td>\n",
       "      <td>3233527</td>\n",
       "      <td>...</td>\n",
       "      <td>3273049</td>\n",
       "      <td>3255944</td>\n",
       "      <td>3213271</td>\n",
       "      <td>3132463</td>\n",
       "      <td>3128600</td>\n",
       "      <td>3155359</td>\n",
       "      <td>3099834</td>\n",
       "      <td>3092759</td>\n",
       "      <td>3016788</td>\n",
       "      <td>2957058</td>\n",
       "    </tr>\n",
       "    <tr>\n",
       "      <th>Málaga</th>\n",
       "      <td>577405</td>\n",
       "      <td>578460</td>\n",
       "      <td>574654</td>\n",
       "      <td>571026</td>\n",
       "      <td>569002</td>\n",
       "      <td>569009</td>\n",
       "      <td>569130</td>\n",
       "      <td>566913</td>\n",
       "      <td>568479</td>\n",
       "      <td>567433</td>\n",
       "      <td>...</td>\n",
       "      <td>568507</td>\n",
       "      <td>568305</td>\n",
       "      <td>566447</td>\n",
       "      <td>561250</td>\n",
       "      <td>560631</td>\n",
       "      <td>558287</td>\n",
       "      <td>547731</td>\n",
       "      <td>547105</td>\n",
       "      <td>535686</td>\n",
       "      <td>534207</td>\n",
       "    </tr>\n",
       "    <tr>\n",
       "      <th>Murcia</th>\n",
       "      <td>460349</td>\n",
       "      <td>459403</td>\n",
       "      <td>453258</td>\n",
       "      <td>447182</td>\n",
       "      <td>443243</td>\n",
       "      <td>441003</td>\n",
       "      <td>439889</td>\n",
       "      <td>439712</td>\n",
       "      <td>438246</td>\n",
       "      <td>441354</td>\n",
       "      <td>...</td>\n",
       "      <td>441345</td>\n",
       "      <td>436870</td>\n",
       "      <td>430571</td>\n",
       "      <td>422861</td>\n",
       "      <td>416996</td>\n",
       "      <td>409810</td>\n",
       "      <td>398815</td>\n",
       "      <td>391146</td>\n",
       "      <td>377888</td>\n",
       "      <td>367189</td>\n",
       "    </tr>\n",
       "    <tr>\n",
       "      <th>Ourense</th>\n",
       "      <td>104596</td>\n",
       "      <td>105643</td>\n",
       "      <td>105233</td>\n",
       "      <td>105505</td>\n",
       "      <td>105636</td>\n",
       "      <td>105893</td>\n",
       "      <td>106231</td>\n",
       "      <td>106905</td>\n",
       "      <td>107542</td>\n",
       "      <td>107597</td>\n",
       "      <td>...</td>\n",
       "      <td>108673</td>\n",
       "      <td>107742</td>\n",
       "      <td>107057</td>\n",
       "      <td>107186</td>\n",
       "      <td>108137</td>\n",
       "      <td>108358</td>\n",
       "      <td>108600</td>\n",
       "      <td>109475</td>\n",
       "      <td>109011</td>\n",
       "      <td>109051</td>\n",
       "    </tr>\n",
       "    <tr>\n",
       "      <th>Oviedo</th>\n",
       "      <td>217552</td>\n",
       "      <td>219910</td>\n",
       "      <td>219686</td>\n",
       "      <td>220020</td>\n",
       "      <td>220301</td>\n",
       "      <td>220567</td>\n",
       "      <td>221870</td>\n",
       "      <td>223765</td>\n",
       "      <td>225089</td>\n",
       "      <td>225973</td>\n",
       "      <td>...</td>\n",
       "      <td>225155</td>\n",
       "      <td>224005</td>\n",
       "      <td>220644</td>\n",
       "      <td>216607</td>\n",
       "      <td>214883</td>\n",
       "      <td>212174</td>\n",
       "      <td>209495</td>\n",
       "      <td>207699</td>\n",
       "      <td>202938</td>\n",
       "      <td>201005</td>\n",
       "    </tr>\n",
       "    <tr>\n",
       "      <th>Palencia</th>\n",
       "      <td>77090</td>\n",
       "      <td>78144</td>\n",
       "      <td>78412</td>\n",
       "      <td>78629</td>\n",
       "      <td>78892</td>\n",
       "      <td>79137</td>\n",
       "      <td>79595</td>\n",
       "      <td>80178</td>\n",
       "      <td>80649</td>\n",
       "      <td>81198</td>\n",
       "      <td>...</td>\n",
       "      <td>82169</td>\n",
       "      <td>82651</td>\n",
       "      <td>82626</td>\n",
       "      <td>82286</td>\n",
       "      <td>82263</td>\n",
       "      <td>81439</td>\n",
       "      <td>81207</td>\n",
       "      <td>81378</td>\n",
       "      <td>80801</td>\n",
       "      <td>80836</td>\n",
       "    </tr>\n",
       "    <tr>\n",
       "      <th>Palma</th>\n",
       "      <td>419366</td>\n",
       "      <td>422587</td>\n",
       "      <td>416065</td>\n",
       "      <td>409661</td>\n",
       "      <td>406492</td>\n",
       "      <td>402949</td>\n",
       "      <td>400578</td>\n",
       "      <td>399093</td>\n",
       "      <td>398162</td>\n",
       "      <td>407648</td>\n",
       "      <td>...</td>\n",
       "      <td>404681</td>\n",
       "      <td>401270</td>\n",
       "      <td>396570</td>\n",
       "      <td>383107</td>\n",
       "      <td>375048</td>\n",
       "      <td>375773</td>\n",
       "      <td>368974</td>\n",
       "      <td>367277</td>\n",
       "      <td>358462</td>\n",
       "      <td>346720</td>\n",
       "    </tr>\n",
       "    <tr>\n",
       "      <th>Palmas de Gran Canaria, Las</th>\n",
       "      <td>378675</td>\n",
       "      <td>381223</td>\n",
       "      <td>379925</td>\n",
       "      <td>378517</td>\n",
       "      <td>377650</td>\n",
       "      <td>378998</td>\n",
       "      <td>379766</td>\n",
       "      <td>382283</td>\n",
       "      <td>383050</td>\n",
       "      <td>382296</td>\n",
       "      <td>...</td>\n",
       "      <td>383308</td>\n",
       "      <td>381847</td>\n",
       "      <td>381123</td>\n",
       "      <td>377203</td>\n",
       "      <td>377056</td>\n",
       "      <td>378628</td>\n",
       "      <td>376953</td>\n",
       "      <td>377600</td>\n",
       "      <td>370649</td>\n",
       "      <td>364777</td>\n",
       "    </tr>\n",
       "    <tr>\n",
       "      <th>Pamplona/Iruña</th>\n",
       "      <td>203081</td>\n",
       "      <td>203944</td>\n",
       "      <td>201653</td>\n",
       "      <td>199066</td>\n",
       "      <td>197138</td>\n",
       "      <td>195650</td>\n",
       "      <td>195853</td>\n",
       "      <td>196166</td>\n",
       "      <td>196955</td>\n",
       "      <td>197604</td>\n",
       "      <td>...</td>\n",
       "      <td>197488</td>\n",
       "      <td>198491</td>\n",
       "      <td>197275</td>\n",
       "      <td>194894</td>\n",
       "      <td>195769</td>\n",
       "      <td>193328</td>\n",
       "      <td>191865</td>\n",
       "      <td>190937</td>\n",
       "      <td>189364</td>\n",
       "      <td>186245</td>\n",
       "    </tr>\n",
       "    <tr>\n",
       "      <th>Pontevedra</th>\n",
       "      <td>83114</td>\n",
       "      <td>83260</td>\n",
       "      <td>83029</td>\n",
       "      <td>82802</td>\n",
       "      <td>82671</td>\n",
       "      <td>82549</td>\n",
       "      <td>82539</td>\n",
       "      <td>82946</td>\n",
       "      <td>82934</td>\n",
       "      <td>82684</td>\n",
       "      <td>...</td>\n",
       "      <td>81981</td>\n",
       "      <td>81576</td>\n",
       "      <td>80749</td>\n",
       "      <td>80202</td>\n",
       "      <td>80096</td>\n",
       "      <td>79372</td>\n",
       "      <td>78715</td>\n",
       "      <td>77993</td>\n",
       "      <td>76798</td>\n",
       "      <td>75864</td>\n",
       "    </tr>\n",
       "    <tr>\n",
       "      <th>Salamanca</th>\n",
       "      <td>143269</td>\n",
       "      <td>144825</td>\n",
       "      <td>144228</td>\n",
       "      <td>143978</td>\n",
       "      <td>144436</td>\n",
       "      <td>144949</td>\n",
       "      <td>146438</td>\n",
       "      <td>148042</td>\n",
       "      <td>149528</td>\n",
       "      <td>152048</td>\n",
       "      <td>...</td>\n",
       "      <td>154462</td>\n",
       "      <td>155619</td>\n",
       "      <td>155740</td>\n",
       "      <td>155921</td>\n",
       "      <td>159754</td>\n",
       "      <td>160331</td>\n",
       "      <td>160415</td>\n",
       "      <td>157906</td>\n",
       "      <td>156006</td>\n",
       "      <td>158523</td>\n",
       "    </tr>\n",
       "    <tr>\n",
       "      <th>Santa Cruz de Tenerife</th>\n",
       "      <td>208563</td>\n",
       "      <td>209194</td>\n",
       "      <td>207312</td>\n",
       "      <td>204856</td>\n",
       "      <td>203692</td>\n",
       "      <td>203585</td>\n",
       "      <td>203811</td>\n",
       "      <td>205279</td>\n",
       "      <td>206593</td>\n",
       "      <td>206965</td>\n",
       "      <td>...</td>\n",
       "      <td>222643</td>\n",
       "      <td>222417</td>\n",
       "      <td>221956</td>\n",
       "      <td>220902</td>\n",
       "      <td>223148</td>\n",
       "      <td>221567</td>\n",
       "      <td>219446</td>\n",
       "      <td>220022</td>\n",
       "      <td>217415</td>\n",
       "      <td>214153</td>\n",
       "    </tr>\n",
       "    <tr>\n",
       "      <th>Santander</th>\n",
       "      <td>172221</td>\n",
       "      <td>173375</td>\n",
       "      <td>172539</td>\n",
       "      <td>172044</td>\n",
       "      <td>171951</td>\n",
       "      <td>172656</td>\n",
       "      <td>173957</td>\n",
       "      <td>175736</td>\n",
       "      <td>177123</td>\n",
       "      <td>178465</td>\n",
       "      <td>...</td>\n",
       "      <td>181589</td>\n",
       "      <td>182700</td>\n",
       "      <td>182302</td>\n",
       "      <td>181802</td>\n",
       "      <td>182926</td>\n",
       "      <td>183955</td>\n",
       "      <td>183799</td>\n",
       "      <td>184778</td>\n",
       "      <td>184661</td>\n",
       "      <td>185231</td>\n",
       "    </tr>\n",
       "    <tr>\n",
       "      <th>Segovia</th>\n",
       "      <td>51258</td>\n",
       "      <td>52057</td>\n",
       "      <td>51674</td>\n",
       "      <td>51683</td>\n",
       "      <td>51756</td>\n",
       "      <td>52257</td>\n",
       "      <td>52728</td>\n",
       "      <td>53260</td>\n",
       "      <td>54309</td>\n",
       "      <td>54844</td>\n",
       "      <td>...</td>\n",
       "      <td>55748</td>\n",
       "      <td>56660</td>\n",
       "      <td>56858</td>\n",
       "      <td>56047</td>\n",
       "      <td>55476</td>\n",
       "      <td>55942</td>\n",
       "      <td>55586</td>\n",
       "      <td>55640</td>\n",
       "      <td>54945</td>\n",
       "      <td>54039</td>\n",
       "    </tr>\n",
       "    <tr>\n",
       "      <th>Sevilla</th>\n",
       "      <td>684234</td>\n",
       "      <td>691395</td>\n",
       "      <td>688592</td>\n",
       "      <td>688711</td>\n",
       "      <td>689434</td>\n",
       "      <td>690566</td>\n",
       "      <td>693878</td>\n",
       "      <td>696676</td>\n",
       "      <td>700169</td>\n",
       "      <td>702355</td>\n",
       "      <td>...</td>\n",
       "      <td>704198</td>\n",
       "      <td>703206</td>\n",
       "      <td>699759</td>\n",
       "      <td>699145</td>\n",
       "      <td>704414</td>\n",
       "      <td>704154</td>\n",
       "      <td>704203</td>\n",
       "      <td>709975</td>\n",
       "      <td>704114</td>\n",
       "      <td>702520</td>\n",
       "    </tr>\n",
       "    <tr>\n",
       "      <th>Soria</th>\n",
       "      <td>39695</td>\n",
       "      <td>39821</td>\n",
       "      <td>39398</td>\n",
       "      <td>39112</td>\n",
       "      <td>38881</td>\n",
       "      <td>39171</td>\n",
       "      <td>39168</td>\n",
       "      <td>39516</td>\n",
       "      <td>39753</td>\n",
       "      <td>40147</td>\n",
       "      <td>...</td>\n",
       "      <td>39838</td>\n",
       "      <td>39528</td>\n",
       "      <td>39078</td>\n",
       "      <td>38205</td>\n",
       "      <td>38004</td>\n",
       "      <td>37200</td>\n",
       "      <td>35769</td>\n",
       "      <td>35178</td>\n",
       "      <td>35112</td>\n",
       "      <td>34640</td>\n",
       "    </tr>\n",
       "    <tr>\n",
       "      <th>Tarragona</th>\n",
       "      <td>135436</td>\n",
       "      <td>136496</td>\n",
       "      <td>134515</td>\n",
       "      <td>132299</td>\n",
       "      <td>131507</td>\n",
       "      <td>131094</td>\n",
       "      <td>131255</td>\n",
       "      <td>132199</td>\n",
       "      <td>133545</td>\n",
       "      <td>133954</td>\n",
       "      <td>...</td>\n",
       "      <td>140184</td>\n",
       "      <td>140323</td>\n",
       "      <td>137536</td>\n",
       "      <td>134163</td>\n",
       "      <td>131158</td>\n",
       "      <td>128152</td>\n",
       "      <td>123584</td>\n",
       "      <td>121076</td>\n",
       "      <td>117184</td>\n",
       "      <td>115153</td>\n",
       "    </tr>\n",
       "    <tr>\n",
       "      <th>Teruel</th>\n",
       "      <td>35994</td>\n",
       "      <td>36240</td>\n",
       "      <td>35890</td>\n",
       "      <td>35691</td>\n",
       "      <td>35484</td>\n",
       "      <td>35564</td>\n",
       "      <td>35590</td>\n",
       "      <td>35675</td>\n",
       "      <td>35961</td>\n",
       "      <td>35841</td>\n",
       "      <td>...</td>\n",
       "      <td>35241</td>\n",
       "      <td>35396</td>\n",
       "      <td>35037</td>\n",
       "      <td>34236</td>\n",
       "      <td>33673</td>\n",
       "      <td>33238</td>\n",
       "      <td>32580</td>\n",
       "      <td>32304</td>\n",
       "      <td>31506</td>\n",
       "      <td>30789</td>\n",
       "    </tr>\n",
       "    <tr>\n",
       "      <th>Toledo</th>\n",
       "      <td>85449</td>\n",
       "      <td>85811</td>\n",
       "      <td>84873</td>\n",
       "      <td>84282</td>\n",
       "      <td>83741</td>\n",
       "      <td>83459</td>\n",
       "      <td>83226</td>\n",
       "      <td>83334</td>\n",
       "      <td>83593</td>\n",
       "      <td>84019</td>\n",
       "      <td>...</td>\n",
       "      <td>82489</td>\n",
       "      <td>82291</td>\n",
       "      <td>80810</td>\n",
       "      <td>78618</td>\n",
       "      <td>77601</td>\n",
       "      <td>75533</td>\n",
       "      <td>73485</td>\n",
       "      <td>72549</td>\n",
       "      <td>70893</td>\n",
       "      <td>69450</td>\n",
       "    </tr>\n",
       "    <tr>\n",
       "      <th>València</th>\n",
       "      <td>789744</td>\n",
       "      <td>800215</td>\n",
       "      <td>794288</td>\n",
       "      <td>791413</td>\n",
       "      <td>787808</td>\n",
       "      <td>790201</td>\n",
       "      <td>786189</td>\n",
       "      <td>786424</td>\n",
       "      <td>792303</td>\n",
       "      <td>797028</td>\n",
       "      <td>...</td>\n",
       "      <td>809267</td>\n",
       "      <td>814208</td>\n",
       "      <td>807200</td>\n",
       "      <td>797654</td>\n",
       "      <td>805304</td>\n",
       "      <td>796549</td>\n",
       "      <td>785732</td>\n",
       "      <td>780653</td>\n",
       "      <td>761871</td>\n",
       "      <td>746612</td>\n",
       "    </tr>\n",
       "    <tr>\n",
       "      <th>Valladolid</th>\n",
       "      <td>297775</td>\n",
       "      <td>299265</td>\n",
       "      <td>298412</td>\n",
       "      <td>298866</td>\n",
       "      <td>299715</td>\n",
       "      <td>301876</td>\n",
       "      <td>303905</td>\n",
       "      <td>306830</td>\n",
       "      <td>309714</td>\n",
       "      <td>311501</td>\n",
       "      <td>...</td>\n",
       "      <td>315522</td>\n",
       "      <td>317864</td>\n",
       "      <td>318461</td>\n",
       "      <td>316564</td>\n",
       "      <td>319943</td>\n",
       "      <td>321001</td>\n",
       "      <td>321713</td>\n",
       "      <td>321143</td>\n",
       "      <td>318576</td>\n",
       "      <td>318293</td>\n",
       "    </tr>\n",
       "    <tr>\n",
       "      <th>Vitoria-Gasteiz</th>\n",
       "      <td>253093</td>\n",
       "      <td>253996</td>\n",
       "      <td>251774</td>\n",
       "      <td>249176</td>\n",
       "      <td>246976</td>\n",
       "      <td>244634</td>\n",
       "      <td>243918</td>\n",
       "      <td>242082</td>\n",
       "      <td>241386</td>\n",
       "      <td>242223</td>\n",
       "      <td>...</td>\n",
       "      <td>238247</td>\n",
       "      <td>235661</td>\n",
       "      <td>232477</td>\n",
       "      <td>229484</td>\n",
       "      <td>227568</td>\n",
       "      <td>226490</td>\n",
       "      <td>223702</td>\n",
       "      <td>223257</td>\n",
       "      <td>221270</td>\n",
       "      <td>218902</td>\n",
       "    </tr>\n",
       "    <tr>\n",
       "      <th>Zamora</th>\n",
       "      <td>60297</td>\n",
       "      <td>60988</td>\n",
       "      <td>61406</td>\n",
       "      <td>61827</td>\n",
       "      <td>62389</td>\n",
       "      <td>63217</td>\n",
       "      <td>63831</td>\n",
       "      <td>64423</td>\n",
       "      <td>64986</td>\n",
       "      <td>65362</td>\n",
       "      <td>...</td>\n",
       "      <td>65998</td>\n",
       "      <td>66293</td>\n",
       "      <td>66672</td>\n",
       "      <td>66138</td>\n",
       "      <td>66135</td>\n",
       "      <td>66123</td>\n",
       "      <td>65646</td>\n",
       "      <td>65639</td>\n",
       "      <td>65575</td>\n",
       "      <td>65633</td>\n",
       "    </tr>\n",
       "    <tr>\n",
       "      <th>Zaragoza</th>\n",
       "      <td>675301</td>\n",
       "      <td>681877</td>\n",
       "      <td>674997</td>\n",
       "      <td>666880</td>\n",
       "      <td>664938</td>\n",
       "      <td>661108</td>\n",
       "      <td>664953</td>\n",
       "      <td>666058</td>\n",
       "      <td>682004</td>\n",
       "      <td>679624</td>\n",
       "      <td>...</td>\n",
       "      <td>675121</td>\n",
       "      <td>674317</td>\n",
       "      <td>666129</td>\n",
       "      <td>654390</td>\n",
       "      <td>649181</td>\n",
       "      <td>647373</td>\n",
       "      <td>638799</td>\n",
       "      <td>626081</td>\n",
       "      <td>620419</td>\n",
       "      <td>610976</td>\n",
       "    </tr>\n",
       "  </tbody>\n",
       "</table>\n",
       "<p>50 rows × 21 columns</p>\n",
       "</div>"
      ],
      "text/plain": [
       "                                 2021     2020     2019     2018     2017  \\\n",
       "Pob_Cap                                                                     \n",
       " Albacete                      172722   174336   173329   173050   172816   \n",
       " Alicante/Alacant              337304   337482   334887   331577   329988   \n",
       " Almería                       200753   201322   198533   196851   195389   \n",
       " Ávila                          57949    58369    57744    57657    58149   \n",
       " Badajoz                       150610   150984   150702   150530   150543   \n",
       " Barcelona                    1636732  1664182  1636762  1620343  1620809   \n",
       " Bilbao                        346405   350184   346843   345821   345110   \n",
       " Burgos                        174051   176418   175821   175921   175623   \n",
       " Cáceres                        95418    96255    96126    96068    95917   \n",
       " Cádiz                         114244   115439   116027   116979   118048   \n",
       " Castelló de la Plana          172589   174264   171728   170888   169498   \n",
       " Ciudad Real                    75104    75504    74746    74743    74641   \n",
       " Córdoba                       322071   326039   325701   325708   325916   \n",
       " Coruña, A                     245468   247604   245711   244850   244099   \n",
       " Cuenca                         53988    54621    54690    54898    54876   \n",
       " Donostia/San Sebastián        188102   188240   187415   186665   186370   \n",
       " Girona                        101932   103369   101852   100266    99013   \n",
       " Granada                       231775   233648   232462   232208   232770   \n",
       " Guadalajara                    87064    87484    85871    84910    84145   \n",
       " Huelva                        142538   143837   143663   144258   145115   \n",
       " Huesca                         53429    53956    53132    52463    52223   \n",
       " Jaén                          111932   112757   112999   113457   114238   \n",
       " León                          122051   124028   124303   124772   125317   \n",
       " Lleida                        140080   140403   138956   137856   137327   \n",
       " Logroño                       150808   152485   151136   151113   150979   \n",
       " Lugo                           97613    98519    98276    98025    97995   \n",
       " Madrid                       3305408  3334730  3266126  3223334  3182981   \n",
       " Málaga                        577405   578460   574654   571026   569002   \n",
       " Murcia                        460349   459403   453258   447182   443243   \n",
       " Ourense                       104596   105643   105233   105505   105636   \n",
       " Oviedo                        217552   219910   219686   220020   220301   \n",
       " Palencia                       77090    78144    78412    78629    78892   \n",
       " Palma                         419366   422587   416065   409661   406492   \n",
       " Palmas de Gran Canaria, Las   378675   381223   379925   378517   377650   \n",
       " Pamplona/Iruña                203081   203944   201653   199066   197138   \n",
       " Pontevedra                     83114    83260    83029    82802    82671   \n",
       " Salamanca                     143269   144825   144228   143978   144436   \n",
       " Santa Cruz de Tenerife        208563   209194   207312   204856   203692   \n",
       " Santander                     172221   173375   172539   172044   171951   \n",
       " Segovia                        51258    52057    51674    51683    51756   \n",
       " Sevilla                       684234   691395   688592   688711   689434   \n",
       " Soria                          39695    39821    39398    39112    38881   \n",
       " Tarragona                     135436   136496   134515   132299   131507   \n",
       " Teruel                         35994    36240    35890    35691    35484   \n",
       " Toledo                         85449    85811    84873    84282    83741   \n",
       " València                      789744   800215   794288   791413   787808   \n",
       " Valladolid                    297775   299265   298412   298866   299715   \n",
       " Vitoria-Gasteiz               253093   253996   251774   249176   246976   \n",
       " Zamora                         60297    60988    61406    61827    62389   \n",
       " Zaragoza                      675301   681877   674997   666880   664938   \n",
       "\n",
       "                                 2016     2015     2014     2013     2012  \\\n",
       "Pob_Cap                                                                     \n",
       " Albacete                      172426   172121   172487   172693   172472   \n",
       " Alicante/Alacant              330525   328648   332067   335052   334678   \n",
       " Almería                       194515   194203   193351   192697   191443   \n",
       " Ávila                          58083    58358    58933    59258    58915   \n",
       " Badajoz                       149946   149892   150517   150621   152270   \n",
       " Barcelona                    1608746  1604555  1602386  1611822  1620943   \n",
       " Bilbao                        345122   345141   346574   349356   351629   \n",
       " Burgos                        176608   177100   177776   179097   179906   \n",
       " Cáceres                        95814    95617    95855    95925    95668   \n",
       " Cádiz                         118919   120468   121739   122990   123948   \n",
       " Castelló de la Plana          170990   171669   173841   180185   180204   \n",
       " Ciudad Real                    74054    74427    74960    74872    74921   \n",
       " Córdoba                       326609   327362   328041   328704   328841   \n",
       " Coruña, A                     243978   243870   244810   245923   246146   \n",
       " Cuenca                         55102    55428    55738    56107    57032   \n",
       " Donostia/San Sebastián        186064   186095   186126   186500   186409   \n",
       " Girona                         98255    97586    97227    97292    97198   \n",
       " Granada                       234758   235800   237540   237818   239017   \n",
       " Guadalajara                    83633    83391    83720    84504    84803   \n",
       " Huelva                        145468   146318   147212   148101   148568   \n",
       " Huesca                         52282    52239    52555    52418    52296   \n",
       " Jaén                          114658   115395   115837   116176   116731   \n",
       " León                          126192   127817   129551   130601   131680   \n",
       " Lleida                        138144   138542   139176   139809   139834   \n",
       " Logroño                       150876   151344   151962   153066   153402   \n",
       " Lugo                           98268    98134    98560    98761    98457   \n",
       " Madrid                       3165541  3141991  3165235  3207247  3233527   \n",
       " Málaga                        569009   569130   566913   568479   567433   \n",
       " Murcia                        441003   439889   439712   438246   441354   \n",
       " Ourense                       105893   106231   106905   107542   107597   \n",
       " Oviedo                        220567   221870   223765   225089   225973   \n",
       " Palencia                       79137    79595    80178    80649    81198   \n",
       " Palma                         402949   400578   399093   398162   407648   \n",
       " Palmas de Gran Canaria, Las   378998   379766   382283   383050   382296   \n",
       " Pamplona/Iruña                195650   195853   196166   196955   197604   \n",
       " Pontevedra                     82549    82539    82946    82934    82684   \n",
       " Salamanca                     144949   146438   148042   149528   152048   \n",
       " Santa Cruz de Tenerife        203585   203811   205279   206593   206965   \n",
       " Santander                     172656   173957   175736   177123   178465   \n",
       " Segovia                        52257    52728    53260    54309    54844   \n",
       " Sevilla                       690566   693878   696676   700169   702355   \n",
       " Soria                          39171    39168    39516    39753    40147   \n",
       " Tarragona                     131094   131255   132199   133545   133954   \n",
       " Teruel                         35564    35590    35675    35961    35841   \n",
       " Toledo                         83459    83226    83334    83593    84019   \n",
       " València                      790201   786189   786424   792303   797028   \n",
       " Valladolid                    301876   303905   306830   309714   311501   \n",
       " Vitoria-Gasteiz               244634   243918   242082   241386   242223   \n",
       " Zamora                         63217    63831    64423    64986    65362   \n",
       " Zaragoza                      661108   664953   666058   682004   679624   \n",
       "\n",
       "                              ...     2010     2009     2008     2007  \\\n",
       "Pob_Cap                       ...                                       \n",
       " Albacete                     ...   170475   169716   166909   164771   \n",
       " Alicante/Alacant             ...   334418   334757   331750   322673   \n",
       " Almería                      ...   190013   188810   187521   186651   \n",
       " Ávila                        ...    58245    56855    56144    53794   \n",
       " Badajoz                      ...   150376   148334   146832   145257   \n",
       " Barcelona                    ...  1619337  1621537  1615908  1595110   \n",
       " Bilbao                       ...   353187   354860   353340   353168   \n",
       " Burgos                       ...   178574   178966   177879   174075   \n",
       " Cáceres                      ...    94179    93131    92187    90802   \n",
       " Cádiz                        ...   125826   126766   127200   128554   \n",
       " Castelló de la Plana         ...   180690   180005   177924   172624   \n",
       " Ciudad Real                  ...    74345    74014    72208    71005   \n",
       " Córdoba                      ...   328547   328428   325453   323600   \n",
       " Coruña, A                    ...   246047   246056   245164   244388   \n",
       " Cuenca                       ...    56189    55866    54600    52980   \n",
       " Donostia/San Sebastián       ...   185506   185357   184248   183090   \n",
       " Girona                       ...    96236    96188    94484    92186   \n",
       " Granada                      ...   239154   234325   236988   236207   \n",
       " Guadalajara                  ...    83789    83039    81221    77925   \n",
       " Huelva                       ...   149310   148806   148027   146173   \n",
       " Huesca                       ...    52347    52059    51117    49819   \n",
       " Jaén                         ...   116790   116557   116417   116393   \n",
       " León                         ...   134012   134305   135119   135059   \n",
       " Lleida                       ...   137387   135919   131731   127314   \n",
       " Logroño                      ...   152650   152107   150071   145866   \n",
       " Lugo                         ...    97635    96678    95416    93853   \n",
       " Madrid                       ...  3273049  3255944  3213271  3132463   \n",
       " Málaga                       ...   568507   568305   566447   561250   \n",
       " Murcia                       ...   441345   436870   430571   422861   \n",
       " Ourense                      ...   108673   107742   107057   107186   \n",
       " Oviedo                       ...   225155   224005   220644   216607   \n",
       " Palencia                     ...    82169    82651    82626    82286   \n",
       " Palma                        ...   404681   401270   396570   383107   \n",
       " Palmas de Gran Canaria, Las  ...   383308   381847   381123   377203   \n",
       " Pamplona/Iruña               ...   197488   198491   197275   194894   \n",
       " Pontevedra                   ...    81981    81576    80749    80202   \n",
       " Salamanca                    ...   154462   155619   155740   155921   \n",
       " Santa Cruz de Tenerife       ...   222643   222417   221956   220902   \n",
       " Santander                    ...   181589   182700   182302   181802   \n",
       " Segovia                      ...    55748    56660    56858    56047   \n",
       " Sevilla                      ...   704198   703206   699759   699145   \n",
       " Soria                        ...    39838    39528    39078    38205   \n",
       " Tarragona                    ...   140184   140323   137536   134163   \n",
       " Teruel                       ...    35241    35396    35037    34236   \n",
       " Toledo                       ...    82489    82291    80810    78618   \n",
       " València                     ...   809267   814208   807200   797654   \n",
       " Valladolid                   ...   315522   317864   318461   316564   \n",
       " Vitoria-Gasteiz              ...   238247   235661   232477   229484   \n",
       " Zamora                       ...    65998    66293    66672    66138   \n",
       " Zaragoza                     ...   675121   674317   666129   654390   \n",
       "\n",
       "                                 2006     2005     2004     2003     2002  \\\n",
       "Pob_Cap                                                                     \n",
       " Albacete                      161508   159518   156466   155142   152155   \n",
       " Alicante/Alacant              322431   319380   310330   305911   293629   \n",
       " Almería                       185309   181702   177681   176727   173338   \n",
       " Ávila                          53272    52612    52417    52078    50241   \n",
       " Badajoz                       143748   143019   139135   138415   136851   \n",
       " Barcelona                    1605602  1593075  1578546  1582738  1527190   \n",
       " Bilbao                        354145   353173   352317   353567   353950   \n",
       " Burgos                        173676   172421   169682   169317   167962   \n",
       " Cáceres                        90218    89029    88245    87088    84439   \n",
       " Cádiz                         130561   131813   133242   134989   136236   \n",
       " Castelló de la Plana          172110   167455   163088   160714   153225   \n",
       " Ciudad Real                    70124    69063    67401    65703    65084   \n",
       " Córdoba                       322867   321164   319692   318628   314805   \n",
       " Coruña, A                     243320   243349   242846   243902   242458   \n",
       " Cuenca                         51205    49912    47862    47201    46859   \n",
       " Donostia/San Sebastián        183308   182930   182644   181811   181700   \n",
       " Girona                         89890    86672    83531    81220    77475   \n",
       " Granada                       237929   236982   238292   237663   240522   \n",
       " Guadalajara                    75493    73719    71815    70732    69098   \n",
       " Huelva                        145763   145150   144369   144831   140862   \n",
       " Huesca                         49312    48530    47923    47609    46462   \n",
       " Jaén                          116769   116540   115917   115638   112921   \n",
       " León                          136985   136414   135789   135634   135794   \n",
       " Lleida                        125677   124709   119935   118035   115000   \n",
       " Logroño                       147036   144935   141568   139615   136841   \n",
       " Lugo                           93450    92271    91426    91158    89509   \n",
       " Madrid                       3128600  3155359  3099834  3092759  3016788   \n",
       " Málaga                        560631   558287   547731   547105   535686   \n",
       " Murcia                        416996   409810   398815   391146   377888   \n",
       " Ourense                       108137   108358   108600   109475   109011   \n",
       " Oviedo                        214883   212174   209495   207699   202938   \n",
       " Palencia                       82263    81439    81207    81378    80801   \n",
       " Palma                         375048   375773   368974   367277   358462   \n",
       " Palmas de Gran Canaria, Las   377056   378628   376953   377600   370649   \n",
       " Pamplona/Iruña                195769   193328   191865   190937   189364   \n",
       " Pontevedra                     80096    79372    78715    77993    76798   \n",
       " Salamanca                     159754   160331   160415   157906   156006   \n",
       " Santa Cruz de Tenerife        223148   221567   219446   220022   217415   \n",
       " Santander                     182926   183955   183799   184778   184661   \n",
       " Segovia                        55476    55942    55586    55640    54945   \n",
       " Sevilla                       704414   704154   704203   709975   704114   \n",
       " Soria                          38004    37200    35769    35178    35112   \n",
       " Tarragona                     131158   128152   123584   121076   117184   \n",
       " Teruel                         33673    33238    32580    32304    31506   \n",
       " Toledo                         77601    75533    73485    72549    70893   \n",
       " València                      805304   796549   785732   780653   761871   \n",
       " Valladolid                    319943   321001   321713   321143   318576   \n",
       " Vitoria-Gasteiz               227568   226490   223702   223257   221270   \n",
       " Zamora                         66135    66123    65646    65639    65575   \n",
       " Zaragoza                      649181   647373   638799   626081   620419   \n",
       "\n",
       "                                 2001  \n",
       "Pob_Cap                                \n",
       " Albacete                      149507  \n",
       " Alicante/Alacant              283243  \n",
       " Almería                       170994  \n",
       " Ávila                          47967  \n",
       " Badajoz                       136319  \n",
       " Barcelona                    1505325  \n",
       " Bilbao                        353943  \n",
       " Burgos                        166251  \n",
       " Cáceres                        82034  \n",
       " Cádiz                         137971  \n",
       " Castelló de la Plana          146563  \n",
       " Ciudad Real                    61280  \n",
       " Córdoba                       314034  \n",
       " Coruña, A                     239434  \n",
       " Cuenca                         46491  \n",
       " Donostia/San Sebastián        181064  \n",
       " Girona                         75256  \n",
       " Granada                       243341  \n",
       " Guadalajara                    67640  \n",
       " Huelva                        141334  \n",
       " Huesca                         45874  \n",
       " Jaén                          111406  \n",
       " León                          137384  \n",
       " Lleida                        113040  \n",
       " Logroño                       131655  \n",
       " Lugo                           88901  \n",
       " Madrid                       2957058  \n",
       " Málaga                        534207  \n",
       " Murcia                        367189  \n",
       " Ourense                       109051  \n",
       " Oviedo                        201005  \n",
       " Palencia                       80836  \n",
       " Palma                         346720  \n",
       " Palmas de Gran Canaria, Las   364777  \n",
       " Pamplona/Iruña                186245  \n",
       " Pontevedra                     75864  \n",
       " Salamanca                     158523  \n",
       " Santa Cruz de Tenerife        214153  \n",
       " Santander                     185231  \n",
       " Segovia                        54039  \n",
       " Sevilla                       702520  \n",
       " Soria                          34640  \n",
       " Tarragona                     115153  \n",
       " Teruel                         30789  \n",
       " Toledo                         69450  \n",
       " València                      746612  \n",
       " Valladolid                    318293  \n",
       " Vitoria-Gasteiz               218902  \n",
       " Zamora                         65633  \n",
       " Zaragoza                      610976  \n",
       "\n",
       "[50 rows x 21 columns]"
      ]
     },
     "execution_count": 277,
     "metadata": {},
     "output_type": "execute_result"
    }
   ],
   "source": [
    "Poblacion_provincias"
   ]
  },
  {
   "cell_type": "code",
   "execution_count": 287,
   "metadata": {},
   "outputs": [
    {
     "data": {
      "text/html": [
       "<div>\n",
       "<style scoped>\n",
       "    .dataframe tbody tr th:only-of-type {\n",
       "        vertical-align: middle;\n",
       "    }\n",
       "\n",
       "    .dataframe tbody tr th {\n",
       "        vertical-align: top;\n",
       "    }\n",
       "\n",
       "    .dataframe thead th {\n",
       "        text-align: right;\n",
       "    }\n",
       "</style>\n",
       "<table border=\"1\" class=\"dataframe\">\n",
       "  <thead>\n",
       "    <tr style=\"text-align: right;\">\n",
       "      <th></th>\n",
       "      <th>2021</th>\n",
       "      <th>2020</th>\n",
       "      <th>2019</th>\n",
       "      <th>2018</th>\n",
       "      <th>2017</th>\n",
       "      <th>2016</th>\n",
       "      <th>2015</th>\n",
       "      <th>2014</th>\n",
       "      <th>2013</th>\n",
       "      <th>2012</th>\n",
       "      <th>...</th>\n",
       "      <th>2010</th>\n",
       "      <th>2009</th>\n",
       "      <th>2008</th>\n",
       "      <th>2007</th>\n",
       "      <th>2006</th>\n",
       "      <th>2005</th>\n",
       "      <th>2004</th>\n",
       "      <th>2003</th>\n",
       "      <th>2002</th>\n",
       "      <th>2001</th>\n",
       "    </tr>\n",
       "    <tr>\n",
       "      <th>Pob_Cap</th>\n",
       "      <th></th>\n",
       "      <th></th>\n",
       "      <th></th>\n",
       "      <th></th>\n",
       "      <th></th>\n",
       "      <th></th>\n",
       "      <th></th>\n",
       "      <th></th>\n",
       "      <th></th>\n",
       "      <th></th>\n",
       "      <th></th>\n",
       "      <th></th>\n",
       "      <th></th>\n",
       "      <th></th>\n",
       "      <th></th>\n",
       "      <th></th>\n",
       "      <th></th>\n",
       "      <th></th>\n",
       "      <th></th>\n",
       "      <th></th>\n",
       "      <th></th>\n",
       "    </tr>\n",
       "  </thead>\n",
       "  <tbody>\n",
       "    <tr>\n",
       "      <th>Barcelona</th>\n",
       "      <td>1636732</td>\n",
       "      <td>1664182</td>\n",
       "      <td>1636762</td>\n",
       "      <td>1620343</td>\n",
       "      <td>1620809</td>\n",
       "      <td>1608746</td>\n",
       "      <td>1604555</td>\n",
       "      <td>1602386</td>\n",
       "      <td>1611822</td>\n",
       "      <td>1620943</td>\n",
       "      <td>...</td>\n",
       "      <td>1619337</td>\n",
       "      <td>1621537</td>\n",
       "      <td>1615908</td>\n",
       "      <td>1595110</td>\n",
       "      <td>1605602</td>\n",
       "      <td>1593075</td>\n",
       "      <td>1578546</td>\n",
       "      <td>1582738</td>\n",
       "      <td>1527190</td>\n",
       "      <td>1505325</td>\n",
       "    </tr>\n",
       "  </tbody>\n",
       "</table>\n",
       "<p>1 rows × 21 columns</p>\n",
       "</div>"
      ],
      "text/plain": [
       "               2021     2020     2019     2018     2017     2016     2015  \\\n",
       "Pob_Cap                                                                     \n",
       " Barcelona  1636732  1664182  1636762  1620343  1620809  1608746  1604555   \n",
       "\n",
       "               2014     2013     2012  ...     2010     2009     2008  \\\n",
       "Pob_Cap                                ...                              \n",
       " Barcelona  1602386  1611822  1620943  ...  1619337  1621537  1615908   \n",
       "\n",
       "               2007     2006     2005     2004     2003     2002     2001  \n",
       "Pob_Cap                                                                    \n",
       " Barcelona  1595110  1605602  1593075  1578546  1582738  1527190  1505325  \n",
       "\n",
       "[1 rows x 21 columns]"
      ]
     },
     "execution_count": 287,
     "metadata": {},
     "output_type": "execute_result"
    }
   ],
   "source": [
    "Poblacion_provincias[Poblacion_provincias.index.str.contains('Barcelona')]"
   ]
  },
  {
   "attachments": {},
   "cell_type": "markdown",
   "metadata": {},
   "source": [
    "### Sevilla tiene una gran bajada de población sobre todo a partir del año 2002, veamos que pasó"
   ]
  },
  {
   "attachments": {},
   "cell_type": "markdown",
   "metadata": {},
   "source": [
    "### Escojamos los pueblos alrededor de Sevilla, en concreto a 35km a la redonda y mas de 20 mil habitantes"
   ]
  },
  {
   "cell_type": "code",
   "execution_count": null,
   "metadata": {},
   "outputs": [],
   "source": [
    "distancias_Andalucia = pd.read_csv('data/Datos_Provincias_Andalucia.csv')"
   ]
  },
  {
   "cell_type": "code",
   "execution_count": 164,
   "metadata": {},
   "outputs": [
    {
     "data": {
      "text/plain": [
       "array(['Almería', 'Cádiz', 'Córdoba', 'Granada', 'Huelva', 'Jaén',\n",
       "       'Málaga', 'Sevilla'], dtype=object)"
      ]
     },
     "execution_count": 164,
     "metadata": {},
     "output_type": "execute_result"
    }
   ],
   "source": [
    "distancias_Andalucia['Provincia'].unique()"
   ]
  },
  {
   "cell_type": "code",
   "execution_count": null,
   "metadata": {},
   "outputs": [
    {
     "data": {
      "text/html": [
       "<div>\n",
       "<style scoped>\n",
       "    .dataframe tbody tr th:only-of-type {\n",
       "        vertical-align: middle;\n",
       "    }\n",
       "\n",
       "    .dataframe tbody tr th {\n",
       "        vertical-align: top;\n",
       "    }\n",
       "\n",
       "    .dataframe thead th {\n",
       "        text-align: right;\n",
       "    }\n",
       "</style>\n",
       "<table border=\"1\" class=\"dataframe\">\n",
       "  <thead>\n",
       "    <tr style=\"text-align: right;\">\n",
       "      <th></th>\n",
       "      <th>Provincia</th>\n",
       "      <th>CodMun</th>\n",
       "      <th>Municipio</th>\n",
       "      <th>Extensión superficial (Km2). 2019</th>\n",
       "      <th>Perímetro (m). 2019</th>\n",
       "      <th>Altitud sobre el nivel del mar (m). 2019</th>\n",
       "      <th>Coordenadas del núcleo principal (grados). 2022</th>\n",
       "      <th>Número de núcleos que componen el municipio. 2021</th>\n",
       "      <th>Distancia a la capital (Km). 2019</th>\n",
       "      <th>Población total. 2021</th>\n",
       "      <th>...</th>\n",
       "      <th>IBI de naturaleza rústica. Número titulares catastrales. 2020</th>\n",
       "      <th>Número de parcelas catastrales: Solares. 2020</th>\n",
       "      <th>Número de parcelas catastrales: Parcelas edificadas. 2020</th>\n",
       "      <th>Situaciones de alta en actividades empresariales. 2019</th>\n",
       "      <th>Situaciones de alta en actividades profesionales. 2019</th>\n",
       "      <th>Situaciones de alta en actividades artísticas. 2019</th>\n",
       "      <th>Bienes muebles. 2021</th>\n",
       "      <th>Bienes inmuebles. 2021</th>\n",
       "      <th>Bienes inmateriales. 2021</th>\n",
       "      <th>Url. 2021</th>\n",
       "    </tr>\n",
       "  </thead>\n",
       "  <tbody>\n",
       "    <tr>\n",
       "      <th>682</th>\n",
       "      <td>Sevilla</td>\n",
       "      <td>41004</td>\n",
       "      <td>Alcalá de Guadaíra</td>\n",
       "      <td>284.82</td>\n",
       "      <td>104391.07</td>\n",
       "      <td>37</td>\n",
       "      <td>37.334, -5.849</td>\n",
       "      <td>18</td>\n",
       "      <td>16.1</td>\n",
       "      <td>75546</td>\n",
       "      <td>...</td>\n",
       "      <td>2035</td>\n",
       "      <td>2696</td>\n",
       "      <td>18257</td>\n",
       "      <td>8052</td>\n",
       "      <td>976</td>\n",
       "      <td>49</td>\n",
       "      <td>10</td>\n",
       "      <td>292</td>\n",
       "      <td>0</td>\n",
       "      <td>https://guiadigital.iaph.es/municipio/6058/alc...</td>\n",
       "    </tr>\n",
       "    <tr>\n",
       "      <th>694</th>\n",
       "      <td>Sevilla</td>\n",
       "      <td>41017</td>\n",
       "      <td>Bormujos</td>\n",
       "      <td>12.27</td>\n",
       "      <td>19575.72</td>\n",
       "      <td>101</td>\n",
       "      <td>37.371, -6.07</td>\n",
       "      <td>1</td>\n",
       "      <td>8.4</td>\n",
       "      <td>22390</td>\n",
       "      <td>...</td>\n",
       "      <td>546</td>\n",
       "      <td>360</td>\n",
       "      <td>5960</td>\n",
       "      <td>2319</td>\n",
       "      <td>568</td>\n",
       "      <td>27</td>\n",
       "      <td>0</td>\n",
       "      <td>19</td>\n",
       "      <td>0</td>\n",
       "      <td>https://guiadigital.iaph.es/municipio/6071/bor...</td>\n",
       "    </tr>\n",
       "    <tr>\n",
       "      <th>697</th>\n",
       "      <td>Sevilla</td>\n",
       "      <td>41021</td>\n",
       "      <td>Camas</td>\n",
       "      <td>11.66</td>\n",
       "      <td>16944.49</td>\n",
       "      <td>8</td>\n",
       "      <td>37.4, -6.033</td>\n",
       "      <td>1</td>\n",
       "      <td>4.6</td>\n",
       "      <td>27490</td>\n",
       "      <td>...</td>\n",
       "      <td>254</td>\n",
       "      <td>428</td>\n",
       "      <td>5420</td>\n",
       "      <td>2300</td>\n",
       "      <td>404</td>\n",
       "      <td>23</td>\n",
       "      <td>11</td>\n",
       "      <td>9</td>\n",
       "      <td>0</td>\n",
       "      <td>https://guiadigital.iaph.es/municipio/6075/camas</td>\n",
       "    </tr>\n",
       "    <tr>\n",
       "      <th>700</th>\n",
       "      <td>Sevilla</td>\n",
       "      <td>41024</td>\n",
       "      <td>Carmona</td>\n",
       "      <td>923.62</td>\n",
       "      <td>158148.09</td>\n",
       "      <td>234</td>\n",
       "      <td>37.472, -5.638</td>\n",
       "      <td>37</td>\n",
       "      <td>34.5</td>\n",
       "      <td>29123</td>\n",
       "      <td>...</td>\n",
       "      <td>4916</td>\n",
       "      <td>1147</td>\n",
       "      <td>13019</td>\n",
       "      <td>3087</td>\n",
       "      <td>362</td>\n",
       "      <td>14</td>\n",
       "      <td>144</td>\n",
       "      <td>594</td>\n",
       "      <td>9</td>\n",
       "      <td>https://guiadigital.iaph.es/municipio/6079/car...</td>\n",
       "    </tr>\n",
       "    <tr>\n",
       "      <th>709</th>\n",
       "      <td>Sevilla</td>\n",
       "      <td>41034</td>\n",
       "      <td>Coria del Río</td>\n",
       "      <td>62.06</td>\n",
       "      <td>42613.49</td>\n",
       "      <td>7</td>\n",
       "      <td>37.286, -6.053</td>\n",
       "      <td>2</td>\n",
       "      <td>14.4</td>\n",
       "      <td>30774</td>\n",
       "      <td>...</td>\n",
       "      <td>998</td>\n",
       "      <td>525</td>\n",
       "      <td>8782</td>\n",
       "      <td>2446</td>\n",
       "      <td>330</td>\n",
       "      <td>24</td>\n",
       "      <td>48</td>\n",
       "      <td>36</td>\n",
       "      <td>1</td>\n",
       "      <td>https://guiadigital.iaph.es/municipio/6089/cor...</td>\n",
       "    </tr>\n",
       "    <tr>\n",
       "      <th>711</th>\n",
       "      <td>Sevilla</td>\n",
       "      <td>41038</td>\n",
       "      <td>Dos Hermanas</td>\n",
       "      <td>160.48</td>\n",
       "      <td>73055.40</td>\n",
       "      <td>41</td>\n",
       "      <td>37.286, -5.928</td>\n",
       "      <td>4</td>\n",
       "      <td>14.4</td>\n",
       "      <td>136250</td>\n",
       "      <td>...</td>\n",
       "      <td>1538</td>\n",
       "      <td>1833</td>\n",
       "      <td>23758</td>\n",
       "      <td>11494</td>\n",
       "      <td>2057</td>\n",
       "      <td>93</td>\n",
       "      <td>77</td>\n",
       "      <td>188</td>\n",
       "      <td>1</td>\n",
       "      <td>https://guiadigital.iaph.es/municipio/6094/dos...</td>\n",
       "    </tr>\n",
       "    <tr>\n",
       "      <th>743</th>\n",
       "      <td>Sevilla</td>\n",
       "      <td>41081</td>\n",
       "      <td>La Rinconada</td>\n",
       "      <td>138.84</td>\n",
       "      <td>66005.89</td>\n",
       "      <td>11</td>\n",
       "      <td>37.488, -5.979</td>\n",
       "      <td>14</td>\n",
       "      <td>11.9</td>\n",
       "      <td>39204</td>\n",
       "      <td>...</td>\n",
       "      <td>978</td>\n",
       "      <td>1375</td>\n",
       "      <td>10692</td>\n",
       "      <td>3966</td>\n",
       "      <td>420</td>\n",
       "      <td>22</td>\n",
       "      <td>2</td>\n",
       "      <td>27</td>\n",
       "      <td>0</td>\n",
       "      <td>https://guiadigital.iaph.es/municipio/6138/rin...</td>\n",
       "    </tr>\n",
       "    <tr>\n",
       "      <th>753</th>\n",
       "      <td>Sevilla</td>\n",
       "      <td>41069</td>\n",
       "      <td>Los Palacios y Villafranca</td>\n",
       "      <td>109.56</td>\n",
       "      <td>44949.18</td>\n",
       "      <td>6</td>\n",
       "      <td>37.158, -5.924</td>\n",
       "      <td>4</td>\n",
       "      <td>27.9</td>\n",
       "      <td>38678</td>\n",
       "      <td>...</td>\n",
       "      <td>6249</td>\n",
       "      <td>876</td>\n",
       "      <td>12389</td>\n",
       "      <td>3105</td>\n",
       "      <td>332</td>\n",
       "      <td>13</td>\n",
       "      <td>36</td>\n",
       "      <td>16</td>\n",
       "      <td>6</td>\n",
       "      <td>https://guiadigital.iaph.es/municipio/6126/pal...</td>\n",
       "    </tr>\n",
       "    <tr>\n",
       "      <th>754</th>\n",
       "      <td>Sevilla</td>\n",
       "      <td>41058</td>\n",
       "      <td>Mairena del Alcor</td>\n",
       "      <td>70.67</td>\n",
       "      <td>38079.74</td>\n",
       "      <td>126</td>\n",
       "      <td>37.373, -5.748</td>\n",
       "      <td>12</td>\n",
       "      <td>22.9</td>\n",
       "      <td>23893</td>\n",
       "      <td>...</td>\n",
       "      <td>1223</td>\n",
       "      <td>946</td>\n",
       "      <td>8024</td>\n",
       "      <td>2088</td>\n",
       "      <td>288</td>\n",
       "      <td>10</td>\n",
       "      <td>6</td>\n",
       "      <td>66</td>\n",
       "      <td>6</td>\n",
       "      <td>https://guiadigital.iaph.es/municipio/6115/mai...</td>\n",
       "    </tr>\n",
       "    <tr>\n",
       "      <th>755</th>\n",
       "      <td>Sevilla</td>\n",
       "      <td>41059</td>\n",
       "      <td>Mairena del Aljarafe</td>\n",
       "      <td>17.74</td>\n",
       "      <td>27841.41</td>\n",
       "      <td>65</td>\n",
       "      <td>37.345, -6.065</td>\n",
       "      <td>1</td>\n",
       "      <td>9.2</td>\n",
       "      <td>46895</td>\n",
       "      <td>...</td>\n",
       "      <td>318</td>\n",
       "      <td>500</td>\n",
       "      <td>8603</td>\n",
       "      <td>4895</td>\n",
       "      <td>1312</td>\n",
       "      <td>69</td>\n",
       "      <td>0</td>\n",
       "      <td>11</td>\n",
       "      <td>0</td>\n",
       "      <td>https://guiadigital.iaph.es/municipio/6116/mai...</td>\n",
       "    </tr>\n",
       "    <tr>\n",
       "      <th>770</th>\n",
       "      <td>Sevilla</td>\n",
       "      <td>41086</td>\n",
       "      <td>San Juan de Aznalfarache</td>\n",
       "      <td>4.11</td>\n",
       "      <td>11410.71</td>\n",
       "      <td>8</td>\n",
       "      <td>37.36, -6.028</td>\n",
       "      <td>1</td>\n",
       "      <td>5.6</td>\n",
       "      <td>22088</td>\n",
       "      <td>...</td>\n",
       "      <td>13</td>\n",
       "      <td>142</td>\n",
       "      <td>2828</td>\n",
       "      <td>1478</td>\n",
       "      <td>324</td>\n",
       "      <td>17</td>\n",
       "      <td>26</td>\n",
       "      <td>11</td>\n",
       "      <td>0</td>\n",
       "      <td>https://guiadigital.iaph.es/municipio/6143/san...</td>\n",
       "    </tr>\n",
       "    <tr>\n",
       "      <th>774</th>\n",
       "      <td>Sevilla</td>\n",
       "      <td>41091</td>\n",
       "      <td>Sevilla</td>\n",
       "      <td>141.42</td>\n",
       "      <td>74216.12</td>\n",
       "      <td>5</td>\n",
       "      <td>37.389, -5.995</td>\n",
       "      <td>1</td>\n",
       "      <td>0.0</td>\n",
       "      <td>684234</td>\n",
       "      <td>...</td>\n",
       "      <td>1166</td>\n",
       "      <td>1824</td>\n",
       "      <td>58527</td>\n",
       "      <td>76384</td>\n",
       "      <td>19980</td>\n",
       "      <td>687</td>\n",
       "      <td>18738</td>\n",
       "      <td>588</td>\n",
       "      <td>7</td>\n",
       "      <td>https://guiadigital.iaph.es/municipio/6148/sev...</td>\n",
       "    </tr>\n",
       "    <tr>\n",
       "      <th>776</th>\n",
       "      <td>Sevilla</td>\n",
       "      <td>41093</td>\n",
       "      <td>Tomares</td>\n",
       "      <td>5.22</td>\n",
       "      <td>11579.23</td>\n",
       "      <td>65</td>\n",
       "      <td>37.375, -6.045</td>\n",
       "      <td>1</td>\n",
       "      <td>6.1</td>\n",
       "      <td>25370</td>\n",
       "      <td>...</td>\n",
       "      <td>35</td>\n",
       "      <td>236</td>\n",
       "      <td>5468</td>\n",
       "      <td>2684</td>\n",
       "      <td>878</td>\n",
       "      <td>37</td>\n",
       "      <td>0</td>\n",
       "      <td>15</td>\n",
       "      <td>0</td>\n",
       "      <td>https://guiadigital.iaph.es/municipio/6150/tom...</td>\n",
       "    </tr>\n",
       "    <tr>\n",
       "      <th>778</th>\n",
       "      <td>Sevilla</td>\n",
       "      <td>41095</td>\n",
       "      <td>Utrera</td>\n",
       "      <td>651.74</td>\n",
       "      <td>239053.76</td>\n",
       "      <td>45</td>\n",
       "      <td>37.183, -5.782</td>\n",
       "      <td>32</td>\n",
       "      <td>32.5</td>\n",
       "      <td>51145</td>\n",
       "      <td>...</td>\n",
       "      <td>4658</td>\n",
       "      <td>1420</td>\n",
       "      <td>13610</td>\n",
       "      <td>4701</td>\n",
       "      <td>529</td>\n",
       "      <td>25</td>\n",
       "      <td>4</td>\n",
       "      <td>514</td>\n",
       "      <td>10</td>\n",
       "      <td>https://guiadigital.iaph.es/municipio/6152/utrera</td>\n",
       "    </tr>\n",
       "  </tbody>\n",
       "</table>\n",
       "<p>14 rows × 123 columns</p>\n",
       "</div>"
      ],
      "text/plain": [
       "    Provincia  CodMun                   Municipio  \\\n",
       "682   Sevilla   41004          Alcalá de Guadaíra   \n",
       "694   Sevilla   41017                    Bormujos   \n",
       "697   Sevilla   41021                       Camas   \n",
       "700   Sevilla   41024                     Carmona   \n",
       "709   Sevilla   41034               Coria del Río   \n",
       "711   Sevilla   41038                Dos Hermanas   \n",
       "743   Sevilla   41081                La Rinconada   \n",
       "753   Sevilla   41069  Los Palacios y Villafranca   \n",
       "754   Sevilla   41058           Mairena del Alcor   \n",
       "755   Sevilla   41059        Mairena del Aljarafe   \n",
       "770   Sevilla   41086    San Juan de Aznalfarache   \n",
       "774   Sevilla   41091                     Sevilla   \n",
       "776   Sevilla   41093                     Tomares   \n",
       "778   Sevilla   41095                      Utrera   \n",
       "\n",
       "     Extensión superficial (Km2). 2019  Perímetro (m). 2019  \\\n",
       "682                             284.82            104391.07   \n",
       "694                              12.27             19575.72   \n",
       "697                              11.66             16944.49   \n",
       "700                             923.62            158148.09   \n",
       "709                              62.06             42613.49   \n",
       "711                             160.48             73055.40   \n",
       "743                             138.84             66005.89   \n",
       "753                             109.56             44949.18   \n",
       "754                              70.67             38079.74   \n",
       "755                              17.74             27841.41   \n",
       "770                               4.11             11410.71   \n",
       "774                             141.42             74216.12   \n",
       "776                               5.22             11579.23   \n",
       "778                             651.74            239053.76   \n",
       "\n",
       "     Altitud sobre el nivel del mar (m). 2019  \\\n",
       "682                                        37   \n",
       "694                                       101   \n",
       "697                                         8   \n",
       "700                                       234   \n",
       "709                                         7   \n",
       "711                                        41   \n",
       "743                                        11   \n",
       "753                                         6   \n",
       "754                                       126   \n",
       "755                                        65   \n",
       "770                                         8   \n",
       "774                                         5   \n",
       "776                                        65   \n",
       "778                                        45   \n",
       "\n",
       "    Coordenadas del núcleo principal (grados). 2022  \\\n",
       "682                                  37.334, -5.849   \n",
       "694                                   37.371, -6.07   \n",
       "697                                    37.4, -6.033   \n",
       "700                                  37.472, -5.638   \n",
       "709                                  37.286, -6.053   \n",
       "711                                  37.286, -5.928   \n",
       "743                                  37.488, -5.979   \n",
       "753                                  37.158, -5.924   \n",
       "754                                  37.373, -5.748   \n",
       "755                                  37.345, -6.065   \n",
       "770                                   37.36, -6.028   \n",
       "774                                  37.389, -5.995   \n",
       "776                                  37.375, -6.045   \n",
       "778                                  37.183, -5.782   \n",
       "\n",
       "     Número de núcleos que componen el municipio. 2021  \\\n",
       "682                                                 18   \n",
       "694                                                  1   \n",
       "697                                                  1   \n",
       "700                                                 37   \n",
       "709                                                  2   \n",
       "711                                                  4   \n",
       "743                                                 14   \n",
       "753                                                  4   \n",
       "754                                                 12   \n",
       "755                                                  1   \n",
       "770                                                  1   \n",
       "774                                                  1   \n",
       "776                                                  1   \n",
       "778                                                 32   \n",
       "\n",
       "     Distancia a la capital (Km). 2019  Población total. 2021  ...  \\\n",
       "682                               16.1                  75546  ...   \n",
       "694                                8.4                  22390  ...   \n",
       "697                                4.6                  27490  ...   \n",
       "700                               34.5                  29123  ...   \n",
       "709                               14.4                  30774  ...   \n",
       "711                               14.4                 136250  ...   \n",
       "743                               11.9                  39204  ...   \n",
       "753                               27.9                  38678  ...   \n",
       "754                               22.9                  23893  ...   \n",
       "755                                9.2                  46895  ...   \n",
       "770                                5.6                  22088  ...   \n",
       "774                                0.0                 684234  ...   \n",
       "776                                6.1                  25370  ...   \n",
       "778                               32.5                  51145  ...   \n",
       "\n",
       "     IBI de naturaleza rústica. Número titulares catastrales. 2020  \\\n",
       "682                                               2035               \n",
       "694                                                546               \n",
       "697                                                254               \n",
       "700                                               4916               \n",
       "709                                                998               \n",
       "711                                               1538               \n",
       "743                                                978               \n",
       "753                                               6249               \n",
       "754                                               1223               \n",
       "755                                                318               \n",
       "770                                                 13               \n",
       "774                                               1166               \n",
       "776                                                 35               \n",
       "778                                               4658               \n",
       "\n",
       "     Número de parcelas catastrales: Solares. 2020  \\\n",
       "682                                           2696   \n",
       "694                                            360   \n",
       "697                                            428   \n",
       "700                                           1147   \n",
       "709                                            525   \n",
       "711                                           1833   \n",
       "743                                           1375   \n",
       "753                                            876   \n",
       "754                                            946   \n",
       "755                                            500   \n",
       "770                                            142   \n",
       "774                                           1824   \n",
       "776                                            236   \n",
       "778                                           1420   \n",
       "\n",
       "     Número de parcelas catastrales: Parcelas edificadas. 2020  \\\n",
       "682                                              18257           \n",
       "694                                               5960           \n",
       "697                                               5420           \n",
       "700                                              13019           \n",
       "709                                               8782           \n",
       "711                                              23758           \n",
       "743                                              10692           \n",
       "753                                              12389           \n",
       "754                                               8024           \n",
       "755                                               8603           \n",
       "770                                               2828           \n",
       "774                                              58527           \n",
       "776                                               5468           \n",
       "778                                              13610           \n",
       "\n",
       "     Situaciones de alta en actividades empresariales. 2019  \\\n",
       "682                                               8052        \n",
       "694                                               2319        \n",
       "697                                               2300        \n",
       "700                                               3087        \n",
       "709                                               2446        \n",
       "711                                              11494        \n",
       "743                                               3966        \n",
       "753                                               3105        \n",
       "754                                               2088        \n",
       "755                                               4895        \n",
       "770                                               1478        \n",
       "774                                              76384        \n",
       "776                                               2684        \n",
       "778                                               4701        \n",
       "\n",
       "     Situaciones de alta en actividades profesionales. 2019  \\\n",
       "682                                                976        \n",
       "694                                                568        \n",
       "697                                                404        \n",
       "700                                                362        \n",
       "709                                                330        \n",
       "711                                               2057        \n",
       "743                                                420        \n",
       "753                                                332        \n",
       "754                                                288        \n",
       "755                                               1312        \n",
       "770                                                324        \n",
       "774                                              19980        \n",
       "776                                                878        \n",
       "778                                                529        \n",
       "\n",
       "     Situaciones de alta en actividades artísticas. 2019  \\\n",
       "682                                                 49     \n",
       "694                                                 27     \n",
       "697                                                 23     \n",
       "700                                                 14     \n",
       "709                                                 24     \n",
       "711                                                 93     \n",
       "743                                                 22     \n",
       "753                                                 13     \n",
       "754                                                 10     \n",
       "755                                                 69     \n",
       "770                                                 17     \n",
       "774                                                687     \n",
       "776                                                 37     \n",
       "778                                                 25     \n",
       "\n",
       "     Bienes muebles. 2021  Bienes inmuebles. 2021  Bienes inmateriales. 2021  \\\n",
       "682                    10                     292                          0   \n",
       "694                     0                      19                          0   \n",
       "697                    11                       9                          0   \n",
       "700                   144                     594                          9   \n",
       "709                    48                      36                          1   \n",
       "711                    77                     188                          1   \n",
       "743                     2                      27                          0   \n",
       "753                    36                      16                          6   \n",
       "754                     6                      66                          6   \n",
       "755                     0                      11                          0   \n",
       "770                    26                      11                          0   \n",
       "774                 18738                     588                          7   \n",
       "776                     0                      15                          0   \n",
       "778                     4                     514                         10   \n",
       "\n",
       "                                             Url. 2021  \n",
       "682  https://guiadigital.iaph.es/municipio/6058/alc...  \n",
       "694  https://guiadigital.iaph.es/municipio/6071/bor...  \n",
       "697   https://guiadigital.iaph.es/municipio/6075/camas  \n",
       "700  https://guiadigital.iaph.es/municipio/6079/car...  \n",
       "709  https://guiadigital.iaph.es/municipio/6089/cor...  \n",
       "711  https://guiadigital.iaph.es/municipio/6094/dos...  \n",
       "743  https://guiadigital.iaph.es/municipio/6138/rin...  \n",
       "753  https://guiadigital.iaph.es/municipio/6126/pal...  \n",
       "754  https://guiadigital.iaph.es/municipio/6115/mai...  \n",
       "755  https://guiadigital.iaph.es/municipio/6116/mai...  \n",
       "770  https://guiadigital.iaph.es/municipio/6143/san...  \n",
       "774  https://guiadigital.iaph.es/municipio/6148/sev...  \n",
       "776  https://guiadigital.iaph.es/municipio/6150/tom...  \n",
       "778  https://guiadigital.iaph.es/municipio/6152/utrera  \n",
       "\n",
       "[14 rows x 123 columns]"
      ]
     },
     "execution_count": 16,
     "metadata": {},
     "output_type": "execute_result"
    }
   ],
   "source": [
    "distancia_sevilla = distancias_Andalucia[distancias_Andalucia['Distancia a la capital (Km). 2019']<35]\n",
    "distancia_sevilla = distancia_sevilla[distancia_sevilla['Provincia']=='Sevilla']\n",
    "distancia_sevilla = distancia_sevilla[distancia_sevilla['Población total. 2021']>20000]\n",
    "distancia_sevilla"
   ]
  },
  {
   "attachments": {},
   "cell_type": "markdown",
   "metadata": {},
   "source": [
    "### Ahora con la inmigracion de algunos de estos pueblos desde Sevilla capital 2001-2021"
   ]
  },
  {
   "cell_type": "code",
   "execution_count": null,
   "metadata": {},
   "outputs": [],
   "source": [
    "inmig_pueb_sev = pd.read_csv('data/Inmigraciones_pueblos_desde_sevilla_capital_2001_2021.csv',sep=';')"
   ]
  },
  {
   "cell_type": "code",
   "execution_count": null,
   "metadata": {},
   "outputs": [],
   "source": [
    "inmig_pueb_sev.drop(['Lugar de origen','Medida','Unnamed: 5'],axis=1,inplace=True)"
   ]
  },
  {
   "cell_type": "code",
   "execution_count": null,
   "metadata": {},
   "outputs": [
    {
     "data": {
      "application/vnd.plotly.v1+json": {
       "config": {
        "plotlyServerURL": "https://plot.ly"
       },
       "data": [
        {
         "hovertemplate": "Anual=2001<br>Lugar de destino=%{x}<br>Valor=%{y}<extra></extra>",
         "legendgroup": "2001",
         "line": {
          "color": "#636efa",
          "dash": "solid"
         },
         "marker": {
          "symbol": "circle"
         },
         "mode": "markers+lines",
         "name": "2001",
         "orientation": "v",
         "showlegend": true,
         "type": "scatter",
         "x": [
          "Alcalá de Guadaíra",
          "Bormujos",
          "Camas",
          "Carmona",
          "Coria del Río",
          "Dos Hermanas",
          "La Rinconada",
          "Mairena del Alcor",
          "Mairena del Aljarafe",
          "San Juan de Aznalfarache",
          "Tomares",
          "Utrera"
         ],
         "xaxis": "x",
         "y": [
          436,
          468,
          220,
          223,
          95,
          1765,
          431,
          95,
          634,
          251,
          313,
          65
         ],
         "yaxis": "y"
        },
        {
         "hovertemplate": "Anual=2002<br>Lugar de destino=%{x}<br>Valor=%{y}<extra></extra>",
         "legendgroup": "2002",
         "line": {
          "color": "#EF553B",
          "dash": "solid"
         },
         "marker": {
          "symbol": "circle"
         },
         "mode": "markers+lines",
         "name": "2002",
         "orientation": "v",
         "showlegend": true,
         "type": "scatter",
         "x": [
          "Alcalá de Guadaíra",
          "Bormujos",
          "Camas",
          "Carmona",
          "Coria del Río",
          "Dos Hermanas",
          "La Rinconada",
          "Mairena del Alcor",
          "Mairena del Aljarafe",
          "San Juan de Aznalfarache",
          "Tomares",
          "Utrera"
         ],
         "xaxis": "x",
         "y": [
          714,
          454,
          235,
          254,
          118,
          2209,
          709,
          193,
          641,
          237,
          441,
          189
         ],
         "yaxis": "y"
        },
        {
         "hovertemplate": "Anual=2003<br>Lugar de destino=%{x}<br>Valor=%{y}<extra></extra>",
         "legendgroup": "2003",
         "line": {
          "color": "#00cc96",
          "dash": "solid"
         },
         "marker": {
          "symbol": "circle"
         },
         "mode": "markers+lines",
         "name": "2003",
         "orientation": "v",
         "showlegend": true,
         "type": "scatter",
         "x": [
          "Alcalá de Guadaíra",
          "Bormujos",
          "Camas",
          "Carmona",
          "Coria del Río",
          "Dos Hermanas",
          "La Rinconada",
          "Mairena del Alcor",
          "Mairena del Aljarafe",
          "San Juan de Aznalfarache",
          "Tomares",
          "Utrera"
         ],
         "xaxis": "x",
         "y": [
          986,
          473,
          386,
          246,
          150,
          1987,
          684,
          257,
          711,
          373,
          486,
          199
         ],
         "yaxis": "y"
        },
        {
         "hovertemplate": "Anual=2004<br>Lugar de destino=%{x}<br>Valor=%{y}<extra></extra>",
         "legendgroup": "2004",
         "line": {
          "color": "#ab63fa",
          "dash": "solid"
         },
         "marker": {
          "symbol": "circle"
         },
         "mode": "markers+lines",
         "name": "2004",
         "orientation": "v",
         "showlegend": true,
         "type": "scatter",
         "x": [
          "Alcalá de Guadaíra",
          "Bormujos",
          "Camas",
          "Carmona",
          "Coria del Río",
          "Dos Hermanas",
          "La Rinconada",
          "Mairena del Alcor",
          "Mairena del Aljarafe",
          "San Juan de Aznalfarache",
          "Tomares",
          "Utrera"
         ],
         "xaxis": "x",
         "y": [
          1473,
          551,
          528,
          295,
          223,
          2082,
          672,
          240,
          613,
          381,
          573,
          202
         ],
         "yaxis": "y"
        },
        {
         "hovertemplate": "Anual=2005<br>Lugar de destino=%{x}<br>Valor=%{y}<extra></extra>",
         "legendgroup": "2005",
         "line": {
          "color": "#FFA15A",
          "dash": "solid"
         },
         "marker": {
          "symbol": "circle"
         },
         "mode": "markers+lines",
         "name": "2005",
         "orientation": "v",
         "showlegend": true,
         "type": "scatter",
         "x": [
          "Alcalá de Guadaíra",
          "Bormujos",
          "Camas",
          "Carmona",
          "Coria del Río",
          "Dos Hermanas",
          "La Rinconada",
          "Mairena del Alcor",
          "Mairena del Aljarafe",
          "San Juan de Aznalfarache",
          "Tomares",
          "Utrera"
         ],
         "xaxis": "x",
         "y": [
          1364,
          554,
          348,
          257,
          201,
          1907,
          733,
          336,
          478,
          332,
          474,
          272
         ],
         "yaxis": "y"
        },
        {
         "hovertemplate": "Anual=2006<br>Lugar de destino=%{x}<br>Valor=%{y}<extra></extra>",
         "legendgroup": "2006",
         "line": {
          "color": "#19d3f3",
          "dash": "solid"
         },
         "marker": {
          "symbol": "circle"
         },
         "mode": "markers+lines",
         "name": "2006",
         "orientation": "v",
         "showlegend": true,
         "type": "scatter",
         "x": [
          "Alcalá de Guadaíra",
          "Bormujos",
          "Camas",
          "Carmona",
          "Coria del Río",
          "Dos Hermanas",
          "La Rinconada",
          "Mairena del Alcor",
          "Mairena del Aljarafe",
          "San Juan de Aznalfarache",
          "Tomares",
          "Utrera"
         ],
         "xaxis": "x",
         "y": [
          1121,
          416,
          388,
          304,
          209,
          1981,
          753,
          439,
          481,
          369,
          508,
          238
         ],
         "yaxis": "y"
        },
        {
         "hovertemplate": "Anual=2007<br>Lugar de destino=%{x}<br>Valor=%{y}<extra></extra>",
         "legendgroup": "2007",
         "line": {
          "color": "#FF6692",
          "dash": "solid"
         },
         "marker": {
          "symbol": "circle"
         },
         "mode": "markers+lines",
         "name": "2007",
         "orientation": "v",
         "showlegend": true,
         "type": "scatter",
         "x": [
          "Alcalá de Guadaíra",
          "Bormujos",
          "Camas",
          "Carmona",
          "Coria del Río",
          "Dos Hermanas",
          "La Rinconada",
          "Mairena del Alcor",
          "Mairena del Aljarafe",
          "San Juan de Aznalfarache",
          "Tomares",
          "Utrera"
         ],
         "xaxis": "x",
         "y": [
          1183,
          551,
          403,
          280,
          272,
          1770,
          642,
          312,
          552,
          421,
          548,
          299
         ],
         "yaxis": "y"
        },
        {
         "hovertemplate": "Anual=2008<br>Lugar de destino=%{x}<br>Valor=%{y}<extra></extra>",
         "legendgroup": "2008",
         "line": {
          "color": "#B6E880",
          "dash": "solid"
         },
         "marker": {
          "symbol": "circle"
         },
         "mode": "markers+lines",
         "name": "2008",
         "orientation": "v",
         "showlegend": true,
         "type": "scatter",
         "x": [
          "Alcalá de Guadaíra",
          "Bormujos",
          "Camas",
          "Carmona",
          "Coria del Río",
          "Dos Hermanas",
          "La Rinconada",
          "Mairena del Alcor",
          "Mairena del Aljarafe",
          "San Juan de Aznalfarache",
          "Tomares",
          "Utrera"
         ],
         "xaxis": "x",
         "y": [
          955,
          450,
          365,
          232,
          258,
          1623,
          529,
          352,
          634,
          359,
          473,
          191
         ],
         "yaxis": "y"
        },
        {
         "hovertemplate": "Anual=2009<br>Lugar de destino=%{x}<br>Valor=%{y}<extra></extra>",
         "legendgroup": "2009",
         "line": {
          "color": "#FF97FF",
          "dash": "solid"
         },
         "marker": {
          "symbol": "circle"
         },
         "mode": "markers+lines",
         "name": "2009",
         "orientation": "v",
         "showlegend": true,
         "type": "scatter",
         "x": [
          "Alcalá de Guadaíra",
          "Bormujos",
          "Camas",
          "Carmona",
          "Coria del Río",
          "Dos Hermanas",
          "La Rinconada",
          "Mairena del Alcor",
          "Mairena del Aljarafe",
          "San Juan de Aznalfarache",
          "Tomares",
          "Utrera"
         ],
         "xaxis": "x",
         "y": [
          983,
          324,
          453,
          241,
          255,
          1599,
          549,
          327,
          612,
          384,
          475,
          216
         ],
         "yaxis": "y"
        },
        {
         "hovertemplate": "Anual=2010<br>Lugar de destino=%{x}<br>Valor=%{y}<extra></extra>",
         "legendgroup": "2010",
         "line": {
          "color": "#FECB52",
          "dash": "solid"
         },
         "marker": {
          "symbol": "circle"
         },
         "mode": "markers+lines",
         "name": "2010",
         "orientation": "v",
         "showlegend": true,
         "type": "scatter",
         "x": [
          "Alcalá de Guadaíra",
          "Bormujos",
          "Camas",
          "Carmona",
          "Coria del Río",
          "Dos Hermanas",
          "La Rinconada",
          "Mairena del Alcor",
          "Mairena del Aljarafe",
          "San Juan de Aznalfarache",
          "Tomares",
          "Utrera"
         ],
         "xaxis": "x",
         "y": [
          937,
          342,
          398,
          257,
          299,
          1787,
          529,
          303,
          691,
          450,
          434,
          171
         ],
         "yaxis": "y"
        },
        {
         "hovertemplate": "Anual=2011<br>Lugar de destino=%{x}<br>Valor=%{y}<extra></extra>",
         "legendgroup": "2011",
         "line": {
          "color": "#636efa",
          "dash": "solid"
         },
         "marker": {
          "symbol": "circle"
         },
         "mode": "markers+lines",
         "name": "2011",
         "orientation": "v",
         "showlegend": true,
         "type": "scatter",
         "x": [
          "Alcalá de Guadaíra",
          "Bormujos",
          "Camas",
          "Carmona",
          "Coria del Río",
          "Dos Hermanas",
          "La Rinconada",
          "Mairena del Alcor",
          "Mairena del Aljarafe",
          "San Juan de Aznalfarache",
          "Tomares",
          "Utrera"
         ],
         "xaxis": "x",
         "y": [
          770,
          392,
          430,
          252,
          262,
          1387,
          395,
          262,
          608,
          385,
          348,
          209
         ],
         "yaxis": "y"
        },
        {
         "hovertemplate": "Anual=2012<br>Lugar de destino=%{x}<br>Valor=%{y}<extra></extra>",
         "legendgroup": "2012",
         "line": {
          "color": "#EF553B",
          "dash": "solid"
         },
         "marker": {
          "symbol": "circle"
         },
         "mode": "markers+lines",
         "name": "2012",
         "orientation": "v",
         "showlegend": true,
         "type": "scatter",
         "x": [
          "Alcalá de Guadaíra",
          "Bormujos",
          "Camas",
          "Carmona",
          "Coria del Río",
          "Dos Hermanas",
          "La Rinconada",
          "Mairena del Alcor",
          "Mairena del Aljarafe",
          "San Juan de Aznalfarache",
          "Tomares",
          "Utrera"
         ],
         "xaxis": "x",
         "y": [
          670,
          251,
          389,
          211,
          227,
          1251,
          352,
          253,
          553,
          340,
          386,
          172
         ],
         "yaxis": "y"
        },
        {
         "hovertemplate": "Anual=2013<br>Lugar de destino=%{x}<br>Valor=%{y}<extra></extra>",
         "legendgroup": "2013",
         "line": {
          "color": "#00cc96",
          "dash": "solid"
         },
         "marker": {
          "symbol": "circle"
         },
         "mode": "markers+lines",
         "name": "2013",
         "orientation": "v",
         "showlegend": true,
         "type": "scatter",
         "x": [
          "Alcalá de Guadaíra",
          "Bormujos",
          "Camas",
          "Carmona",
          "Coria del Río",
          "Dos Hermanas",
          "La Rinconada",
          "Mairena del Alcor",
          "Mairena del Aljarafe",
          "San Juan de Aznalfarache",
          "Tomares",
          "Utrera"
         ],
         "xaxis": "x",
         "y": [
          678,
          301,
          368,
          179,
          161,
          1235,
          349,
          231,
          647,
          279,
          342,
          197
         ],
         "yaxis": "y"
        },
        {
         "hovertemplate": "Anual=2014<br>Lugar de destino=%{x}<br>Valor=%{y}<extra></extra>",
         "legendgroup": "2014",
         "line": {
          "color": "#ab63fa",
          "dash": "solid"
         },
         "marker": {
          "symbol": "circle"
         },
         "mode": "markers+lines",
         "name": "2014",
         "orientation": "v",
         "showlegend": true,
         "type": "scatter",
         "x": [
          "Alcalá de Guadaíra",
          "Bormujos",
          "Camas",
          "Carmona",
          "Coria del Río",
          "Dos Hermanas",
          "La Rinconada",
          "Mairena del Alcor",
          "Mairena del Aljarafe",
          "San Juan de Aznalfarache",
          "Tomares",
          "Utrera"
         ],
         "xaxis": "x",
         "y": [
          744,
          297,
          396,
          210,
          213,
          1284,
          410,
          225,
          719,
          330,
          357,
          191
         ],
         "yaxis": "y"
        },
        {
         "hovertemplate": "Anual=2015<br>Lugar de destino=%{x}<br>Valor=%{y}<extra></extra>",
         "legendgroup": "2015",
         "line": {
          "color": "#FFA15A",
          "dash": "solid"
         },
         "marker": {
          "symbol": "circle"
         },
         "mode": "markers+lines",
         "name": "2015",
         "orientation": "v",
         "showlegend": true,
         "type": "scatter",
         "x": [
          "Alcalá de Guadaíra",
          "Bormujos",
          "Camas",
          "Carmona",
          "Coria del Río",
          "Dos Hermanas",
          "La Rinconada",
          "Mairena del Alcor",
          "Mairena del Aljarafe",
          "San Juan de Aznalfarache",
          "Tomares",
          "Utrera"
         ],
         "xaxis": "x",
         "y": [
          734,
          267,
          425,
          218,
          184,
          1244,
          392,
          270,
          694,
          283,
          348,
          170
         ],
         "yaxis": "y"
        },
        {
         "hovertemplate": "Anual=2016<br>Lugar de destino=%{x}<br>Valor=%{y}<extra></extra>",
         "legendgroup": "2016",
         "line": {
          "color": "#19d3f3",
          "dash": "solid"
         },
         "marker": {
          "symbol": "circle"
         },
         "mode": "markers+lines",
         "name": "2016",
         "orientation": "v",
         "showlegend": true,
         "type": "scatter",
         "x": [
          "Alcalá de Guadaíra",
          "Bormujos",
          "Camas",
          "Carmona",
          "Coria del Río",
          "Dos Hermanas",
          "La Rinconada",
          "Mairena del Alcor",
          "Mairena del Aljarafe",
          "San Juan de Aznalfarache",
          "Tomares",
          "Utrera"
         ],
         "xaxis": "x",
         "y": [
          658,
          292,
          329,
          228,
          185,
          1169,
          368,
          191,
          562,
          306,
          354,
          174
         ],
         "yaxis": "y"
        },
        {
         "hovertemplate": "Anual=2017<br>Lugar de destino=%{x}<br>Valor=%{y}<extra></extra>",
         "legendgroup": "2017",
         "line": {
          "color": "#FF6692",
          "dash": "solid"
         },
         "marker": {
          "symbol": "circle"
         },
         "mode": "markers+lines",
         "name": "2017",
         "orientation": "v",
         "showlegend": true,
         "type": "scatter",
         "x": [
          "Alcalá de Guadaíra",
          "Bormujos",
          "Camas",
          "Carmona",
          "Coria del Río",
          "Dos Hermanas",
          "La Rinconada",
          "Mairena del Alcor",
          "Mairena del Aljarafe",
          "San Juan de Aznalfarache",
          "Tomares",
          "Utrera"
         ],
         "xaxis": "x",
         "y": [
          631,
          246,
          345,
          249,
          173,
          1266,
          337,
          207,
          550,
          278,
          350,
          135
         ],
         "yaxis": "y"
        },
        {
         "hovertemplate": "Anual=2018<br>Lugar de destino=%{x}<br>Valor=%{y}<extra></extra>",
         "legendgroup": "2018",
         "line": {
          "color": "#B6E880",
          "dash": "solid"
         },
         "marker": {
          "symbol": "circle"
         },
         "mode": "markers+lines",
         "name": "2018",
         "orientation": "v",
         "showlegend": true,
         "type": "scatter",
         "x": [
          "Alcalá de Guadaíra",
          "Bormujos",
          "Camas",
          "Carmona",
          "Coria del Río",
          "Dos Hermanas",
          "La Rinconada",
          "Mairena del Alcor",
          "Mairena del Aljarafe",
          "San Juan de Aznalfarache",
          "Tomares",
          "Utrera"
         ],
         "xaxis": "x",
         "y": [
          679,
          249,
          403,
          257,
          188,
          1214,
          433,
          180,
          566,
          365,
          266,
          173
         ],
         "yaxis": "y"
        },
        {
         "hovertemplate": "Anual=2019<br>Lugar de destino=%{x}<br>Valor=%{y}<extra></extra>",
         "legendgroup": "2019",
         "line": {
          "color": "#FF97FF",
          "dash": "solid"
         },
         "marker": {
          "symbol": "circle"
         },
         "mode": "markers+lines",
         "name": "2019",
         "orientation": "v",
         "showlegend": true,
         "type": "scatter",
         "x": [
          "Alcalá de Guadaíra",
          "Bormujos",
          "Camas",
          "Carmona",
          "Coria del Río",
          "Dos Hermanas",
          "La Rinconada",
          "Mairena del Alcor",
          "Mairena del Aljarafe",
          "San Juan de Aznalfarache",
          "Tomares",
          "Utrera"
         ],
         "xaxis": "x",
         "y": [
          708,
          274,
          356,
          302,
          169,
          1387,
          489,
          144,
          538,
          360,
          287,
          186
         ],
         "yaxis": "y"
        },
        {
         "hovertemplate": "Anual=2020<br>Lugar de destino=%{x}<br>Valor=%{y}<extra></extra>",
         "legendgroup": "2020",
         "line": {
          "color": "#FECB52",
          "dash": "solid"
         },
         "marker": {
          "symbol": "circle"
         },
         "mode": "markers+lines",
         "name": "2020",
         "orientation": "v",
         "showlegend": true,
         "type": "scatter",
         "x": [
          "Alcalá de Guadaíra",
          "Bormujos",
          "Camas",
          "Carmona",
          "Coria del Río",
          "Dos Hermanas",
          "La Rinconada",
          "Mairena del Alcor",
          "Mairena del Aljarafe",
          "San Juan de Aznalfarache",
          "Tomares",
          "Utrera"
         ],
         "xaxis": "x",
         "y": [
          672,
          240,
          390,
          416,
          180,
          1421,
          413,
          207,
          610,
          381,
          283,
          185
         ],
         "yaxis": "y"
        },
        {
         "hovertemplate": "Anual=2021<br>Lugar de destino=%{x}<br>Valor=%{y}<extra></extra>",
         "legendgroup": "2021",
         "line": {
          "color": "#636efa",
          "dash": "solid"
         },
         "marker": {
          "symbol": "circle"
         },
         "mode": "markers+lines",
         "name": "2021",
         "orientation": "v",
         "showlegend": true,
         "type": "scatter",
         "x": [
          "Alcalá de Guadaíra",
          "Bormujos",
          "Camas",
          "Carmona",
          "Coria del Río",
          "Dos Hermanas",
          "La Rinconada",
          "Mairena del Alcor",
          "Mairena del Aljarafe",
          "San Juan de Aznalfarache",
          "Tomares",
          "Utrera"
         ],
         "xaxis": "x",
         "y": [
          780,
          283,
          395,
          354,
          149,
          1784,
          473,
          186,
          583,
          361,
          268,
          239
         ],
         "yaxis": "y"
        }
       ],
       "layout": {
        "legend": {
         "title": {
          "text": "Anual"
         },
         "tracegroupgap": 0
        },
        "template": {
         "data": {
          "bar": [
           {
            "error_x": {
             "color": "#2a3f5f"
            },
            "error_y": {
             "color": "#2a3f5f"
            },
            "marker": {
             "line": {
              "color": "#E5ECF6",
              "width": 0.5
             },
             "pattern": {
              "fillmode": "overlay",
              "size": 10,
              "solidity": 0.2
             }
            },
            "type": "bar"
           }
          ],
          "barpolar": [
           {
            "marker": {
             "line": {
              "color": "#E5ECF6",
              "width": 0.5
             },
             "pattern": {
              "fillmode": "overlay",
              "size": 10,
              "solidity": 0.2
             }
            },
            "type": "barpolar"
           }
          ],
          "carpet": [
           {
            "aaxis": {
             "endlinecolor": "#2a3f5f",
             "gridcolor": "white",
             "linecolor": "white",
             "minorgridcolor": "white",
             "startlinecolor": "#2a3f5f"
            },
            "baxis": {
             "endlinecolor": "#2a3f5f",
             "gridcolor": "white",
             "linecolor": "white",
             "minorgridcolor": "white",
             "startlinecolor": "#2a3f5f"
            },
            "type": "carpet"
           }
          ],
          "choropleth": [
           {
            "colorbar": {
             "outlinewidth": 0,
             "ticks": ""
            },
            "type": "choropleth"
           }
          ],
          "contour": [
           {
            "colorbar": {
             "outlinewidth": 0,
             "ticks": ""
            },
            "colorscale": [
             [
              0,
              "#0d0887"
             ],
             [
              0.1111111111111111,
              "#46039f"
             ],
             [
              0.2222222222222222,
              "#7201a8"
             ],
             [
              0.3333333333333333,
              "#9c179e"
             ],
             [
              0.4444444444444444,
              "#bd3786"
             ],
             [
              0.5555555555555556,
              "#d8576b"
             ],
             [
              0.6666666666666666,
              "#ed7953"
             ],
             [
              0.7777777777777778,
              "#fb9f3a"
             ],
             [
              0.8888888888888888,
              "#fdca26"
             ],
             [
              1,
              "#f0f921"
             ]
            ],
            "type": "contour"
           }
          ],
          "contourcarpet": [
           {
            "colorbar": {
             "outlinewidth": 0,
             "ticks": ""
            },
            "type": "contourcarpet"
           }
          ],
          "heatmap": [
           {
            "colorbar": {
             "outlinewidth": 0,
             "ticks": ""
            },
            "colorscale": [
             [
              0,
              "#0d0887"
             ],
             [
              0.1111111111111111,
              "#46039f"
             ],
             [
              0.2222222222222222,
              "#7201a8"
             ],
             [
              0.3333333333333333,
              "#9c179e"
             ],
             [
              0.4444444444444444,
              "#bd3786"
             ],
             [
              0.5555555555555556,
              "#d8576b"
             ],
             [
              0.6666666666666666,
              "#ed7953"
             ],
             [
              0.7777777777777778,
              "#fb9f3a"
             ],
             [
              0.8888888888888888,
              "#fdca26"
             ],
             [
              1,
              "#f0f921"
             ]
            ],
            "type": "heatmap"
           }
          ],
          "heatmapgl": [
           {
            "colorbar": {
             "outlinewidth": 0,
             "ticks": ""
            },
            "colorscale": [
             [
              0,
              "#0d0887"
             ],
             [
              0.1111111111111111,
              "#46039f"
             ],
             [
              0.2222222222222222,
              "#7201a8"
             ],
             [
              0.3333333333333333,
              "#9c179e"
             ],
             [
              0.4444444444444444,
              "#bd3786"
             ],
             [
              0.5555555555555556,
              "#d8576b"
             ],
             [
              0.6666666666666666,
              "#ed7953"
             ],
             [
              0.7777777777777778,
              "#fb9f3a"
             ],
             [
              0.8888888888888888,
              "#fdca26"
             ],
             [
              1,
              "#f0f921"
             ]
            ],
            "type": "heatmapgl"
           }
          ],
          "histogram": [
           {
            "marker": {
             "pattern": {
              "fillmode": "overlay",
              "size": 10,
              "solidity": 0.2
             }
            },
            "type": "histogram"
           }
          ],
          "histogram2d": [
           {
            "colorbar": {
             "outlinewidth": 0,
             "ticks": ""
            },
            "colorscale": [
             [
              0,
              "#0d0887"
             ],
             [
              0.1111111111111111,
              "#46039f"
             ],
             [
              0.2222222222222222,
              "#7201a8"
             ],
             [
              0.3333333333333333,
              "#9c179e"
             ],
             [
              0.4444444444444444,
              "#bd3786"
             ],
             [
              0.5555555555555556,
              "#d8576b"
             ],
             [
              0.6666666666666666,
              "#ed7953"
             ],
             [
              0.7777777777777778,
              "#fb9f3a"
             ],
             [
              0.8888888888888888,
              "#fdca26"
             ],
             [
              1,
              "#f0f921"
             ]
            ],
            "type": "histogram2d"
           }
          ],
          "histogram2dcontour": [
           {
            "colorbar": {
             "outlinewidth": 0,
             "ticks": ""
            },
            "colorscale": [
             [
              0,
              "#0d0887"
             ],
             [
              0.1111111111111111,
              "#46039f"
             ],
             [
              0.2222222222222222,
              "#7201a8"
             ],
             [
              0.3333333333333333,
              "#9c179e"
             ],
             [
              0.4444444444444444,
              "#bd3786"
             ],
             [
              0.5555555555555556,
              "#d8576b"
             ],
             [
              0.6666666666666666,
              "#ed7953"
             ],
             [
              0.7777777777777778,
              "#fb9f3a"
             ],
             [
              0.8888888888888888,
              "#fdca26"
             ],
             [
              1,
              "#f0f921"
             ]
            ],
            "type": "histogram2dcontour"
           }
          ],
          "mesh3d": [
           {
            "colorbar": {
             "outlinewidth": 0,
             "ticks": ""
            },
            "type": "mesh3d"
           }
          ],
          "parcoords": [
           {
            "line": {
             "colorbar": {
              "outlinewidth": 0,
              "ticks": ""
             }
            },
            "type": "parcoords"
           }
          ],
          "pie": [
           {
            "automargin": true,
            "type": "pie"
           }
          ],
          "scatter": [
           {
            "fillpattern": {
             "fillmode": "overlay",
             "size": 10,
             "solidity": 0.2
            },
            "type": "scatter"
           }
          ],
          "scatter3d": [
           {
            "line": {
             "colorbar": {
              "outlinewidth": 0,
              "ticks": ""
             }
            },
            "marker": {
             "colorbar": {
              "outlinewidth": 0,
              "ticks": ""
             }
            },
            "type": "scatter3d"
           }
          ],
          "scattercarpet": [
           {
            "marker": {
             "colorbar": {
              "outlinewidth": 0,
              "ticks": ""
             }
            },
            "type": "scattercarpet"
           }
          ],
          "scattergeo": [
           {
            "marker": {
             "colorbar": {
              "outlinewidth": 0,
              "ticks": ""
             }
            },
            "type": "scattergeo"
           }
          ],
          "scattergl": [
           {
            "marker": {
             "colorbar": {
              "outlinewidth": 0,
              "ticks": ""
             }
            },
            "type": "scattergl"
           }
          ],
          "scattermapbox": [
           {
            "marker": {
             "colorbar": {
              "outlinewidth": 0,
              "ticks": ""
             }
            },
            "type": "scattermapbox"
           }
          ],
          "scatterpolar": [
           {
            "marker": {
             "colorbar": {
              "outlinewidth": 0,
              "ticks": ""
             }
            },
            "type": "scatterpolar"
           }
          ],
          "scatterpolargl": [
           {
            "marker": {
             "colorbar": {
              "outlinewidth": 0,
              "ticks": ""
             }
            },
            "type": "scatterpolargl"
           }
          ],
          "scatterternary": [
           {
            "marker": {
             "colorbar": {
              "outlinewidth": 0,
              "ticks": ""
             }
            },
            "type": "scatterternary"
           }
          ],
          "surface": [
           {
            "colorbar": {
             "outlinewidth": 0,
             "ticks": ""
            },
            "colorscale": [
             [
              0,
              "#0d0887"
             ],
             [
              0.1111111111111111,
              "#46039f"
             ],
             [
              0.2222222222222222,
              "#7201a8"
             ],
             [
              0.3333333333333333,
              "#9c179e"
             ],
             [
              0.4444444444444444,
              "#bd3786"
             ],
             [
              0.5555555555555556,
              "#d8576b"
             ],
             [
              0.6666666666666666,
              "#ed7953"
             ],
             [
              0.7777777777777778,
              "#fb9f3a"
             ],
             [
              0.8888888888888888,
              "#fdca26"
             ],
             [
              1,
              "#f0f921"
             ]
            ],
            "type": "surface"
           }
          ],
          "table": [
           {
            "cells": {
             "fill": {
              "color": "#EBF0F8"
             },
             "line": {
              "color": "white"
             }
            },
            "header": {
             "fill": {
              "color": "#C8D4E3"
             },
             "line": {
              "color": "white"
             }
            },
            "type": "table"
           }
          ]
         },
         "layout": {
          "annotationdefaults": {
           "arrowcolor": "#2a3f5f",
           "arrowhead": 0,
           "arrowwidth": 1
          },
          "autotypenumbers": "strict",
          "coloraxis": {
           "colorbar": {
            "outlinewidth": 0,
            "ticks": ""
           }
          },
          "colorscale": {
           "diverging": [
            [
             0,
             "#8e0152"
            ],
            [
             0.1,
             "#c51b7d"
            ],
            [
             0.2,
             "#de77ae"
            ],
            [
             0.3,
             "#f1b6da"
            ],
            [
             0.4,
             "#fde0ef"
            ],
            [
             0.5,
             "#f7f7f7"
            ],
            [
             0.6,
             "#e6f5d0"
            ],
            [
             0.7,
             "#b8e186"
            ],
            [
             0.8,
             "#7fbc41"
            ],
            [
             0.9,
             "#4d9221"
            ],
            [
             1,
             "#276419"
            ]
           ],
           "sequential": [
            [
             0,
             "#0d0887"
            ],
            [
             0.1111111111111111,
             "#46039f"
            ],
            [
             0.2222222222222222,
             "#7201a8"
            ],
            [
             0.3333333333333333,
             "#9c179e"
            ],
            [
             0.4444444444444444,
             "#bd3786"
            ],
            [
             0.5555555555555556,
             "#d8576b"
            ],
            [
             0.6666666666666666,
             "#ed7953"
            ],
            [
             0.7777777777777778,
             "#fb9f3a"
            ],
            [
             0.8888888888888888,
             "#fdca26"
            ],
            [
             1,
             "#f0f921"
            ]
           ],
           "sequentialminus": [
            [
             0,
             "#0d0887"
            ],
            [
             0.1111111111111111,
             "#46039f"
            ],
            [
             0.2222222222222222,
             "#7201a8"
            ],
            [
             0.3333333333333333,
             "#9c179e"
            ],
            [
             0.4444444444444444,
             "#bd3786"
            ],
            [
             0.5555555555555556,
             "#d8576b"
            ],
            [
             0.6666666666666666,
             "#ed7953"
            ],
            [
             0.7777777777777778,
             "#fb9f3a"
            ],
            [
             0.8888888888888888,
             "#fdca26"
            ],
            [
             1,
             "#f0f921"
            ]
           ]
          },
          "colorway": [
           "#636efa",
           "#EF553B",
           "#00cc96",
           "#ab63fa",
           "#FFA15A",
           "#19d3f3",
           "#FF6692",
           "#B6E880",
           "#FF97FF",
           "#FECB52"
          ],
          "font": {
           "color": "#2a3f5f"
          },
          "geo": {
           "bgcolor": "white",
           "lakecolor": "white",
           "landcolor": "#E5ECF6",
           "showlakes": true,
           "showland": true,
           "subunitcolor": "white"
          },
          "hoverlabel": {
           "align": "left"
          },
          "hovermode": "closest",
          "mapbox": {
           "style": "light"
          },
          "paper_bgcolor": "white",
          "plot_bgcolor": "#E5ECF6",
          "polar": {
           "angularaxis": {
            "gridcolor": "white",
            "linecolor": "white",
            "ticks": ""
           },
           "bgcolor": "#E5ECF6",
           "radialaxis": {
            "gridcolor": "white",
            "linecolor": "white",
            "ticks": ""
           }
          },
          "scene": {
           "xaxis": {
            "backgroundcolor": "#E5ECF6",
            "gridcolor": "white",
            "gridwidth": 2,
            "linecolor": "white",
            "showbackground": true,
            "ticks": "",
            "zerolinecolor": "white"
           },
           "yaxis": {
            "backgroundcolor": "#E5ECF6",
            "gridcolor": "white",
            "gridwidth": 2,
            "linecolor": "white",
            "showbackground": true,
            "ticks": "",
            "zerolinecolor": "white"
           },
           "zaxis": {
            "backgroundcolor": "#E5ECF6",
            "gridcolor": "white",
            "gridwidth": 2,
            "linecolor": "white",
            "showbackground": true,
            "ticks": "",
            "zerolinecolor": "white"
           }
          },
          "shapedefaults": {
           "line": {
            "color": "#2a3f5f"
           }
          },
          "ternary": {
           "aaxis": {
            "gridcolor": "white",
            "linecolor": "white",
            "ticks": ""
           },
           "baxis": {
            "gridcolor": "white",
            "linecolor": "white",
            "ticks": ""
           },
           "bgcolor": "#E5ECF6",
           "caxis": {
            "gridcolor": "white",
            "linecolor": "white",
            "ticks": ""
           }
          },
          "title": {
           "x": 0.05
          },
          "xaxis": {
           "automargin": true,
           "gridcolor": "white",
           "linecolor": "white",
           "ticks": "",
           "title": {
            "standoff": 15
           },
           "zerolinecolor": "white",
           "zerolinewidth": 2
          },
          "yaxis": {
           "automargin": true,
           "gridcolor": "white",
           "linecolor": "white",
           "ticks": "",
           "title": {
            "standoff": 15
           },
           "zerolinecolor": "white",
           "zerolinewidth": 2
          }
         }
        },
        "title": {
         "text": "Inmigraciones pueblos desde Sevilla capital 2001-2021"
        },
        "xaxis": {
         "anchor": "y",
         "domain": [
          0,
          1
         ],
         "title": {
          "text": "Lugar de destino"
         }
        },
        "yaxis": {
         "anchor": "x",
         "domain": [
          0,
          1
         ],
         "title": {
          "text": "Población"
         }
        }
       }
      }
     },
     "metadata": {},
     "output_type": "display_data"
    }
   ],
   "source": [
    "fig4 = px.line(inmig_pueb_sev,x='Lugar de destino',\n",
    "               y='Valor',\n",
    "               color='Anual',\n",
    "               markers=True,\n",
    "               title='Inmigraciones pueblos desde Sevilla capital 2001-2021')\n",
    "fig4.update_yaxes(title='Población')\n",
    "fig4.show()"
   ]
  },
  {
   "attachments": {},
   "cell_type": "markdown",
   "metadata": {},
   "source": [
    "### Teniendo claro donde han emigrado cierto numero de personas de Sevilla capital,\n",
    "### voy a intentar demostrar que algunas de las razones es por el precio de las viviendas."
   ]
  },
  {
   "cell_type": "code",
   "execution_count": null,
   "metadata": {},
   "outputs": [],
   "source": [
    "precio_sevilla = pd.read_csv('data/Precio_viv_sevilla.csv',sep='\\t')\n",
    "precio_sevilla['Precio m2'] = precio_sevilla['Precio m2'].replace(re.compile(r'(.€.m2)'),'')\n",
    "precio_sevilla['Año'] = precio_sevilla['Año'].replace(re.compile(r'[a-zA-Z]'),'')\n",
    "precio_sevilla_med = precio_sevilla.groupby('Año')['Precio m2'].median()"
   ]
  },
  {
   "cell_type": "code",
   "execution_count": null,
   "metadata": {},
   "outputs": [
    {
     "data": {
      "application/vnd.plotly.v1+json": {
       "config": {
        "plotlyServerURL": "https://plot.ly"
       },
       "data": [
        {
         "alignmentgroup": "True",
         "hovertemplate": "Año=%{x}<br>y=%{y}<extra></extra>",
         "legendgroup": "",
         "marker": {
          "color": "#636efa",
          "pattern": {
           "shape": ""
          }
         },
         "name": "",
         "offsetgroup": "",
         "orientation": "v",
         "showlegend": false,
         "textposition": "auto",
         "texttemplate": "%{y:.4s}",
         "type": "bar",
         "x": [
          " 2008",
          " 2009",
          " 2010",
          " 2011",
          " 2012",
          " 2013",
          " 2014",
          " 2015",
          " 2016",
          " 2017",
          " 2018",
          " 2019",
          " 2020",
          " 2021",
          " 2022"
         ],
         "xaxis": "x",
         "y": [
          2.534,
          2.3680000000000003,
          2.348,
          2.3945,
          2.1174999999999997,
          1.8595000000000002,
          1.7785,
          1.779,
          1.8125,
          1.844,
          1.9765000000000001,
          2.067,
          2.0949999999999998,
          1.99,
          2.0725
         ],
         "yaxis": "y"
        }
       ],
       "layout": {
        "barmode": "relative",
        "legend": {
         "tracegroupgap": 0
        },
        "template": {
         "data": {
          "bar": [
           {
            "error_x": {
             "color": "#2a3f5f"
            },
            "error_y": {
             "color": "#2a3f5f"
            },
            "marker": {
             "line": {
              "color": "#E5ECF6",
              "width": 0.5
             },
             "pattern": {
              "fillmode": "overlay",
              "size": 10,
              "solidity": 0.2
             }
            },
            "type": "bar"
           }
          ],
          "barpolar": [
           {
            "marker": {
             "line": {
              "color": "#E5ECF6",
              "width": 0.5
             },
             "pattern": {
              "fillmode": "overlay",
              "size": 10,
              "solidity": 0.2
             }
            },
            "type": "barpolar"
           }
          ],
          "carpet": [
           {
            "aaxis": {
             "endlinecolor": "#2a3f5f",
             "gridcolor": "white",
             "linecolor": "white",
             "minorgridcolor": "white",
             "startlinecolor": "#2a3f5f"
            },
            "baxis": {
             "endlinecolor": "#2a3f5f",
             "gridcolor": "white",
             "linecolor": "white",
             "minorgridcolor": "white",
             "startlinecolor": "#2a3f5f"
            },
            "type": "carpet"
           }
          ],
          "choropleth": [
           {
            "colorbar": {
             "outlinewidth": 0,
             "ticks": ""
            },
            "type": "choropleth"
           }
          ],
          "contour": [
           {
            "colorbar": {
             "outlinewidth": 0,
             "ticks": ""
            },
            "colorscale": [
             [
              0,
              "#0d0887"
             ],
             [
              0.1111111111111111,
              "#46039f"
             ],
             [
              0.2222222222222222,
              "#7201a8"
             ],
             [
              0.3333333333333333,
              "#9c179e"
             ],
             [
              0.4444444444444444,
              "#bd3786"
             ],
             [
              0.5555555555555556,
              "#d8576b"
             ],
             [
              0.6666666666666666,
              "#ed7953"
             ],
             [
              0.7777777777777778,
              "#fb9f3a"
             ],
             [
              0.8888888888888888,
              "#fdca26"
             ],
             [
              1,
              "#f0f921"
             ]
            ],
            "type": "contour"
           }
          ],
          "contourcarpet": [
           {
            "colorbar": {
             "outlinewidth": 0,
             "ticks": ""
            },
            "type": "contourcarpet"
           }
          ],
          "heatmap": [
           {
            "colorbar": {
             "outlinewidth": 0,
             "ticks": ""
            },
            "colorscale": [
             [
              0,
              "#0d0887"
             ],
             [
              0.1111111111111111,
              "#46039f"
             ],
             [
              0.2222222222222222,
              "#7201a8"
             ],
             [
              0.3333333333333333,
              "#9c179e"
             ],
             [
              0.4444444444444444,
              "#bd3786"
             ],
             [
              0.5555555555555556,
              "#d8576b"
             ],
             [
              0.6666666666666666,
              "#ed7953"
             ],
             [
              0.7777777777777778,
              "#fb9f3a"
             ],
             [
              0.8888888888888888,
              "#fdca26"
             ],
             [
              1,
              "#f0f921"
             ]
            ],
            "type": "heatmap"
           }
          ],
          "heatmapgl": [
           {
            "colorbar": {
             "outlinewidth": 0,
             "ticks": ""
            },
            "colorscale": [
             [
              0,
              "#0d0887"
             ],
             [
              0.1111111111111111,
              "#46039f"
             ],
             [
              0.2222222222222222,
              "#7201a8"
             ],
             [
              0.3333333333333333,
              "#9c179e"
             ],
             [
              0.4444444444444444,
              "#bd3786"
             ],
             [
              0.5555555555555556,
              "#d8576b"
             ],
             [
              0.6666666666666666,
              "#ed7953"
             ],
             [
              0.7777777777777778,
              "#fb9f3a"
             ],
             [
              0.8888888888888888,
              "#fdca26"
             ],
             [
              1,
              "#f0f921"
             ]
            ],
            "type": "heatmapgl"
           }
          ],
          "histogram": [
           {
            "marker": {
             "pattern": {
              "fillmode": "overlay",
              "size": 10,
              "solidity": 0.2
             }
            },
            "type": "histogram"
           }
          ],
          "histogram2d": [
           {
            "colorbar": {
             "outlinewidth": 0,
             "ticks": ""
            },
            "colorscale": [
             [
              0,
              "#0d0887"
             ],
             [
              0.1111111111111111,
              "#46039f"
             ],
             [
              0.2222222222222222,
              "#7201a8"
             ],
             [
              0.3333333333333333,
              "#9c179e"
             ],
             [
              0.4444444444444444,
              "#bd3786"
             ],
             [
              0.5555555555555556,
              "#d8576b"
             ],
             [
              0.6666666666666666,
              "#ed7953"
             ],
             [
              0.7777777777777778,
              "#fb9f3a"
             ],
             [
              0.8888888888888888,
              "#fdca26"
             ],
             [
              1,
              "#f0f921"
             ]
            ],
            "type": "histogram2d"
           }
          ],
          "histogram2dcontour": [
           {
            "colorbar": {
             "outlinewidth": 0,
             "ticks": ""
            },
            "colorscale": [
             [
              0,
              "#0d0887"
             ],
             [
              0.1111111111111111,
              "#46039f"
             ],
             [
              0.2222222222222222,
              "#7201a8"
             ],
             [
              0.3333333333333333,
              "#9c179e"
             ],
             [
              0.4444444444444444,
              "#bd3786"
             ],
             [
              0.5555555555555556,
              "#d8576b"
             ],
             [
              0.6666666666666666,
              "#ed7953"
             ],
             [
              0.7777777777777778,
              "#fb9f3a"
             ],
             [
              0.8888888888888888,
              "#fdca26"
             ],
             [
              1,
              "#f0f921"
             ]
            ],
            "type": "histogram2dcontour"
           }
          ],
          "mesh3d": [
           {
            "colorbar": {
             "outlinewidth": 0,
             "ticks": ""
            },
            "type": "mesh3d"
           }
          ],
          "parcoords": [
           {
            "line": {
             "colorbar": {
              "outlinewidth": 0,
              "ticks": ""
             }
            },
            "type": "parcoords"
           }
          ],
          "pie": [
           {
            "automargin": true,
            "type": "pie"
           }
          ],
          "scatter": [
           {
            "fillpattern": {
             "fillmode": "overlay",
             "size": 10,
             "solidity": 0.2
            },
            "type": "scatter"
           }
          ],
          "scatter3d": [
           {
            "line": {
             "colorbar": {
              "outlinewidth": 0,
              "ticks": ""
             }
            },
            "marker": {
             "colorbar": {
              "outlinewidth": 0,
              "ticks": ""
             }
            },
            "type": "scatter3d"
           }
          ],
          "scattercarpet": [
           {
            "marker": {
             "colorbar": {
              "outlinewidth": 0,
              "ticks": ""
             }
            },
            "type": "scattercarpet"
           }
          ],
          "scattergeo": [
           {
            "marker": {
             "colorbar": {
              "outlinewidth": 0,
              "ticks": ""
             }
            },
            "type": "scattergeo"
           }
          ],
          "scattergl": [
           {
            "marker": {
             "colorbar": {
              "outlinewidth": 0,
              "ticks": ""
             }
            },
            "type": "scattergl"
           }
          ],
          "scattermapbox": [
           {
            "marker": {
             "colorbar": {
              "outlinewidth": 0,
              "ticks": ""
             }
            },
            "type": "scattermapbox"
           }
          ],
          "scatterpolar": [
           {
            "marker": {
             "colorbar": {
              "outlinewidth": 0,
              "ticks": ""
             }
            },
            "type": "scatterpolar"
           }
          ],
          "scatterpolargl": [
           {
            "marker": {
             "colorbar": {
              "outlinewidth": 0,
              "ticks": ""
             }
            },
            "type": "scatterpolargl"
           }
          ],
          "scatterternary": [
           {
            "marker": {
             "colorbar": {
              "outlinewidth": 0,
              "ticks": ""
             }
            },
            "type": "scatterternary"
           }
          ],
          "surface": [
           {
            "colorbar": {
             "outlinewidth": 0,
             "ticks": ""
            },
            "colorscale": [
             [
              0,
              "#0d0887"
             ],
             [
              0.1111111111111111,
              "#46039f"
             ],
             [
              0.2222222222222222,
              "#7201a8"
             ],
             [
              0.3333333333333333,
              "#9c179e"
             ],
             [
              0.4444444444444444,
              "#bd3786"
             ],
             [
              0.5555555555555556,
              "#d8576b"
             ],
             [
              0.6666666666666666,
              "#ed7953"
             ],
             [
              0.7777777777777778,
              "#fb9f3a"
             ],
             [
              0.8888888888888888,
              "#fdca26"
             ],
             [
              1,
              "#f0f921"
             ]
            ],
            "type": "surface"
           }
          ],
          "table": [
           {
            "cells": {
             "fill": {
              "color": "#EBF0F8"
             },
             "line": {
              "color": "white"
             }
            },
            "header": {
             "fill": {
              "color": "#C8D4E3"
             },
             "line": {
              "color": "white"
             }
            },
            "type": "table"
           }
          ]
         },
         "layout": {
          "annotationdefaults": {
           "arrowcolor": "#2a3f5f",
           "arrowhead": 0,
           "arrowwidth": 1
          },
          "autotypenumbers": "strict",
          "coloraxis": {
           "colorbar": {
            "outlinewidth": 0,
            "ticks": ""
           }
          },
          "colorscale": {
           "diverging": [
            [
             0,
             "#8e0152"
            ],
            [
             0.1,
             "#c51b7d"
            ],
            [
             0.2,
             "#de77ae"
            ],
            [
             0.3,
             "#f1b6da"
            ],
            [
             0.4,
             "#fde0ef"
            ],
            [
             0.5,
             "#f7f7f7"
            ],
            [
             0.6,
             "#e6f5d0"
            ],
            [
             0.7,
             "#b8e186"
            ],
            [
             0.8,
             "#7fbc41"
            ],
            [
             0.9,
             "#4d9221"
            ],
            [
             1,
             "#276419"
            ]
           ],
           "sequential": [
            [
             0,
             "#0d0887"
            ],
            [
             0.1111111111111111,
             "#46039f"
            ],
            [
             0.2222222222222222,
             "#7201a8"
            ],
            [
             0.3333333333333333,
             "#9c179e"
            ],
            [
             0.4444444444444444,
             "#bd3786"
            ],
            [
             0.5555555555555556,
             "#d8576b"
            ],
            [
             0.6666666666666666,
             "#ed7953"
            ],
            [
             0.7777777777777778,
             "#fb9f3a"
            ],
            [
             0.8888888888888888,
             "#fdca26"
            ],
            [
             1,
             "#f0f921"
            ]
           ],
           "sequentialminus": [
            [
             0,
             "#0d0887"
            ],
            [
             0.1111111111111111,
             "#46039f"
            ],
            [
             0.2222222222222222,
             "#7201a8"
            ],
            [
             0.3333333333333333,
             "#9c179e"
            ],
            [
             0.4444444444444444,
             "#bd3786"
            ],
            [
             0.5555555555555556,
             "#d8576b"
            ],
            [
             0.6666666666666666,
             "#ed7953"
            ],
            [
             0.7777777777777778,
             "#fb9f3a"
            ],
            [
             0.8888888888888888,
             "#fdca26"
            ],
            [
             1,
             "#f0f921"
            ]
           ]
          },
          "colorway": [
           "#636efa",
           "#EF553B",
           "#00cc96",
           "#ab63fa",
           "#FFA15A",
           "#19d3f3",
           "#FF6692",
           "#B6E880",
           "#FF97FF",
           "#FECB52"
          ],
          "font": {
           "color": "#2a3f5f"
          },
          "geo": {
           "bgcolor": "white",
           "lakecolor": "white",
           "landcolor": "#E5ECF6",
           "showlakes": true,
           "showland": true,
           "subunitcolor": "white"
          },
          "hoverlabel": {
           "align": "left"
          },
          "hovermode": "closest",
          "mapbox": {
           "style": "light"
          },
          "paper_bgcolor": "white",
          "plot_bgcolor": "#E5ECF6",
          "polar": {
           "angularaxis": {
            "gridcolor": "white",
            "linecolor": "white",
            "ticks": ""
           },
           "bgcolor": "#E5ECF6",
           "radialaxis": {
            "gridcolor": "white",
            "linecolor": "white",
            "ticks": ""
           }
          },
          "scene": {
           "xaxis": {
            "backgroundcolor": "#E5ECF6",
            "gridcolor": "white",
            "gridwidth": 2,
            "linecolor": "white",
            "showbackground": true,
            "ticks": "",
            "zerolinecolor": "white"
           },
           "yaxis": {
            "backgroundcolor": "#E5ECF6",
            "gridcolor": "white",
            "gridwidth": 2,
            "linecolor": "white",
            "showbackground": true,
            "ticks": "",
            "zerolinecolor": "white"
           },
           "zaxis": {
            "backgroundcolor": "#E5ECF6",
            "gridcolor": "white",
            "gridwidth": 2,
            "linecolor": "white",
            "showbackground": true,
            "ticks": "",
            "zerolinecolor": "white"
           }
          },
          "shapedefaults": {
           "line": {
            "color": "#2a3f5f"
           }
          },
          "ternary": {
           "aaxis": {
            "gridcolor": "white",
            "linecolor": "white",
            "ticks": ""
           },
           "baxis": {
            "gridcolor": "white",
            "linecolor": "white",
            "ticks": ""
           },
           "bgcolor": "#E5ECF6",
           "caxis": {
            "gridcolor": "white",
            "linecolor": "white",
            "ticks": ""
           }
          },
          "title": {
           "x": 0.05
          },
          "xaxis": {
           "automargin": true,
           "gridcolor": "white",
           "linecolor": "white",
           "ticks": "",
           "title": {
            "standoff": 15
           },
           "zerolinecolor": "white",
           "zerolinewidth": 2
          },
          "yaxis": {
           "automargin": true,
           "gridcolor": "white",
           "linecolor": "white",
           "ticks": "",
           "title": {
            "standoff": 15
           },
           "zerolinecolor": "white",
           "zerolinewidth": 2
          }
         }
        },
        "title": {
         "text": "Precio en euros por m2 en Sevilla 2008-2022"
        },
        "xaxis": {
         "anchor": "y",
         "domain": [
          0,
          1
         ],
         "title": {
          "text": "Año"
         }
        },
        "yaxis": {
         "anchor": "x",
         "domain": [
          0,
          1
         ],
         "title": {
          "text": "Euro/m2"
         }
        }
       }
      }
     },
     "metadata": {},
     "output_type": "display_data"
    }
   ],
   "source": [
    "fig5 = px.bar(precio_sevilla_med,\n",
    "              x=precio_sevilla_med.index,\n",
    "              y=precio_sevilla_med.values,\n",
    "              title='Precio en euros por m2 en Sevilla 2008-2022',\n",
    "              text_auto='.4s')\n",
    "fig5.update_xaxes(title='Año')\n",
    "fig5.update_yaxes(title='Euro/m2')\n",
    "fig5.show()"
   ]
  },
  {
   "attachments": {},
   "cell_type": "markdown",
   "metadata": {},
   "source": [
    "### Sabiendo el precio por m2 de Sevilla ahora veamos el de algunos pueblos mas grandes"
   ]
  },
  {
   "attachments": {},
   "cell_type": "markdown",
   "metadata": {},
   "source": [
    "### Alcalá de Guadaíra"
   ]
  },
  {
   "cell_type": "code",
   "execution_count": null,
   "metadata": {},
   "outputs": [],
   "source": [
    "precio_alcala = pd.read_csv('data/Precio_viv_Alcala_Gra.csv',sep='\\t')\n",
    "precio_alcala['Precio m2'] = precio_alcala['Precio m2'].replace(re.compile(r'(.€.m2)'),'')\n",
    "precio_alcala['Año'] = precio_alcala['Año'].replace(re.compile(r'[a-zA-Z]'),'')\n",
    "precio_alcala_med = precio_alcala.groupby('Año')['Precio m2'].median()"
   ]
  },
  {
   "cell_type": "code",
   "execution_count": null,
   "metadata": {},
   "outputs": [
    {
     "data": {
      "application/vnd.plotly.v1+json": {
       "config": {
        "plotlyServerURL": "https://plot.ly"
       },
       "data": [
        {
         "alignmentgroup": "True",
         "hovertemplate": "Año=%{x}<br>y=%{y}<extra></extra>",
         "legendgroup": "",
         "marker": {
          "color": "#636efa",
          "pattern": {
           "shape": ""
          }
         },
         "name": "",
         "offsetgroup": "",
         "orientation": "v",
         "showlegend": false,
         "textposition": "auto",
         "texttemplate": "%{y:.4s}",
         "type": "bar",
         "x": [
          " 2009",
          " 2010",
          " 2011",
          " 2012",
          " 2013",
          " 2014",
          " 2015",
          " 2016",
          " 2017",
          " 2018",
          " 2019",
          " 2020",
          " 2021",
          " 2022"
         ],
         "xaxis": "x",
         "y": [
          1.52,
          1.512,
          1.4515,
          1.3239999999999998,
          1.1844999999999999,
          1.069,
          1.023,
          1.011,
          1.0215,
          1.0499999999999998,
          1.118,
          1.101,
          1.1045,
          1.143
         ],
         "yaxis": "y"
        }
       ],
       "layout": {
        "barmode": "relative",
        "legend": {
         "tracegroupgap": 0
        },
        "template": {
         "data": {
          "bar": [
           {
            "error_x": {
             "color": "#2a3f5f"
            },
            "error_y": {
             "color": "#2a3f5f"
            },
            "marker": {
             "line": {
              "color": "#E5ECF6",
              "width": 0.5
             },
             "pattern": {
              "fillmode": "overlay",
              "size": 10,
              "solidity": 0.2
             }
            },
            "type": "bar"
           }
          ],
          "barpolar": [
           {
            "marker": {
             "line": {
              "color": "#E5ECF6",
              "width": 0.5
             },
             "pattern": {
              "fillmode": "overlay",
              "size": 10,
              "solidity": 0.2
             }
            },
            "type": "barpolar"
           }
          ],
          "carpet": [
           {
            "aaxis": {
             "endlinecolor": "#2a3f5f",
             "gridcolor": "white",
             "linecolor": "white",
             "minorgridcolor": "white",
             "startlinecolor": "#2a3f5f"
            },
            "baxis": {
             "endlinecolor": "#2a3f5f",
             "gridcolor": "white",
             "linecolor": "white",
             "minorgridcolor": "white",
             "startlinecolor": "#2a3f5f"
            },
            "type": "carpet"
           }
          ],
          "choropleth": [
           {
            "colorbar": {
             "outlinewidth": 0,
             "ticks": ""
            },
            "type": "choropleth"
           }
          ],
          "contour": [
           {
            "colorbar": {
             "outlinewidth": 0,
             "ticks": ""
            },
            "colorscale": [
             [
              0,
              "#0d0887"
             ],
             [
              0.1111111111111111,
              "#46039f"
             ],
             [
              0.2222222222222222,
              "#7201a8"
             ],
             [
              0.3333333333333333,
              "#9c179e"
             ],
             [
              0.4444444444444444,
              "#bd3786"
             ],
             [
              0.5555555555555556,
              "#d8576b"
             ],
             [
              0.6666666666666666,
              "#ed7953"
             ],
             [
              0.7777777777777778,
              "#fb9f3a"
             ],
             [
              0.8888888888888888,
              "#fdca26"
             ],
             [
              1,
              "#f0f921"
             ]
            ],
            "type": "contour"
           }
          ],
          "contourcarpet": [
           {
            "colorbar": {
             "outlinewidth": 0,
             "ticks": ""
            },
            "type": "contourcarpet"
           }
          ],
          "heatmap": [
           {
            "colorbar": {
             "outlinewidth": 0,
             "ticks": ""
            },
            "colorscale": [
             [
              0,
              "#0d0887"
             ],
             [
              0.1111111111111111,
              "#46039f"
             ],
             [
              0.2222222222222222,
              "#7201a8"
             ],
             [
              0.3333333333333333,
              "#9c179e"
             ],
             [
              0.4444444444444444,
              "#bd3786"
             ],
             [
              0.5555555555555556,
              "#d8576b"
             ],
             [
              0.6666666666666666,
              "#ed7953"
             ],
             [
              0.7777777777777778,
              "#fb9f3a"
             ],
             [
              0.8888888888888888,
              "#fdca26"
             ],
             [
              1,
              "#f0f921"
             ]
            ],
            "type": "heatmap"
           }
          ],
          "heatmapgl": [
           {
            "colorbar": {
             "outlinewidth": 0,
             "ticks": ""
            },
            "colorscale": [
             [
              0,
              "#0d0887"
             ],
             [
              0.1111111111111111,
              "#46039f"
             ],
             [
              0.2222222222222222,
              "#7201a8"
             ],
             [
              0.3333333333333333,
              "#9c179e"
             ],
             [
              0.4444444444444444,
              "#bd3786"
             ],
             [
              0.5555555555555556,
              "#d8576b"
             ],
             [
              0.6666666666666666,
              "#ed7953"
             ],
             [
              0.7777777777777778,
              "#fb9f3a"
             ],
             [
              0.8888888888888888,
              "#fdca26"
             ],
             [
              1,
              "#f0f921"
             ]
            ],
            "type": "heatmapgl"
           }
          ],
          "histogram": [
           {
            "marker": {
             "pattern": {
              "fillmode": "overlay",
              "size": 10,
              "solidity": 0.2
             }
            },
            "type": "histogram"
           }
          ],
          "histogram2d": [
           {
            "colorbar": {
             "outlinewidth": 0,
             "ticks": ""
            },
            "colorscale": [
             [
              0,
              "#0d0887"
             ],
             [
              0.1111111111111111,
              "#46039f"
             ],
             [
              0.2222222222222222,
              "#7201a8"
             ],
             [
              0.3333333333333333,
              "#9c179e"
             ],
             [
              0.4444444444444444,
              "#bd3786"
             ],
             [
              0.5555555555555556,
              "#d8576b"
             ],
             [
              0.6666666666666666,
              "#ed7953"
             ],
             [
              0.7777777777777778,
              "#fb9f3a"
             ],
             [
              0.8888888888888888,
              "#fdca26"
             ],
             [
              1,
              "#f0f921"
             ]
            ],
            "type": "histogram2d"
           }
          ],
          "histogram2dcontour": [
           {
            "colorbar": {
             "outlinewidth": 0,
             "ticks": ""
            },
            "colorscale": [
             [
              0,
              "#0d0887"
             ],
             [
              0.1111111111111111,
              "#46039f"
             ],
             [
              0.2222222222222222,
              "#7201a8"
             ],
             [
              0.3333333333333333,
              "#9c179e"
             ],
             [
              0.4444444444444444,
              "#bd3786"
             ],
             [
              0.5555555555555556,
              "#d8576b"
             ],
             [
              0.6666666666666666,
              "#ed7953"
             ],
             [
              0.7777777777777778,
              "#fb9f3a"
             ],
             [
              0.8888888888888888,
              "#fdca26"
             ],
             [
              1,
              "#f0f921"
             ]
            ],
            "type": "histogram2dcontour"
           }
          ],
          "mesh3d": [
           {
            "colorbar": {
             "outlinewidth": 0,
             "ticks": ""
            },
            "type": "mesh3d"
           }
          ],
          "parcoords": [
           {
            "line": {
             "colorbar": {
              "outlinewidth": 0,
              "ticks": ""
             }
            },
            "type": "parcoords"
           }
          ],
          "pie": [
           {
            "automargin": true,
            "type": "pie"
           }
          ],
          "scatter": [
           {
            "fillpattern": {
             "fillmode": "overlay",
             "size": 10,
             "solidity": 0.2
            },
            "type": "scatter"
           }
          ],
          "scatter3d": [
           {
            "line": {
             "colorbar": {
              "outlinewidth": 0,
              "ticks": ""
             }
            },
            "marker": {
             "colorbar": {
              "outlinewidth": 0,
              "ticks": ""
             }
            },
            "type": "scatter3d"
           }
          ],
          "scattercarpet": [
           {
            "marker": {
             "colorbar": {
              "outlinewidth": 0,
              "ticks": ""
             }
            },
            "type": "scattercarpet"
           }
          ],
          "scattergeo": [
           {
            "marker": {
             "colorbar": {
              "outlinewidth": 0,
              "ticks": ""
             }
            },
            "type": "scattergeo"
           }
          ],
          "scattergl": [
           {
            "marker": {
             "colorbar": {
              "outlinewidth": 0,
              "ticks": ""
             }
            },
            "type": "scattergl"
           }
          ],
          "scattermapbox": [
           {
            "marker": {
             "colorbar": {
              "outlinewidth": 0,
              "ticks": ""
             }
            },
            "type": "scattermapbox"
           }
          ],
          "scatterpolar": [
           {
            "marker": {
             "colorbar": {
              "outlinewidth": 0,
              "ticks": ""
             }
            },
            "type": "scatterpolar"
           }
          ],
          "scatterpolargl": [
           {
            "marker": {
             "colorbar": {
              "outlinewidth": 0,
              "ticks": ""
             }
            },
            "type": "scatterpolargl"
           }
          ],
          "scatterternary": [
           {
            "marker": {
             "colorbar": {
              "outlinewidth": 0,
              "ticks": ""
             }
            },
            "type": "scatterternary"
           }
          ],
          "surface": [
           {
            "colorbar": {
             "outlinewidth": 0,
             "ticks": ""
            },
            "colorscale": [
             [
              0,
              "#0d0887"
             ],
             [
              0.1111111111111111,
              "#46039f"
             ],
             [
              0.2222222222222222,
              "#7201a8"
             ],
             [
              0.3333333333333333,
              "#9c179e"
             ],
             [
              0.4444444444444444,
              "#bd3786"
             ],
             [
              0.5555555555555556,
              "#d8576b"
             ],
             [
              0.6666666666666666,
              "#ed7953"
             ],
             [
              0.7777777777777778,
              "#fb9f3a"
             ],
             [
              0.8888888888888888,
              "#fdca26"
             ],
             [
              1,
              "#f0f921"
             ]
            ],
            "type": "surface"
           }
          ],
          "table": [
           {
            "cells": {
             "fill": {
              "color": "#EBF0F8"
             },
             "line": {
              "color": "white"
             }
            },
            "header": {
             "fill": {
              "color": "#C8D4E3"
             },
             "line": {
              "color": "white"
             }
            },
            "type": "table"
           }
          ]
         },
         "layout": {
          "annotationdefaults": {
           "arrowcolor": "#2a3f5f",
           "arrowhead": 0,
           "arrowwidth": 1
          },
          "autotypenumbers": "strict",
          "coloraxis": {
           "colorbar": {
            "outlinewidth": 0,
            "ticks": ""
           }
          },
          "colorscale": {
           "diverging": [
            [
             0,
             "#8e0152"
            ],
            [
             0.1,
             "#c51b7d"
            ],
            [
             0.2,
             "#de77ae"
            ],
            [
             0.3,
             "#f1b6da"
            ],
            [
             0.4,
             "#fde0ef"
            ],
            [
             0.5,
             "#f7f7f7"
            ],
            [
             0.6,
             "#e6f5d0"
            ],
            [
             0.7,
             "#b8e186"
            ],
            [
             0.8,
             "#7fbc41"
            ],
            [
             0.9,
             "#4d9221"
            ],
            [
             1,
             "#276419"
            ]
           ],
           "sequential": [
            [
             0,
             "#0d0887"
            ],
            [
             0.1111111111111111,
             "#46039f"
            ],
            [
             0.2222222222222222,
             "#7201a8"
            ],
            [
             0.3333333333333333,
             "#9c179e"
            ],
            [
             0.4444444444444444,
             "#bd3786"
            ],
            [
             0.5555555555555556,
             "#d8576b"
            ],
            [
             0.6666666666666666,
             "#ed7953"
            ],
            [
             0.7777777777777778,
             "#fb9f3a"
            ],
            [
             0.8888888888888888,
             "#fdca26"
            ],
            [
             1,
             "#f0f921"
            ]
           ],
           "sequentialminus": [
            [
             0,
             "#0d0887"
            ],
            [
             0.1111111111111111,
             "#46039f"
            ],
            [
             0.2222222222222222,
             "#7201a8"
            ],
            [
             0.3333333333333333,
             "#9c179e"
            ],
            [
             0.4444444444444444,
             "#bd3786"
            ],
            [
             0.5555555555555556,
             "#d8576b"
            ],
            [
             0.6666666666666666,
             "#ed7953"
            ],
            [
             0.7777777777777778,
             "#fb9f3a"
            ],
            [
             0.8888888888888888,
             "#fdca26"
            ],
            [
             1,
             "#f0f921"
            ]
           ]
          },
          "colorway": [
           "#636efa",
           "#EF553B",
           "#00cc96",
           "#ab63fa",
           "#FFA15A",
           "#19d3f3",
           "#FF6692",
           "#B6E880",
           "#FF97FF",
           "#FECB52"
          ],
          "font": {
           "color": "#2a3f5f"
          },
          "geo": {
           "bgcolor": "white",
           "lakecolor": "white",
           "landcolor": "#E5ECF6",
           "showlakes": true,
           "showland": true,
           "subunitcolor": "white"
          },
          "hoverlabel": {
           "align": "left"
          },
          "hovermode": "closest",
          "mapbox": {
           "style": "light"
          },
          "paper_bgcolor": "white",
          "plot_bgcolor": "#E5ECF6",
          "polar": {
           "angularaxis": {
            "gridcolor": "white",
            "linecolor": "white",
            "ticks": ""
           },
           "bgcolor": "#E5ECF6",
           "radialaxis": {
            "gridcolor": "white",
            "linecolor": "white",
            "ticks": ""
           }
          },
          "scene": {
           "xaxis": {
            "backgroundcolor": "#E5ECF6",
            "gridcolor": "white",
            "gridwidth": 2,
            "linecolor": "white",
            "showbackground": true,
            "ticks": "",
            "zerolinecolor": "white"
           },
           "yaxis": {
            "backgroundcolor": "#E5ECF6",
            "gridcolor": "white",
            "gridwidth": 2,
            "linecolor": "white",
            "showbackground": true,
            "ticks": "",
            "zerolinecolor": "white"
           },
           "zaxis": {
            "backgroundcolor": "#E5ECF6",
            "gridcolor": "white",
            "gridwidth": 2,
            "linecolor": "white",
            "showbackground": true,
            "ticks": "",
            "zerolinecolor": "white"
           }
          },
          "shapedefaults": {
           "line": {
            "color": "#2a3f5f"
           }
          },
          "ternary": {
           "aaxis": {
            "gridcolor": "white",
            "linecolor": "white",
            "ticks": ""
           },
           "baxis": {
            "gridcolor": "white",
            "linecolor": "white",
            "ticks": ""
           },
           "bgcolor": "#E5ECF6",
           "caxis": {
            "gridcolor": "white",
            "linecolor": "white",
            "ticks": ""
           }
          },
          "title": {
           "x": 0.05
          },
          "xaxis": {
           "automargin": true,
           "gridcolor": "white",
           "linecolor": "white",
           "ticks": "",
           "title": {
            "standoff": 15
           },
           "zerolinecolor": "white",
           "zerolinewidth": 2
          },
          "yaxis": {
           "automargin": true,
           "gridcolor": "white",
           "linecolor": "white",
           "ticks": "",
           "title": {
            "standoff": 15
           },
           "zerolinecolor": "white",
           "zerolinewidth": 2
          }
         }
        },
        "title": {
         "text": "Precio medio en euros por m2 en Alcalá de Gra. 2009-2022"
        },
        "xaxis": {
         "anchor": "y",
         "domain": [
          0,
          1
         ],
         "title": {
          "text": "Año"
         }
        },
        "yaxis": {
         "anchor": "x",
         "domain": [
          0,
          1
         ],
         "title": {
          "text": "Euro/m2"
         }
        }
       }
      }
     },
     "metadata": {},
     "output_type": "display_data"
    }
   ],
   "source": [
    "fig6 = px.bar(precio_alcala_med,\n",
    "              x=precio_alcala_med.index,\n",
    "              y=precio_alcala_med.values,\n",
    "              title='Precio medio en euros por m2 en Alcalá de Gra. 2009-2022',\n",
    "              text_auto='.4s')\n",
    "fig6.update_xaxes(title='Año')\n",
    "fig6.update_yaxes(title='Euro/m2')\n",
    "fig6.show()"
   ]
  },
  {
   "attachments": {},
   "cell_type": "markdown",
   "metadata": {},
   "source": [
    "### Dos Hermanas"
   ]
  },
  {
   "cell_type": "code",
   "execution_count": null,
   "metadata": {},
   "outputs": [],
   "source": [
    "precio_dos_herm = pd.read_csv('data/Precio_viv_Dos_Hermanas.csv',sep='\\t')\n",
    "precio_dos_herm['Precio m2'] = precio_dos_herm['Precio m2'].replace(re.compile(r'(.€.m2)'),'')\n",
    "precio_dos_herm['Año'] = precio_dos_herm['Año'].replace(re.compile(r'[a-zA-Z]'),'')\n",
    "precio_dos_herm_med = precio_dos_herm.groupby('Año')['Precio m2'].median()"
   ]
  },
  {
   "cell_type": "code",
   "execution_count": null,
   "metadata": {},
   "outputs": [
    {
     "data": {
      "application/vnd.plotly.v1+json": {
       "config": {
        "plotlyServerURL": "https://plot.ly"
       },
       "data": [
        {
         "alignmentgroup": "True",
         "hovertemplate": "Año=%{x}<br>y=%{y}<extra></extra>",
         "legendgroup": "",
         "marker": {
          "color": "#636efa",
          "pattern": {
           "shape": ""
          }
         },
         "name": "",
         "offsetgroup": "",
         "orientation": "v",
         "showlegend": false,
         "textposition": "auto",
         "texttemplate": "%{y:.4s}",
         "type": "bar",
         "x": [
          " 2009",
          " 2010",
          " 2011",
          " 2012",
          " 2013",
          " 2014",
          " 2015",
          " 2016",
          " 2017",
          " 2018",
          " 2019",
          " 2020",
          " 2021",
          " 2022"
         ],
         "xaxis": "x",
         "y": [
          1.629,
          1.5194999999999999,
          1.51,
          1.42,
          1.2745,
          1.1760000000000002,
          1.1385,
          1.1115,
          1.1349999999999998,
          1.1245,
          1.165,
          1.194,
          1.2,
          1.251
         ],
         "yaxis": "y"
        }
       ],
       "layout": {
        "barmode": "relative",
        "legend": {
         "tracegroupgap": 0
        },
        "template": {
         "data": {
          "bar": [
           {
            "error_x": {
             "color": "#2a3f5f"
            },
            "error_y": {
             "color": "#2a3f5f"
            },
            "marker": {
             "line": {
              "color": "#E5ECF6",
              "width": 0.5
             },
             "pattern": {
              "fillmode": "overlay",
              "size": 10,
              "solidity": 0.2
             }
            },
            "type": "bar"
           }
          ],
          "barpolar": [
           {
            "marker": {
             "line": {
              "color": "#E5ECF6",
              "width": 0.5
             },
             "pattern": {
              "fillmode": "overlay",
              "size": 10,
              "solidity": 0.2
             }
            },
            "type": "barpolar"
           }
          ],
          "carpet": [
           {
            "aaxis": {
             "endlinecolor": "#2a3f5f",
             "gridcolor": "white",
             "linecolor": "white",
             "minorgridcolor": "white",
             "startlinecolor": "#2a3f5f"
            },
            "baxis": {
             "endlinecolor": "#2a3f5f",
             "gridcolor": "white",
             "linecolor": "white",
             "minorgridcolor": "white",
             "startlinecolor": "#2a3f5f"
            },
            "type": "carpet"
           }
          ],
          "choropleth": [
           {
            "colorbar": {
             "outlinewidth": 0,
             "ticks": ""
            },
            "type": "choropleth"
           }
          ],
          "contour": [
           {
            "colorbar": {
             "outlinewidth": 0,
             "ticks": ""
            },
            "colorscale": [
             [
              0,
              "#0d0887"
             ],
             [
              0.1111111111111111,
              "#46039f"
             ],
             [
              0.2222222222222222,
              "#7201a8"
             ],
             [
              0.3333333333333333,
              "#9c179e"
             ],
             [
              0.4444444444444444,
              "#bd3786"
             ],
             [
              0.5555555555555556,
              "#d8576b"
             ],
             [
              0.6666666666666666,
              "#ed7953"
             ],
             [
              0.7777777777777778,
              "#fb9f3a"
             ],
             [
              0.8888888888888888,
              "#fdca26"
             ],
             [
              1,
              "#f0f921"
             ]
            ],
            "type": "contour"
           }
          ],
          "contourcarpet": [
           {
            "colorbar": {
             "outlinewidth": 0,
             "ticks": ""
            },
            "type": "contourcarpet"
           }
          ],
          "heatmap": [
           {
            "colorbar": {
             "outlinewidth": 0,
             "ticks": ""
            },
            "colorscale": [
             [
              0,
              "#0d0887"
             ],
             [
              0.1111111111111111,
              "#46039f"
             ],
             [
              0.2222222222222222,
              "#7201a8"
             ],
             [
              0.3333333333333333,
              "#9c179e"
             ],
             [
              0.4444444444444444,
              "#bd3786"
             ],
             [
              0.5555555555555556,
              "#d8576b"
             ],
             [
              0.6666666666666666,
              "#ed7953"
             ],
             [
              0.7777777777777778,
              "#fb9f3a"
             ],
             [
              0.8888888888888888,
              "#fdca26"
             ],
             [
              1,
              "#f0f921"
             ]
            ],
            "type": "heatmap"
           }
          ],
          "heatmapgl": [
           {
            "colorbar": {
             "outlinewidth": 0,
             "ticks": ""
            },
            "colorscale": [
             [
              0,
              "#0d0887"
             ],
             [
              0.1111111111111111,
              "#46039f"
             ],
             [
              0.2222222222222222,
              "#7201a8"
             ],
             [
              0.3333333333333333,
              "#9c179e"
             ],
             [
              0.4444444444444444,
              "#bd3786"
             ],
             [
              0.5555555555555556,
              "#d8576b"
             ],
             [
              0.6666666666666666,
              "#ed7953"
             ],
             [
              0.7777777777777778,
              "#fb9f3a"
             ],
             [
              0.8888888888888888,
              "#fdca26"
             ],
             [
              1,
              "#f0f921"
             ]
            ],
            "type": "heatmapgl"
           }
          ],
          "histogram": [
           {
            "marker": {
             "pattern": {
              "fillmode": "overlay",
              "size": 10,
              "solidity": 0.2
             }
            },
            "type": "histogram"
           }
          ],
          "histogram2d": [
           {
            "colorbar": {
             "outlinewidth": 0,
             "ticks": ""
            },
            "colorscale": [
             [
              0,
              "#0d0887"
             ],
             [
              0.1111111111111111,
              "#46039f"
             ],
             [
              0.2222222222222222,
              "#7201a8"
             ],
             [
              0.3333333333333333,
              "#9c179e"
             ],
             [
              0.4444444444444444,
              "#bd3786"
             ],
             [
              0.5555555555555556,
              "#d8576b"
             ],
             [
              0.6666666666666666,
              "#ed7953"
             ],
             [
              0.7777777777777778,
              "#fb9f3a"
             ],
             [
              0.8888888888888888,
              "#fdca26"
             ],
             [
              1,
              "#f0f921"
             ]
            ],
            "type": "histogram2d"
           }
          ],
          "histogram2dcontour": [
           {
            "colorbar": {
             "outlinewidth": 0,
             "ticks": ""
            },
            "colorscale": [
             [
              0,
              "#0d0887"
             ],
             [
              0.1111111111111111,
              "#46039f"
             ],
             [
              0.2222222222222222,
              "#7201a8"
             ],
             [
              0.3333333333333333,
              "#9c179e"
             ],
             [
              0.4444444444444444,
              "#bd3786"
             ],
             [
              0.5555555555555556,
              "#d8576b"
             ],
             [
              0.6666666666666666,
              "#ed7953"
             ],
             [
              0.7777777777777778,
              "#fb9f3a"
             ],
             [
              0.8888888888888888,
              "#fdca26"
             ],
             [
              1,
              "#f0f921"
             ]
            ],
            "type": "histogram2dcontour"
           }
          ],
          "mesh3d": [
           {
            "colorbar": {
             "outlinewidth": 0,
             "ticks": ""
            },
            "type": "mesh3d"
           }
          ],
          "parcoords": [
           {
            "line": {
             "colorbar": {
              "outlinewidth": 0,
              "ticks": ""
             }
            },
            "type": "parcoords"
           }
          ],
          "pie": [
           {
            "automargin": true,
            "type": "pie"
           }
          ],
          "scatter": [
           {
            "fillpattern": {
             "fillmode": "overlay",
             "size": 10,
             "solidity": 0.2
            },
            "type": "scatter"
           }
          ],
          "scatter3d": [
           {
            "line": {
             "colorbar": {
              "outlinewidth": 0,
              "ticks": ""
             }
            },
            "marker": {
             "colorbar": {
              "outlinewidth": 0,
              "ticks": ""
             }
            },
            "type": "scatter3d"
           }
          ],
          "scattercarpet": [
           {
            "marker": {
             "colorbar": {
              "outlinewidth": 0,
              "ticks": ""
             }
            },
            "type": "scattercarpet"
           }
          ],
          "scattergeo": [
           {
            "marker": {
             "colorbar": {
              "outlinewidth": 0,
              "ticks": ""
             }
            },
            "type": "scattergeo"
           }
          ],
          "scattergl": [
           {
            "marker": {
             "colorbar": {
              "outlinewidth": 0,
              "ticks": ""
             }
            },
            "type": "scattergl"
           }
          ],
          "scattermapbox": [
           {
            "marker": {
             "colorbar": {
              "outlinewidth": 0,
              "ticks": ""
             }
            },
            "type": "scattermapbox"
           }
          ],
          "scatterpolar": [
           {
            "marker": {
             "colorbar": {
              "outlinewidth": 0,
              "ticks": ""
             }
            },
            "type": "scatterpolar"
           }
          ],
          "scatterpolargl": [
           {
            "marker": {
             "colorbar": {
              "outlinewidth": 0,
              "ticks": ""
             }
            },
            "type": "scatterpolargl"
           }
          ],
          "scatterternary": [
           {
            "marker": {
             "colorbar": {
              "outlinewidth": 0,
              "ticks": ""
             }
            },
            "type": "scatterternary"
           }
          ],
          "surface": [
           {
            "colorbar": {
             "outlinewidth": 0,
             "ticks": ""
            },
            "colorscale": [
             [
              0,
              "#0d0887"
             ],
             [
              0.1111111111111111,
              "#46039f"
             ],
             [
              0.2222222222222222,
              "#7201a8"
             ],
             [
              0.3333333333333333,
              "#9c179e"
             ],
             [
              0.4444444444444444,
              "#bd3786"
             ],
             [
              0.5555555555555556,
              "#d8576b"
             ],
             [
              0.6666666666666666,
              "#ed7953"
             ],
             [
              0.7777777777777778,
              "#fb9f3a"
             ],
             [
              0.8888888888888888,
              "#fdca26"
             ],
             [
              1,
              "#f0f921"
             ]
            ],
            "type": "surface"
           }
          ],
          "table": [
           {
            "cells": {
             "fill": {
              "color": "#EBF0F8"
             },
             "line": {
              "color": "white"
             }
            },
            "header": {
             "fill": {
              "color": "#C8D4E3"
             },
             "line": {
              "color": "white"
             }
            },
            "type": "table"
           }
          ]
         },
         "layout": {
          "annotationdefaults": {
           "arrowcolor": "#2a3f5f",
           "arrowhead": 0,
           "arrowwidth": 1
          },
          "autotypenumbers": "strict",
          "coloraxis": {
           "colorbar": {
            "outlinewidth": 0,
            "ticks": ""
           }
          },
          "colorscale": {
           "diverging": [
            [
             0,
             "#8e0152"
            ],
            [
             0.1,
             "#c51b7d"
            ],
            [
             0.2,
             "#de77ae"
            ],
            [
             0.3,
             "#f1b6da"
            ],
            [
             0.4,
             "#fde0ef"
            ],
            [
             0.5,
             "#f7f7f7"
            ],
            [
             0.6,
             "#e6f5d0"
            ],
            [
             0.7,
             "#b8e186"
            ],
            [
             0.8,
             "#7fbc41"
            ],
            [
             0.9,
             "#4d9221"
            ],
            [
             1,
             "#276419"
            ]
           ],
           "sequential": [
            [
             0,
             "#0d0887"
            ],
            [
             0.1111111111111111,
             "#46039f"
            ],
            [
             0.2222222222222222,
             "#7201a8"
            ],
            [
             0.3333333333333333,
             "#9c179e"
            ],
            [
             0.4444444444444444,
             "#bd3786"
            ],
            [
             0.5555555555555556,
             "#d8576b"
            ],
            [
             0.6666666666666666,
             "#ed7953"
            ],
            [
             0.7777777777777778,
             "#fb9f3a"
            ],
            [
             0.8888888888888888,
             "#fdca26"
            ],
            [
             1,
             "#f0f921"
            ]
           ],
           "sequentialminus": [
            [
             0,
             "#0d0887"
            ],
            [
             0.1111111111111111,
             "#46039f"
            ],
            [
             0.2222222222222222,
             "#7201a8"
            ],
            [
             0.3333333333333333,
             "#9c179e"
            ],
            [
             0.4444444444444444,
             "#bd3786"
            ],
            [
             0.5555555555555556,
             "#d8576b"
            ],
            [
             0.6666666666666666,
             "#ed7953"
            ],
            [
             0.7777777777777778,
             "#fb9f3a"
            ],
            [
             0.8888888888888888,
             "#fdca26"
            ],
            [
             1,
             "#f0f921"
            ]
           ]
          },
          "colorway": [
           "#636efa",
           "#EF553B",
           "#00cc96",
           "#ab63fa",
           "#FFA15A",
           "#19d3f3",
           "#FF6692",
           "#B6E880",
           "#FF97FF",
           "#FECB52"
          ],
          "font": {
           "color": "#2a3f5f"
          },
          "geo": {
           "bgcolor": "white",
           "lakecolor": "white",
           "landcolor": "#E5ECF6",
           "showlakes": true,
           "showland": true,
           "subunitcolor": "white"
          },
          "hoverlabel": {
           "align": "left"
          },
          "hovermode": "closest",
          "mapbox": {
           "style": "light"
          },
          "paper_bgcolor": "white",
          "plot_bgcolor": "#E5ECF6",
          "polar": {
           "angularaxis": {
            "gridcolor": "white",
            "linecolor": "white",
            "ticks": ""
           },
           "bgcolor": "#E5ECF6",
           "radialaxis": {
            "gridcolor": "white",
            "linecolor": "white",
            "ticks": ""
           }
          },
          "scene": {
           "xaxis": {
            "backgroundcolor": "#E5ECF6",
            "gridcolor": "white",
            "gridwidth": 2,
            "linecolor": "white",
            "showbackground": true,
            "ticks": "",
            "zerolinecolor": "white"
           },
           "yaxis": {
            "backgroundcolor": "#E5ECF6",
            "gridcolor": "white",
            "gridwidth": 2,
            "linecolor": "white",
            "showbackground": true,
            "ticks": "",
            "zerolinecolor": "white"
           },
           "zaxis": {
            "backgroundcolor": "#E5ECF6",
            "gridcolor": "white",
            "gridwidth": 2,
            "linecolor": "white",
            "showbackground": true,
            "ticks": "",
            "zerolinecolor": "white"
           }
          },
          "shapedefaults": {
           "line": {
            "color": "#2a3f5f"
           }
          },
          "ternary": {
           "aaxis": {
            "gridcolor": "white",
            "linecolor": "white",
            "ticks": ""
           },
           "baxis": {
            "gridcolor": "white",
            "linecolor": "white",
            "ticks": ""
           },
           "bgcolor": "#E5ECF6",
           "caxis": {
            "gridcolor": "white",
            "linecolor": "white",
            "ticks": ""
           }
          },
          "title": {
           "x": 0.05
          },
          "xaxis": {
           "automargin": true,
           "gridcolor": "white",
           "linecolor": "white",
           "ticks": "",
           "title": {
            "standoff": 15
           },
           "zerolinecolor": "white",
           "zerolinewidth": 2
          },
          "yaxis": {
           "automargin": true,
           "gridcolor": "white",
           "linecolor": "white",
           "ticks": "",
           "title": {
            "standoff": 15
           },
           "zerolinecolor": "white",
           "zerolinewidth": 2
          }
         }
        },
        "title": {
         "text": "Precio medio en euros por m2 en Dos Hermanas 2009-2022"
        },
        "xaxis": {
         "anchor": "y",
         "domain": [
          0,
          1
         ],
         "title": {
          "text": "Año"
         }
        },
        "yaxis": {
         "anchor": "x",
         "domain": [
          0,
          1
         ],
         "title": {
          "text": "Euro/m2"
         }
        }
       }
      }
     },
     "metadata": {},
     "output_type": "display_data"
    }
   ],
   "source": [
    "fig7 = px.bar(precio_dos_herm_med,\n",
    "              x=precio_dos_herm_med.index,\n",
    "              y=precio_dos_herm_med.values,\n",
    "              title='Precio medio en euros por m2 en Dos Hermanas 2009-2022',\n",
    "              text_auto='.4s')\n",
    "fig7.update_xaxes(title='Año')\n",
    "fig7.update_yaxes(title='Euro/m2')\n",
    "fig7.show()"
   ]
  },
  {
   "attachments": {},
   "cell_type": "markdown",
   "metadata": {},
   "source": [
    "#                                                             Fin"
   ]
  },
  {
   "cell_type": "code",
   "execution_count": 206,
   "metadata": {},
   "outputs": [],
   "source": [
    "saldo_migr_sev = pd.read_csv(r\"C:\\Users\\adria\\Downloads\\saldo migratorio sevilla capital.csv\",sep='\\t')"
   ]
  },
  {
   "cell_type": "code",
   "execution_count": 288,
   "metadata": {},
   "outputs": [
    {
     "data": {
      "text/html": [
       "<div>\n",
       "<style scoped>\n",
       "    .dataframe tbody tr th:only-of-type {\n",
       "        vertical-align: middle;\n",
       "    }\n",
       "\n",
       "    .dataframe tbody tr th {\n",
       "        vertical-align: top;\n",
       "    }\n",
       "\n",
       "    .dataframe thead th {\n",
       "        text-align: right;\n",
       "    }\n",
       "</style>\n",
       "<table border=\"1\" class=\"dataframe\">\n",
       "  <thead>\n",
       "    <tr style=\"text-align: right;\">\n",
       "      <th></th>\n",
       "      <th>Año</th>\n",
       "      <th>Emigraciones</th>\n",
       "      <th>Inmigraciones</th>\n",
       "      <th>Saldo migratorio</th>\n",
       "    </tr>\n",
       "  </thead>\n",
       "  <tbody>\n",
       "    <tr>\n",
       "      <th>0</th>\n",
       "      <td>2001</td>\n",
       "      <td>10241</td>\n",
       "      <td>6581</td>\n",
       "      <td>-3660</td>\n",
       "    </tr>\n",
       "    <tr>\n",
       "      <th>1</th>\n",
       "      <td>2002</td>\n",
       "      <td>13660</td>\n",
       "      <td>7882</td>\n",
       "      <td>-5778</td>\n",
       "    </tr>\n",
       "    <tr>\n",
       "      <th>2</th>\n",
       "      <td>2003</td>\n",
       "      <td>15243</td>\n",
       "      <td>7930</td>\n",
       "      <td>-7313</td>\n",
       "    </tr>\n",
       "    <tr>\n",
       "      <th>3</th>\n",
       "      <td>2004</td>\n",
       "      <td>16120</td>\n",
       "      <td>8693</td>\n",
       "      <td>-7427</td>\n",
       "    </tr>\n",
       "    <tr>\n",
       "      <th>4</th>\n",
       "      <td>2005</td>\n",
       "      <td>15468</td>\n",
       "      <td>8428</td>\n",
       "      <td>-7040</td>\n",
       "    </tr>\n",
       "    <tr>\n",
       "      <th>5</th>\n",
       "      <td>2006</td>\n",
       "      <td>16240</td>\n",
       "      <td>9084</td>\n",
       "      <td>-7156</td>\n",
       "    </tr>\n",
       "    <tr>\n",
       "      <th>6</th>\n",
       "      <td>2007</td>\n",
       "      <td>16275</td>\n",
       "      <td>9629</td>\n",
       "      <td>-6646</td>\n",
       "    </tr>\n",
       "    <tr>\n",
       "      <th>7</th>\n",
       "      <td>2008</td>\n",
       "      <td>13965</td>\n",
       "      <td>9060</td>\n",
       "      <td>-4905</td>\n",
       "    </tr>\n",
       "    <tr>\n",
       "      <th>8</th>\n",
       "      <td>2009</td>\n",
       "      <td>13843</td>\n",
       "      <td>9593</td>\n",
       "      <td>-4250</td>\n",
       "    </tr>\n",
       "    <tr>\n",
       "      <th>9</th>\n",
       "      <td>2010</td>\n",
       "      <td>14467</td>\n",
       "      <td>10830</td>\n",
       "      <td>-3637</td>\n",
       "    </tr>\n",
       "    <tr>\n",
       "      <th>10</th>\n",
       "      <td>2011</td>\n",
       "      <td>12694</td>\n",
       "      <td>10390</td>\n",
       "      <td>-2304</td>\n",
       "    </tr>\n",
       "    <tr>\n",
       "      <th>11</th>\n",
       "      <td>2012</td>\n",
       "      <td>11414</td>\n",
       "      <td>9797</td>\n",
       "      <td>-1617</td>\n",
       "    </tr>\n",
       "    <tr>\n",
       "      <th>12</th>\n",
       "      <td>2013</td>\n",
       "      <td>11308</td>\n",
       "      <td>10369</td>\n",
       "      <td>-939</td>\n",
       "    </tr>\n",
       "    <tr>\n",
       "      <th>13</th>\n",
       "      <td>2014</td>\n",
       "      <td>11803</td>\n",
       "      <td>10304</td>\n",
       "      <td>-1499</td>\n",
       "    </tr>\n",
       "    <tr>\n",
       "      <th>14</th>\n",
       "      <td>2015</td>\n",
       "      <td>11655</td>\n",
       "      <td>11227</td>\n",
       "      <td>-428</td>\n",
       "    </tr>\n",
       "    <tr>\n",
       "      <th>15</th>\n",
       "      <td>2016</td>\n",
       "      <td>10739</td>\n",
       "      <td>10497</td>\n",
       "      <td>-242</td>\n",
       "    </tr>\n",
       "    <tr>\n",
       "      <th>16</th>\n",
       "      <td>2017</td>\n",
       "      <td>10761</td>\n",
       "      <td>10223</td>\n",
       "      <td>-538</td>\n",
       "    </tr>\n",
       "    <tr>\n",
       "      <th>17</th>\n",
       "      <td>2018</td>\n",
       "      <td>11427</td>\n",
       "      <td>10888</td>\n",
       "      <td>-539</td>\n",
       "    </tr>\n",
       "    <tr>\n",
       "      <th>18</th>\n",
       "      <td>2019</td>\n",
       "      <td>11818</td>\n",
       "      <td>9973</td>\n",
       "      <td>-1845</td>\n",
       "    </tr>\n",
       "    <tr>\n",
       "      <th>19</th>\n",
       "      <td>2020</td>\n",
       "      <td>13264</td>\n",
       "      <td>8868</td>\n",
       "      <td>-4396</td>\n",
       "    </tr>\n",
       "    <tr>\n",
       "      <th>20</th>\n",
       "      <td>2021</td>\n",
       "      <td>13363</td>\n",
       "      <td>10457</td>\n",
       "      <td>-2906</td>\n",
       "    </tr>\n",
       "  </tbody>\n",
       "</table>\n",
       "</div>"
      ],
      "text/plain": [
       "     Año  Emigraciones  Inmigraciones  Saldo migratorio\n",
       "0   2001         10241           6581             -3660\n",
       "1   2002         13660           7882             -5778\n",
       "2   2003         15243           7930             -7313\n",
       "3   2004         16120           8693             -7427\n",
       "4   2005         15468           8428             -7040\n",
       "5   2006         16240           9084             -7156\n",
       "6   2007         16275           9629             -6646\n",
       "7   2008         13965           9060             -4905\n",
       "8   2009         13843           9593             -4250\n",
       "9   2010         14467          10830             -3637\n",
       "10  2011         12694          10390             -2304\n",
       "11  2012         11414           9797             -1617\n",
       "12  2013         11308          10369              -939\n",
       "13  2014         11803          10304             -1499\n",
       "14  2015         11655          11227              -428\n",
       "15  2016         10739          10497              -242\n",
       "16  2017         10761          10223              -538\n",
       "17  2018         11427          10888              -539\n",
       "18  2019         11818           9973             -1845\n",
       "19  2020         13264           8868             -4396\n",
       "20  2021         13363          10457             -2906"
      ]
     },
     "execution_count": 288,
     "metadata": {},
     "output_type": "execute_result"
    }
   ],
   "source": [
    "saldo_migr_sev"
   ]
  },
  {
   "cell_type": "code",
   "execution_count": 208,
   "metadata": {},
   "outputs": [
    {
     "data": {
      "application/vnd.plotly.v1+json": {
       "config": {
        "plotlyServerURL": "https://plot.ly"
       },
       "data": [
        {
         "alignmentgroup": "True",
         "hovertemplate": "variable=Saldo migratorio<br>Año=%{x}<br>value=%{y}<extra></extra>",
         "legendgroup": "Saldo migratorio",
         "marker": {
          "color": "red",
          "pattern": {
           "shape": ""
          }
         },
         "name": "Saldo migratorio",
         "offsetgroup": "Saldo migratorio",
         "orientation": "v",
         "showlegend": true,
         "textposition": "auto",
         "texttemplate": "%{y:.3s}",
         "type": "bar",
         "x": [
          2001,
          2002,
          2003,
          2004,
          2005,
          2006,
          2007,
          2008,
          2009,
          2010,
          2011,
          2012,
          2013,
          2014,
          2015,
          2016,
          2017,
          2018,
          2019,
          2020,
          2021
         ],
         "xaxis": "x",
         "y": [
          -3660,
          -5778,
          -7313,
          -7427,
          -7040,
          -7156,
          -6646,
          -4905,
          -4250,
          -3637,
          -2304,
          -1617,
          -939,
          -1499,
          -428,
          -242,
          -538,
          -539,
          -1845,
          -4396,
          -2906
         ],
         "yaxis": "y"
        },
        {
         "alignmentgroup": "True",
         "hovertemplate": "variable=Inmigraciones<br>Año=%{x}<br>value=%{y}<extra></extra>",
         "legendgroup": "Inmigraciones",
         "marker": {
          "color": "green",
          "pattern": {
           "shape": ""
          }
         },
         "name": "Inmigraciones",
         "offsetgroup": "Inmigraciones",
         "orientation": "v",
         "showlegend": true,
         "textposition": "auto",
         "texttemplate": "%{y:.3s}",
         "type": "bar",
         "x": [
          2001,
          2002,
          2003,
          2004,
          2005,
          2006,
          2007,
          2008,
          2009,
          2010,
          2011,
          2012,
          2013,
          2014,
          2015,
          2016,
          2017,
          2018,
          2019,
          2020,
          2021
         ],
         "xaxis": "x",
         "y": [
          6581,
          7882,
          7930,
          8693,
          8428,
          9084,
          9629,
          9060,
          9593,
          10830,
          10390,
          9797,
          10369,
          10304,
          11227,
          10497,
          10223,
          10888,
          9973,
          8868,
          10457
         ],
         "yaxis": "y"
        },
        {
         "alignmentgroup": "True",
         "hovertemplate": "variable=Emigraciones<br>Año=%{x}<br>value=%{y}<extra></extra>",
         "legendgroup": "Emigraciones",
         "marker": {
          "color": "blue",
          "pattern": {
           "shape": ""
          }
         },
         "name": "Emigraciones",
         "offsetgroup": "Emigraciones",
         "orientation": "v",
         "showlegend": true,
         "textposition": "auto",
         "texttemplate": "%{y:.3s}",
         "type": "bar",
         "x": [
          2001,
          2002,
          2003,
          2004,
          2005,
          2006,
          2007,
          2008,
          2009,
          2010,
          2011,
          2012,
          2013,
          2014,
          2015,
          2016,
          2017,
          2018,
          2019,
          2020,
          2021
         ],
         "xaxis": "x",
         "y": [
          10241,
          13660,
          15243,
          16120,
          15468,
          16240,
          16275,
          13965,
          13843,
          14467,
          12694,
          11414,
          11308,
          11803,
          11655,
          10739,
          10761,
          11427,
          11818,
          13264,
          13363
         ],
         "yaxis": "y"
        }
       ],
       "layout": {
        "barmode": "relative",
        "legend": {
         "title": {
          "text": "variable"
         },
         "tracegroupgap": 0
        },
        "template": {
         "data": {
          "bar": [
           {
            "error_x": {
             "color": "#2a3f5f"
            },
            "error_y": {
             "color": "#2a3f5f"
            },
            "marker": {
             "line": {
              "color": "#E5ECF6",
              "width": 0.5
             },
             "pattern": {
              "fillmode": "overlay",
              "size": 10,
              "solidity": 0.2
             }
            },
            "type": "bar"
           }
          ],
          "barpolar": [
           {
            "marker": {
             "line": {
              "color": "#E5ECF6",
              "width": 0.5
             },
             "pattern": {
              "fillmode": "overlay",
              "size": 10,
              "solidity": 0.2
             }
            },
            "type": "barpolar"
           }
          ],
          "carpet": [
           {
            "aaxis": {
             "endlinecolor": "#2a3f5f",
             "gridcolor": "white",
             "linecolor": "white",
             "minorgridcolor": "white",
             "startlinecolor": "#2a3f5f"
            },
            "baxis": {
             "endlinecolor": "#2a3f5f",
             "gridcolor": "white",
             "linecolor": "white",
             "minorgridcolor": "white",
             "startlinecolor": "#2a3f5f"
            },
            "type": "carpet"
           }
          ],
          "choropleth": [
           {
            "colorbar": {
             "outlinewidth": 0,
             "ticks": ""
            },
            "type": "choropleth"
           }
          ],
          "contour": [
           {
            "colorbar": {
             "outlinewidth": 0,
             "ticks": ""
            },
            "colorscale": [
             [
              0,
              "#0d0887"
             ],
             [
              0.1111111111111111,
              "#46039f"
             ],
             [
              0.2222222222222222,
              "#7201a8"
             ],
             [
              0.3333333333333333,
              "#9c179e"
             ],
             [
              0.4444444444444444,
              "#bd3786"
             ],
             [
              0.5555555555555556,
              "#d8576b"
             ],
             [
              0.6666666666666666,
              "#ed7953"
             ],
             [
              0.7777777777777778,
              "#fb9f3a"
             ],
             [
              0.8888888888888888,
              "#fdca26"
             ],
             [
              1,
              "#f0f921"
             ]
            ],
            "type": "contour"
           }
          ],
          "contourcarpet": [
           {
            "colorbar": {
             "outlinewidth": 0,
             "ticks": ""
            },
            "type": "contourcarpet"
           }
          ],
          "heatmap": [
           {
            "colorbar": {
             "outlinewidth": 0,
             "ticks": ""
            },
            "colorscale": [
             [
              0,
              "#0d0887"
             ],
             [
              0.1111111111111111,
              "#46039f"
             ],
             [
              0.2222222222222222,
              "#7201a8"
             ],
             [
              0.3333333333333333,
              "#9c179e"
             ],
             [
              0.4444444444444444,
              "#bd3786"
             ],
             [
              0.5555555555555556,
              "#d8576b"
             ],
             [
              0.6666666666666666,
              "#ed7953"
             ],
             [
              0.7777777777777778,
              "#fb9f3a"
             ],
             [
              0.8888888888888888,
              "#fdca26"
             ],
             [
              1,
              "#f0f921"
             ]
            ],
            "type": "heatmap"
           }
          ],
          "heatmapgl": [
           {
            "colorbar": {
             "outlinewidth": 0,
             "ticks": ""
            },
            "colorscale": [
             [
              0,
              "#0d0887"
             ],
             [
              0.1111111111111111,
              "#46039f"
             ],
             [
              0.2222222222222222,
              "#7201a8"
             ],
             [
              0.3333333333333333,
              "#9c179e"
             ],
             [
              0.4444444444444444,
              "#bd3786"
             ],
             [
              0.5555555555555556,
              "#d8576b"
             ],
             [
              0.6666666666666666,
              "#ed7953"
             ],
             [
              0.7777777777777778,
              "#fb9f3a"
             ],
             [
              0.8888888888888888,
              "#fdca26"
             ],
             [
              1,
              "#f0f921"
             ]
            ],
            "type": "heatmapgl"
           }
          ],
          "histogram": [
           {
            "marker": {
             "pattern": {
              "fillmode": "overlay",
              "size": 10,
              "solidity": 0.2
             }
            },
            "type": "histogram"
           }
          ],
          "histogram2d": [
           {
            "colorbar": {
             "outlinewidth": 0,
             "ticks": ""
            },
            "colorscale": [
             [
              0,
              "#0d0887"
             ],
             [
              0.1111111111111111,
              "#46039f"
             ],
             [
              0.2222222222222222,
              "#7201a8"
             ],
             [
              0.3333333333333333,
              "#9c179e"
             ],
             [
              0.4444444444444444,
              "#bd3786"
             ],
             [
              0.5555555555555556,
              "#d8576b"
             ],
             [
              0.6666666666666666,
              "#ed7953"
             ],
             [
              0.7777777777777778,
              "#fb9f3a"
             ],
             [
              0.8888888888888888,
              "#fdca26"
             ],
             [
              1,
              "#f0f921"
             ]
            ],
            "type": "histogram2d"
           }
          ],
          "histogram2dcontour": [
           {
            "colorbar": {
             "outlinewidth": 0,
             "ticks": ""
            },
            "colorscale": [
             [
              0,
              "#0d0887"
             ],
             [
              0.1111111111111111,
              "#46039f"
             ],
             [
              0.2222222222222222,
              "#7201a8"
             ],
             [
              0.3333333333333333,
              "#9c179e"
             ],
             [
              0.4444444444444444,
              "#bd3786"
             ],
             [
              0.5555555555555556,
              "#d8576b"
             ],
             [
              0.6666666666666666,
              "#ed7953"
             ],
             [
              0.7777777777777778,
              "#fb9f3a"
             ],
             [
              0.8888888888888888,
              "#fdca26"
             ],
             [
              1,
              "#f0f921"
             ]
            ],
            "type": "histogram2dcontour"
           }
          ],
          "mesh3d": [
           {
            "colorbar": {
             "outlinewidth": 0,
             "ticks": ""
            },
            "type": "mesh3d"
           }
          ],
          "parcoords": [
           {
            "line": {
             "colorbar": {
              "outlinewidth": 0,
              "ticks": ""
             }
            },
            "type": "parcoords"
           }
          ],
          "pie": [
           {
            "automargin": true,
            "type": "pie"
           }
          ],
          "scatter": [
           {
            "fillpattern": {
             "fillmode": "overlay",
             "size": 10,
             "solidity": 0.2
            },
            "type": "scatter"
           }
          ],
          "scatter3d": [
           {
            "line": {
             "colorbar": {
              "outlinewidth": 0,
              "ticks": ""
             }
            },
            "marker": {
             "colorbar": {
              "outlinewidth": 0,
              "ticks": ""
             }
            },
            "type": "scatter3d"
           }
          ],
          "scattercarpet": [
           {
            "marker": {
             "colorbar": {
              "outlinewidth": 0,
              "ticks": ""
             }
            },
            "type": "scattercarpet"
           }
          ],
          "scattergeo": [
           {
            "marker": {
             "colorbar": {
              "outlinewidth": 0,
              "ticks": ""
             }
            },
            "type": "scattergeo"
           }
          ],
          "scattergl": [
           {
            "marker": {
             "colorbar": {
              "outlinewidth": 0,
              "ticks": ""
             }
            },
            "type": "scattergl"
           }
          ],
          "scattermapbox": [
           {
            "marker": {
             "colorbar": {
              "outlinewidth": 0,
              "ticks": ""
             }
            },
            "type": "scattermapbox"
           }
          ],
          "scatterpolar": [
           {
            "marker": {
             "colorbar": {
              "outlinewidth": 0,
              "ticks": ""
             }
            },
            "type": "scatterpolar"
           }
          ],
          "scatterpolargl": [
           {
            "marker": {
             "colorbar": {
              "outlinewidth": 0,
              "ticks": ""
             }
            },
            "type": "scatterpolargl"
           }
          ],
          "scatterternary": [
           {
            "marker": {
             "colorbar": {
              "outlinewidth": 0,
              "ticks": ""
             }
            },
            "type": "scatterternary"
           }
          ],
          "surface": [
           {
            "colorbar": {
             "outlinewidth": 0,
             "ticks": ""
            },
            "colorscale": [
             [
              0,
              "#0d0887"
             ],
             [
              0.1111111111111111,
              "#46039f"
             ],
             [
              0.2222222222222222,
              "#7201a8"
             ],
             [
              0.3333333333333333,
              "#9c179e"
             ],
             [
              0.4444444444444444,
              "#bd3786"
             ],
             [
              0.5555555555555556,
              "#d8576b"
             ],
             [
              0.6666666666666666,
              "#ed7953"
             ],
             [
              0.7777777777777778,
              "#fb9f3a"
             ],
             [
              0.8888888888888888,
              "#fdca26"
             ],
             [
              1,
              "#f0f921"
             ]
            ],
            "type": "surface"
           }
          ],
          "table": [
           {
            "cells": {
             "fill": {
              "color": "#EBF0F8"
             },
             "line": {
              "color": "white"
             }
            },
            "header": {
             "fill": {
              "color": "#C8D4E3"
             },
             "line": {
              "color": "white"
             }
            },
            "type": "table"
           }
          ]
         },
         "layout": {
          "annotationdefaults": {
           "arrowcolor": "#2a3f5f",
           "arrowhead": 0,
           "arrowwidth": 1
          },
          "autotypenumbers": "strict",
          "coloraxis": {
           "colorbar": {
            "outlinewidth": 0,
            "ticks": ""
           }
          },
          "colorscale": {
           "diverging": [
            [
             0,
             "#8e0152"
            ],
            [
             0.1,
             "#c51b7d"
            ],
            [
             0.2,
             "#de77ae"
            ],
            [
             0.3,
             "#f1b6da"
            ],
            [
             0.4,
             "#fde0ef"
            ],
            [
             0.5,
             "#f7f7f7"
            ],
            [
             0.6,
             "#e6f5d0"
            ],
            [
             0.7,
             "#b8e186"
            ],
            [
             0.8,
             "#7fbc41"
            ],
            [
             0.9,
             "#4d9221"
            ],
            [
             1,
             "#276419"
            ]
           ],
           "sequential": [
            [
             0,
             "#0d0887"
            ],
            [
             0.1111111111111111,
             "#46039f"
            ],
            [
             0.2222222222222222,
             "#7201a8"
            ],
            [
             0.3333333333333333,
             "#9c179e"
            ],
            [
             0.4444444444444444,
             "#bd3786"
            ],
            [
             0.5555555555555556,
             "#d8576b"
            ],
            [
             0.6666666666666666,
             "#ed7953"
            ],
            [
             0.7777777777777778,
             "#fb9f3a"
            ],
            [
             0.8888888888888888,
             "#fdca26"
            ],
            [
             1,
             "#f0f921"
            ]
           ],
           "sequentialminus": [
            [
             0,
             "#0d0887"
            ],
            [
             0.1111111111111111,
             "#46039f"
            ],
            [
             0.2222222222222222,
             "#7201a8"
            ],
            [
             0.3333333333333333,
             "#9c179e"
            ],
            [
             0.4444444444444444,
             "#bd3786"
            ],
            [
             0.5555555555555556,
             "#d8576b"
            ],
            [
             0.6666666666666666,
             "#ed7953"
            ],
            [
             0.7777777777777778,
             "#fb9f3a"
            ],
            [
             0.8888888888888888,
             "#fdca26"
            ],
            [
             1,
             "#f0f921"
            ]
           ]
          },
          "colorway": [
           "#636efa",
           "#EF553B",
           "#00cc96",
           "#ab63fa",
           "#FFA15A",
           "#19d3f3",
           "#FF6692",
           "#B6E880",
           "#FF97FF",
           "#FECB52"
          ],
          "font": {
           "color": "#2a3f5f"
          },
          "geo": {
           "bgcolor": "white",
           "lakecolor": "white",
           "landcolor": "#E5ECF6",
           "showlakes": true,
           "showland": true,
           "subunitcolor": "white"
          },
          "hoverlabel": {
           "align": "left"
          },
          "hovermode": "closest",
          "mapbox": {
           "style": "light"
          },
          "paper_bgcolor": "white",
          "plot_bgcolor": "#E5ECF6",
          "polar": {
           "angularaxis": {
            "gridcolor": "white",
            "linecolor": "white",
            "ticks": ""
           },
           "bgcolor": "#E5ECF6",
           "radialaxis": {
            "gridcolor": "white",
            "linecolor": "white",
            "ticks": ""
           }
          },
          "scene": {
           "xaxis": {
            "backgroundcolor": "#E5ECF6",
            "gridcolor": "white",
            "gridwidth": 2,
            "linecolor": "white",
            "showbackground": true,
            "ticks": "",
            "zerolinecolor": "white"
           },
           "yaxis": {
            "backgroundcolor": "#E5ECF6",
            "gridcolor": "white",
            "gridwidth": 2,
            "linecolor": "white",
            "showbackground": true,
            "ticks": "",
            "zerolinecolor": "white"
           },
           "zaxis": {
            "backgroundcolor": "#E5ECF6",
            "gridcolor": "white",
            "gridwidth": 2,
            "linecolor": "white",
            "showbackground": true,
            "ticks": "",
            "zerolinecolor": "white"
           }
          },
          "shapedefaults": {
           "line": {
            "color": "#2a3f5f"
           }
          },
          "ternary": {
           "aaxis": {
            "gridcolor": "white",
            "linecolor": "white",
            "ticks": ""
           },
           "baxis": {
            "gridcolor": "white",
            "linecolor": "white",
            "ticks": ""
           },
           "bgcolor": "#E5ECF6",
           "caxis": {
            "gridcolor": "white",
            "linecolor": "white",
            "ticks": ""
           }
          },
          "title": {
           "x": 0.05
          },
          "xaxis": {
           "automargin": true,
           "gridcolor": "white",
           "linecolor": "white",
           "ticks": "",
           "title": {
            "standoff": 15
           },
           "zerolinecolor": "white",
           "zerolinewidth": 2
          },
          "yaxis": {
           "automargin": true,
           "gridcolor": "white",
           "linecolor": "white",
           "ticks": "",
           "title": {
            "standoff": 15
           },
           "zerolinecolor": "white",
           "zerolinewidth": 2
          }
         }
        },
        "title": {
         "text": "Saldo migratorio 2001-2021"
        },
        "xaxis": {
         "anchor": "y",
         "domain": [
          0,
          1
         ],
         "title": {
          "text": "Año"
         }
        },
        "yaxis": {
         "anchor": "x",
         "domain": [
          0,
          1
         ],
         "title": {
          "text": "Población"
         }
        }
       }
      }
     },
     "metadata": {},
     "output_type": "display_data"
    }
   ],
   "source": [
    "fig8 = px.bar(saldo_migr_sev,\n",
    "              y=['Saldo migratorio','Inmigraciones','Emigraciones'],\n",
    "              x='Año',text_auto='.3s',\n",
    "              color_discrete_map={'Saldo migratorio':'red','Inmigraciones':'green','Emigraciones':'blue'},\n",
    "              title='Saldo migratorio 2001-2021'\n",
    "              )\n",
    "fig8.update_yaxes(title = 'Población')\n",
    "fig8.show()"
   ]
  },
  {
   "cell_type": "code",
   "execution_count": 185,
   "metadata": {},
   "outputs": [],
   "source": [
    "pob_mun = pd.read_csv('data/poblacion_municipios.csv')"
   ]
  },
  {
   "cell_type": "code",
   "execution_count": 230,
   "metadata": {},
   "outputs": [],
   "source": [
    "min_diez = pob_mun.iloc[[6859,4213,6341,2915,2238,6299,3096,2875,3120,6349]]"
   ]
  },
  {
   "cell_type": "code",
   "execution_count": 256,
   "metadata": {},
   "outputs": [
    {
     "data": {
      "text/html": [
       "<div>\n",
       "<style scoped>\n",
       "    .dataframe tbody tr th:only-of-type {\n",
       "        vertical-align: middle;\n",
       "    }\n",
       "\n",
       "    .dataframe tbody tr th {\n",
       "        vertical-align: top;\n",
       "    }\n",
       "\n",
       "    .dataframe thead th {\n",
       "        text-align: right;\n",
       "    }\n",
       "</style>\n",
       "<table border=\"1\" class=\"dataframe\">\n",
       "  <thead>\n",
       "    <tr style=\"text-align: right;\">\n",
       "      <th></th>\n",
       "      <th>Municipios</th>\n",
       "      <th>Total</th>\n",
       "    </tr>\n",
       "  </thead>\n",
       "  <tbody>\n",
       "    <tr>\n",
       "      <th>4296</th>\n",
       "      <td>Alcorcon</td>\n",
       "      <td>171575.0</td>\n",
       "    </tr>\n",
       "    <tr>\n",
       "      <th>5836</th>\n",
       "      <td>Santander</td>\n",
       "      <td>172000.0</td>\n",
       "    </tr>\n",
       "    <tr>\n",
       "      <th>1848</th>\n",
       "      <td>Castello de la Plana</td>\n",
       "      <td>172637.0</td>\n",
       "    </tr>\n",
       "    <tr>\n",
       "      <th>53</th>\n",
       "      <td>Albacete</td>\n",
       "      <td>172806.0</td>\n",
       "    </tr>\n",
       "    <tr>\n",
       "      <th>1221</th>\n",
       "      <td>Burgos</td>\n",
       "      <td>174154.0</td>\n",
       "    </tr>\n",
       "    <tr>\n",
       "      <th>4354</th>\n",
       "      <td>Getafe</td>\n",
       "      <td>183872.0</td>\n",
       "    </tr>\n",
       "    <tr>\n",
       "      <th>3170</th>\n",
       "      <td>Donostia/San Sebasti n</td>\n",
       "      <td>187892.0</td>\n",
       "    </tr>\n",
       "    <tr>\n",
       "      <th>4363</th>\n",
       "      <td>Legan s</td>\n",
       "      <td>188687.0</td>\n",
       "    </tr>\n",
       "    <tr>\n",
       "      <th>4347</th>\n",
       "      <td>Fuenlabrada</td>\n",
       "      <td>192612.0</td>\n",
       "    </tr>\n",
       "    <tr>\n",
       "      <th>4294</th>\n",
       "      <td>Alcal  de Henares</td>\n",
       "      <td>195570.0</td>\n",
       "    </tr>\n",
       "  </tbody>\n",
       "</table>\n",
       "</div>"
      ],
      "text/plain": [
       "                   Municipios     Total\n",
       "4296                 Alcorcon  171575.0\n",
       "5836                Santander  172000.0\n",
       "1848     Castello de la Plana  172637.0\n",
       "53                   Albacete  172806.0\n",
       "1221                   Burgos  174154.0\n",
       "4354                   Getafe  183872.0\n",
       "3170   Donostia/San Sebasti n  187892.0\n",
       "4363                  Legan s  188687.0\n",
       "4347              Fuenlabrada  192612.0\n",
       "4294        Alcal  de Henares  195570.0"
      ]
     },
     "execution_count": 256,
     "metadata": {},
     "output_type": "execute_result"
    }
   ],
   "source": [
    "pob_mun[pob_mun['Total']<200000].sort_values(by='Total').tail(10)"
   ]
  },
  {
   "cell_type": "code",
   "execution_count": 239,
   "metadata": {},
   "outputs": [
    {
     "data": {
      "application/vnd.plotly.v1+json": {
       "config": {
        "plotlyServerURL": "https://plot.ly"
       },
       "data": [
        {
         "alignmentgroup": "True",
         "hovertemplate": "Municipios=%{x}<br>Total=%{y}<extra></extra>",
         "legendgroup": "",
         "marker": {
          "color": "green",
          "line": {
           "color": "red",
           "width": 3
          },
          "pattern": {
           "shape": ""
          }
         },
         "name": "",
         "offsetgroup": "",
         "orientation": "v",
         "showlegend": false,
         "textposition": "auto",
         "texttemplate": "%{y}",
         "type": "bar",
         "x": [
          " Ill n de Vacas",
          " Villarroya",
          " Valdeprado",
          " Castilnuevo",
          " Arandilla del Arroyo",
          " Qui oneria",
          " Torremochuela",
          " Angon",
          " Valtablado del Rio",
          " Villanueva de Gormaz"
         ],
         "xaxis": "x",
         "y": [
          3,
          5,
          6,
          6,
          7,
          8,
          8,
          8,
          8,
          8
         ],
         "yaxis": "y"
        }
       ],
       "layout": {
        "barmode": "relative",
        "legend": {
         "tracegroupgap": 0
        },
        "template": {
         "data": {
          "bar": [
           {
            "error_x": {
             "color": "#2a3f5f"
            },
            "error_y": {
             "color": "#2a3f5f"
            },
            "marker": {
             "line": {
              "color": "#E5ECF6",
              "width": 0.5
             },
             "pattern": {
              "fillmode": "overlay",
              "size": 10,
              "solidity": 0.2
             }
            },
            "type": "bar"
           }
          ],
          "barpolar": [
           {
            "marker": {
             "line": {
              "color": "#E5ECF6",
              "width": 0.5
             },
             "pattern": {
              "fillmode": "overlay",
              "size": 10,
              "solidity": 0.2
             }
            },
            "type": "barpolar"
           }
          ],
          "carpet": [
           {
            "aaxis": {
             "endlinecolor": "#2a3f5f",
             "gridcolor": "white",
             "linecolor": "white",
             "minorgridcolor": "white",
             "startlinecolor": "#2a3f5f"
            },
            "baxis": {
             "endlinecolor": "#2a3f5f",
             "gridcolor": "white",
             "linecolor": "white",
             "minorgridcolor": "white",
             "startlinecolor": "#2a3f5f"
            },
            "type": "carpet"
           }
          ],
          "choropleth": [
           {
            "colorbar": {
             "outlinewidth": 0,
             "ticks": ""
            },
            "type": "choropleth"
           }
          ],
          "contour": [
           {
            "colorbar": {
             "outlinewidth": 0,
             "ticks": ""
            },
            "colorscale": [
             [
              0,
              "#0d0887"
             ],
             [
              0.1111111111111111,
              "#46039f"
             ],
             [
              0.2222222222222222,
              "#7201a8"
             ],
             [
              0.3333333333333333,
              "#9c179e"
             ],
             [
              0.4444444444444444,
              "#bd3786"
             ],
             [
              0.5555555555555556,
              "#d8576b"
             ],
             [
              0.6666666666666666,
              "#ed7953"
             ],
             [
              0.7777777777777778,
              "#fb9f3a"
             ],
             [
              0.8888888888888888,
              "#fdca26"
             ],
             [
              1,
              "#f0f921"
             ]
            ],
            "type": "contour"
           }
          ],
          "contourcarpet": [
           {
            "colorbar": {
             "outlinewidth": 0,
             "ticks": ""
            },
            "type": "contourcarpet"
           }
          ],
          "heatmap": [
           {
            "colorbar": {
             "outlinewidth": 0,
             "ticks": ""
            },
            "colorscale": [
             [
              0,
              "#0d0887"
             ],
             [
              0.1111111111111111,
              "#46039f"
             ],
             [
              0.2222222222222222,
              "#7201a8"
             ],
             [
              0.3333333333333333,
              "#9c179e"
             ],
             [
              0.4444444444444444,
              "#bd3786"
             ],
             [
              0.5555555555555556,
              "#d8576b"
             ],
             [
              0.6666666666666666,
              "#ed7953"
             ],
             [
              0.7777777777777778,
              "#fb9f3a"
             ],
             [
              0.8888888888888888,
              "#fdca26"
             ],
             [
              1,
              "#f0f921"
             ]
            ],
            "type": "heatmap"
           }
          ],
          "heatmapgl": [
           {
            "colorbar": {
             "outlinewidth": 0,
             "ticks": ""
            },
            "colorscale": [
             [
              0,
              "#0d0887"
             ],
             [
              0.1111111111111111,
              "#46039f"
             ],
             [
              0.2222222222222222,
              "#7201a8"
             ],
             [
              0.3333333333333333,
              "#9c179e"
             ],
             [
              0.4444444444444444,
              "#bd3786"
             ],
             [
              0.5555555555555556,
              "#d8576b"
             ],
             [
              0.6666666666666666,
              "#ed7953"
             ],
             [
              0.7777777777777778,
              "#fb9f3a"
             ],
             [
              0.8888888888888888,
              "#fdca26"
             ],
             [
              1,
              "#f0f921"
             ]
            ],
            "type": "heatmapgl"
           }
          ],
          "histogram": [
           {
            "marker": {
             "pattern": {
              "fillmode": "overlay",
              "size": 10,
              "solidity": 0.2
             }
            },
            "type": "histogram"
           }
          ],
          "histogram2d": [
           {
            "colorbar": {
             "outlinewidth": 0,
             "ticks": ""
            },
            "colorscale": [
             [
              0,
              "#0d0887"
             ],
             [
              0.1111111111111111,
              "#46039f"
             ],
             [
              0.2222222222222222,
              "#7201a8"
             ],
             [
              0.3333333333333333,
              "#9c179e"
             ],
             [
              0.4444444444444444,
              "#bd3786"
             ],
             [
              0.5555555555555556,
              "#d8576b"
             ],
             [
              0.6666666666666666,
              "#ed7953"
             ],
             [
              0.7777777777777778,
              "#fb9f3a"
             ],
             [
              0.8888888888888888,
              "#fdca26"
             ],
             [
              1,
              "#f0f921"
             ]
            ],
            "type": "histogram2d"
           }
          ],
          "histogram2dcontour": [
           {
            "colorbar": {
             "outlinewidth": 0,
             "ticks": ""
            },
            "colorscale": [
             [
              0,
              "#0d0887"
             ],
             [
              0.1111111111111111,
              "#46039f"
             ],
             [
              0.2222222222222222,
              "#7201a8"
             ],
             [
              0.3333333333333333,
              "#9c179e"
             ],
             [
              0.4444444444444444,
              "#bd3786"
             ],
             [
              0.5555555555555556,
              "#d8576b"
             ],
             [
              0.6666666666666666,
              "#ed7953"
             ],
             [
              0.7777777777777778,
              "#fb9f3a"
             ],
             [
              0.8888888888888888,
              "#fdca26"
             ],
             [
              1,
              "#f0f921"
             ]
            ],
            "type": "histogram2dcontour"
           }
          ],
          "mesh3d": [
           {
            "colorbar": {
             "outlinewidth": 0,
             "ticks": ""
            },
            "type": "mesh3d"
           }
          ],
          "parcoords": [
           {
            "line": {
             "colorbar": {
              "outlinewidth": 0,
              "ticks": ""
             }
            },
            "type": "parcoords"
           }
          ],
          "pie": [
           {
            "automargin": true,
            "type": "pie"
           }
          ],
          "scatter": [
           {
            "fillpattern": {
             "fillmode": "overlay",
             "size": 10,
             "solidity": 0.2
            },
            "type": "scatter"
           }
          ],
          "scatter3d": [
           {
            "line": {
             "colorbar": {
              "outlinewidth": 0,
              "ticks": ""
             }
            },
            "marker": {
             "colorbar": {
              "outlinewidth": 0,
              "ticks": ""
             }
            },
            "type": "scatter3d"
           }
          ],
          "scattercarpet": [
           {
            "marker": {
             "colorbar": {
              "outlinewidth": 0,
              "ticks": ""
             }
            },
            "type": "scattercarpet"
           }
          ],
          "scattergeo": [
           {
            "marker": {
             "colorbar": {
              "outlinewidth": 0,
              "ticks": ""
             }
            },
            "type": "scattergeo"
           }
          ],
          "scattergl": [
           {
            "marker": {
             "colorbar": {
              "outlinewidth": 0,
              "ticks": ""
             }
            },
            "type": "scattergl"
           }
          ],
          "scattermapbox": [
           {
            "marker": {
             "colorbar": {
              "outlinewidth": 0,
              "ticks": ""
             }
            },
            "type": "scattermapbox"
           }
          ],
          "scatterpolar": [
           {
            "marker": {
             "colorbar": {
              "outlinewidth": 0,
              "ticks": ""
             }
            },
            "type": "scatterpolar"
           }
          ],
          "scatterpolargl": [
           {
            "marker": {
             "colorbar": {
              "outlinewidth": 0,
              "ticks": ""
             }
            },
            "type": "scatterpolargl"
           }
          ],
          "scatterternary": [
           {
            "marker": {
             "colorbar": {
              "outlinewidth": 0,
              "ticks": ""
             }
            },
            "type": "scatterternary"
           }
          ],
          "surface": [
           {
            "colorbar": {
             "outlinewidth": 0,
             "ticks": ""
            },
            "colorscale": [
             [
              0,
              "#0d0887"
             ],
             [
              0.1111111111111111,
              "#46039f"
             ],
             [
              0.2222222222222222,
              "#7201a8"
             ],
             [
              0.3333333333333333,
              "#9c179e"
             ],
             [
              0.4444444444444444,
              "#bd3786"
             ],
             [
              0.5555555555555556,
              "#d8576b"
             ],
             [
              0.6666666666666666,
              "#ed7953"
             ],
             [
              0.7777777777777778,
              "#fb9f3a"
             ],
             [
              0.8888888888888888,
              "#fdca26"
             ],
             [
              1,
              "#f0f921"
             ]
            ],
            "type": "surface"
           }
          ],
          "table": [
           {
            "cells": {
             "fill": {
              "color": "#EBF0F8"
             },
             "line": {
              "color": "white"
             }
            },
            "header": {
             "fill": {
              "color": "#C8D4E3"
             },
             "line": {
              "color": "white"
             }
            },
            "type": "table"
           }
          ]
         },
         "layout": {
          "annotationdefaults": {
           "arrowcolor": "#2a3f5f",
           "arrowhead": 0,
           "arrowwidth": 1
          },
          "autotypenumbers": "strict",
          "coloraxis": {
           "colorbar": {
            "outlinewidth": 0,
            "ticks": ""
           }
          },
          "colorscale": {
           "diverging": [
            [
             0,
             "#8e0152"
            ],
            [
             0.1,
             "#c51b7d"
            ],
            [
             0.2,
             "#de77ae"
            ],
            [
             0.3,
             "#f1b6da"
            ],
            [
             0.4,
             "#fde0ef"
            ],
            [
             0.5,
             "#f7f7f7"
            ],
            [
             0.6,
             "#e6f5d0"
            ],
            [
             0.7,
             "#b8e186"
            ],
            [
             0.8,
             "#7fbc41"
            ],
            [
             0.9,
             "#4d9221"
            ],
            [
             1,
             "#276419"
            ]
           ],
           "sequential": [
            [
             0,
             "#0d0887"
            ],
            [
             0.1111111111111111,
             "#46039f"
            ],
            [
             0.2222222222222222,
             "#7201a8"
            ],
            [
             0.3333333333333333,
             "#9c179e"
            ],
            [
             0.4444444444444444,
             "#bd3786"
            ],
            [
             0.5555555555555556,
             "#d8576b"
            ],
            [
             0.6666666666666666,
             "#ed7953"
            ],
            [
             0.7777777777777778,
             "#fb9f3a"
            ],
            [
             0.8888888888888888,
             "#fdca26"
            ],
            [
             1,
             "#f0f921"
            ]
           ],
           "sequentialminus": [
            [
             0,
             "#0d0887"
            ],
            [
             0.1111111111111111,
             "#46039f"
            ],
            [
             0.2222222222222222,
             "#7201a8"
            ],
            [
             0.3333333333333333,
             "#9c179e"
            ],
            [
             0.4444444444444444,
             "#bd3786"
            ],
            [
             0.5555555555555556,
             "#d8576b"
            ],
            [
             0.6666666666666666,
             "#ed7953"
            ],
            [
             0.7777777777777778,
             "#fb9f3a"
            ],
            [
             0.8888888888888888,
             "#fdca26"
            ],
            [
             1,
             "#f0f921"
            ]
           ]
          },
          "colorway": [
           "#636efa",
           "#EF553B",
           "#00cc96",
           "#ab63fa",
           "#FFA15A",
           "#19d3f3",
           "#FF6692",
           "#B6E880",
           "#FF97FF",
           "#FECB52"
          ],
          "font": {
           "color": "#2a3f5f"
          },
          "geo": {
           "bgcolor": "white",
           "lakecolor": "white",
           "landcolor": "#E5ECF6",
           "showlakes": true,
           "showland": true,
           "subunitcolor": "white"
          },
          "hoverlabel": {
           "align": "left"
          },
          "hovermode": "closest",
          "mapbox": {
           "style": "light"
          },
          "paper_bgcolor": "white",
          "plot_bgcolor": "#E5ECF6",
          "polar": {
           "angularaxis": {
            "gridcolor": "white",
            "linecolor": "white",
            "ticks": ""
           },
           "bgcolor": "#E5ECF6",
           "radialaxis": {
            "gridcolor": "white",
            "linecolor": "white",
            "ticks": ""
           }
          },
          "scene": {
           "xaxis": {
            "backgroundcolor": "#E5ECF6",
            "gridcolor": "white",
            "gridwidth": 2,
            "linecolor": "white",
            "showbackground": true,
            "ticks": "",
            "zerolinecolor": "white"
           },
           "yaxis": {
            "backgroundcolor": "#E5ECF6",
            "gridcolor": "white",
            "gridwidth": 2,
            "linecolor": "white",
            "showbackground": true,
            "ticks": "",
            "zerolinecolor": "white"
           },
           "zaxis": {
            "backgroundcolor": "#E5ECF6",
            "gridcolor": "white",
            "gridwidth": 2,
            "linecolor": "white",
            "showbackground": true,
            "ticks": "",
            "zerolinecolor": "white"
           }
          },
          "shapedefaults": {
           "line": {
            "color": "#2a3f5f"
           }
          },
          "ternary": {
           "aaxis": {
            "gridcolor": "white",
            "linecolor": "white",
            "ticks": ""
           },
           "baxis": {
            "gridcolor": "white",
            "linecolor": "white",
            "ticks": ""
           },
           "bgcolor": "#E5ECF6",
           "caxis": {
            "gridcolor": "white",
            "linecolor": "white",
            "ticks": ""
           }
          },
          "title": {
           "x": 0.05
          },
          "xaxis": {
           "automargin": true,
           "gridcolor": "white",
           "linecolor": "white",
           "ticks": "",
           "title": {
            "standoff": 15
           },
           "zerolinecolor": "white",
           "zerolinewidth": 2
          },
          "yaxis": {
           "automargin": true,
           "gridcolor": "white",
           "linecolor": "white",
           "ticks": "",
           "title": {
            "standoff": 15
           },
           "zerolinecolor": "white",
           "zerolinewidth": 2
          }
         }
        },
        "title": {
         "text": "Los 10 pueblos con menos habitantes de España"
        },
        "xaxis": {
         "anchor": "y",
         "domain": [
          0,
          1
         ],
         "title": {
          "text": "Municipios"
         }
        },
        "yaxis": {
         "anchor": "x",
         "domain": [
          0,
          1
         ],
         "title": {
          "text": "Total"
         }
        }
       }
      }
     },
     "metadata": {},
     "output_type": "display_data"
    }
   ],
   "source": [
    "fig9 = px.bar(min_diez,x='Municipios',y='Total',title='Los 10 pueblos con menos habitantes de España',text_auto=True)\n",
    "fig9.update_traces(marker_color = 'green', marker_line_color = 'red',\n",
    "                  marker_line_width = 3)\n",
    "fig9.show()"
   ]
  },
  {
   "cell_type": "code",
   "execution_count": null,
   "metadata": {},
   "outputs": [],
   "source": [
    "text = \" \".join(subject_titles for subject_titles in df[\"Country\"])\n",
    "\n",
    "wordcloud = WordCloud().generate(text)\n",
    "\n",
    "\n",
    "# Display the generated image:\n",
    "plt.imshow(wordcloud, interpolation='bilinear')\n",
    "plt.axis(\"off\")\n",
    "plt.show()"
   ]
  }
 ],
 "metadata": {
  "kernelspec": {
   "display_name": "Python 3",
   "language": "python",
   "name": "python3"
  },
  "language_info": {
   "codemirror_mode": {
    "name": "ipython",
    "version": 3
   },
   "file_extension": ".py",
   "mimetype": "text/x-python",
   "name": "python",
   "nbconvert_exporter": "python",
   "pygments_lexer": "ipython3",
   "version": "3.11.1"
  },
  "orig_nbformat": 4,
  "vscode": {
   "interpreter": {
    "hash": "0fa54a4d51c48fb0bf279ca70193b9a82383cafbc792c82808ebdd40d6f8a8a4"
   }
  }
 },
 "nbformat": 4,
 "nbformat_minor": 2
}
